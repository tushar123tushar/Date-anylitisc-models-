{
 "cells": [
  {
   "cell_type": "code",
   "execution_count": 1,
   "id": "614d40f3-589d-4dd1-9c40-159e6d5d79be",
   "metadata": {},
   "outputs": [
    {
     "data": {
      "text/plain": [
       "7"
      ]
     },
     "execution_count": 1,
     "metadata": {},
     "output_type": "execute_result"
    }
   ],
   "source": [
    "2+5"
   ]
  },
  {
   "cell_type": "code",
   "execution_count": 2,
   "id": "4fb0d574-e978-4963-b142-f34bd0328436",
   "metadata": {},
   "outputs": [
    {
     "data": {
      "text/plain": [
       "4"
      ]
     },
     "execution_count": 2,
     "metadata": {},
     "output_type": "execute_result"
    }
   ],
   "source": [
    "2+2"
   ]
  },
  {
   "cell_type": "code",
   "execution_count": 3,
   "id": "dd240bad-46c8-44c1-86e5-8b14b95ff03e",
   "metadata": {},
   "outputs": [
    {
     "name": "stdout",
     "output_type": "stream",
     "text": [
      "Hello World\n"
     ]
    }
   ],
   "source": [
    "print(\"Hello World\")"
   ]
  },
  {
   "cell_type": "code",
   "execution_count": 10,
   "id": "d01fe1f5-dfe2-4863-8df8-27a263ab4073",
   "metadata": {},
   "outputs": [
    {
     "data": {
      "text/plain": [
       "32"
      ]
     },
     "execution_count": 10,
     "metadata": {},
     "output_type": "execute_result"
    }
   ],
   "source": [
    "23+9"
   ]
  },
  {
   "cell_type": "markdown",
   "id": "036e568e-5cf6-4f76-a8c1-c1df126e2cff",
   "metadata": {},
   "source": [
    "### Simple Expressions in Python"
   ]
  },
  {
   "cell_type": "markdown",
   "id": "da4a473c-6066-4a9a-aea9-1c214a779e59",
   "metadata": {},
   "source": [
    "#### Arithemetic Operators"
   ]
  },
  {
   "cell_type": "code",
   "execution_count": 3,
   "id": "de31114f-1207-4f0d-a92e-fdf5c31dfd43",
   "metadata": {},
   "outputs": [
    {
     "data": {
      "text/plain": [
       "15"
      ]
     },
     "execution_count": 3,
     "metadata": {},
     "output_type": "execute_result"
    }
   ],
   "source": [
    "8+7"
   ]
  },
  {
   "cell_type": "code",
   "execution_count": 5,
   "id": "2bfd28d0-a6b9-4b31-9940-9eec51e639ca",
   "metadata": {},
   "outputs": [
    {
     "data": {
      "text/plain": [
       "8"
      ]
     },
     "execution_count": 5,
     "metadata": {},
     "output_type": "execute_result"
    }
   ],
   "source": [
    "10-2"
   ]
  },
  {
   "cell_type": "code",
   "execution_count": 7,
   "id": "457b88b1-71da-4d4f-9a54-54c4aa445384",
   "metadata": {},
   "outputs": [
    {
     "data": {
      "text/plain": [
       "108"
      ]
     },
     "execution_count": 7,
     "metadata": {},
     "output_type": "execute_result"
    }
   ],
   "source": [
    "12*9"
   ]
  },
  {
   "cell_type": "code",
   "execution_count": 11,
   "id": "42b2e3b4-e626-4fdb-a506-5c5b31d824aa",
   "metadata": {},
   "outputs": [
    {
     "data": {
      "text/plain": [
       "3.75"
      ]
     },
     "execution_count": 11,
     "metadata": {},
     "output_type": "execute_result"
    }
   ],
   "source": [
    "15/4"
   ]
  },
  {
   "cell_type": "code",
   "execution_count": 13,
   "id": "30dd102b-2230-4461-8205-f40ce075dc2d",
   "metadata": {},
   "outputs": [
    {
     "data": {
      "text/plain": [
       "3"
      ]
     },
     "execution_count": 13,
     "metadata": {},
     "output_type": "execute_result"
    }
   ],
   "source": [
    "15//4"
   ]
  },
  {
   "cell_type": "code",
   "execution_count": 15,
   "id": "9b72fa9f-f323-49a3-a33a-f32509dd26a4",
   "metadata": {},
   "outputs": [
    {
     "data": {
      "text/plain": [
       "12.2"
      ]
     },
     "execution_count": 15,
     "metadata": {},
     "output_type": "execute_result"
    }
   ],
   "source": [
    "122/10"
   ]
  },
  {
   "cell_type": "code",
   "execution_count": 23,
   "id": "53963586-2ef1-4450-a4ab-807e4766beb8",
   "metadata": {},
   "outputs": [
    {
     "data": {
      "text/plain": [
       "-13"
      ]
     },
     "execution_count": 23,
     "metadata": {},
     "output_type": "execute_result"
    }
   ],
   "source": [
    "-122//10"
   ]
  },
  {
   "cell_type": "code",
   "execution_count": 34,
   "id": "09ce21b0-cf18-4bc8-8bc1-c6f44ba16a1c",
   "metadata": {},
   "outputs": [
    {
     "data": {
      "text/plain": [
       "9"
      ]
     },
     "execution_count": 34,
     "metadata": {},
     "output_type": "execute_result"
    }
   ],
   "source": [
    "130%11 ##Remainder"
   ]
  },
  {
   "cell_type": "code",
   "execution_count": 40,
   "id": "12227c63-2e14-4e51-808a-0dec622e58ce",
   "metadata": {},
   "outputs": [
    {
     "data": {
      "text/plain": [
       "8"
      ]
     },
     "execution_count": 40,
     "metadata": {},
     "output_type": "execute_result"
    }
   ],
   "source": [
    "2**3 # Power (Exponential)"
   ]
  },
  {
   "cell_type": "code",
   "execution_count": 47,
   "id": "7235db9b-5f79-48ff-99a3-7b7f6aa5d47b",
   "metadata": {},
   "outputs": [],
   "source": [
    "x = -176//10"
   ]
  },
  {
   "cell_type": "code",
   "execution_count": 49,
   "id": "1c48b014-097d-4cb3-bc1f-dfe60dce5ef0",
   "metadata": {},
   "outputs": [
    {
     "data": {
      "text/plain": [
       "-18"
      ]
     },
     "execution_count": 49,
     "metadata": {},
     "output_type": "execute_result"
    }
   ],
   "source": [
    "x"
   ]
  },
  {
   "cell_type": "markdown",
   "id": "9b70b65f-7c45-43d6-980e-b71a9667be36",
   "metadata": {},
   "source": [
    "#### String Operators"
   ]
  },
  {
   "cell_type": "code",
   "execution_count": 61,
   "id": "24114778-66db-428d-b8d8-5e8959b33882",
   "metadata": {},
   "outputs": [
    {
     "name": "stdout",
     "output_type": "stream",
     "text": [
      "Hello World\n"
     ]
    }
   ],
   "source": [
    "print(\"Hello World\")"
   ]
  },
  {
   "cell_type": "code",
   "execution_count": 63,
   "id": "d9e7f3e7-5752-4eba-afb2-fd70735e56b2",
   "metadata": {},
   "outputs": [],
   "source": [
    "Greeting = \"Hello world\""
   ]
  },
  {
   "cell_type": "code",
   "execution_count": 67,
   "id": "87e68b27-b872-4ac0-bc52-cfd84b25e2a1",
   "metadata": {},
   "outputs": [
    {
     "name": "stdout",
     "output_type": "stream",
     "text": [
      "Hello world\n"
     ]
    }
   ],
   "source": [
    "print(Greeting)"
   ]
  },
  {
   "cell_type": "code",
   "execution_count": 73,
   "id": "5c4619a1-8e36-4200-ac61-74b8b9df021c",
   "metadata": {},
   "outputs": [
    {
     "data": {
      "text/plain": [
       "'Good Evening to all of You'"
      ]
     },
     "execution_count": 73,
     "metadata": {},
     "output_type": "execute_result"
    }
   ],
   "source": [
    "\"Good Evening\" + \" to all of You\" # Concatenation"
   ]
  },
  {
   "cell_type": "code",
   "execution_count": 79,
   "id": "1d727a3a-cb95-47ab-be6b-3096b5b717d1",
   "metadata": {},
   "outputs": [
    {
     "data": {
      "text/plain": [
       "'Good Evening to all of You!!'"
      ]
     },
     "execution_count": 79,
     "metadata": {},
     "output_type": "execute_result"
    }
   ],
   "source": [
    "\"Good\" + \" \" + \"Evening\" + \" \" + \"to all of You!!\""
   ]
  },
  {
   "cell_type": "code",
   "execution_count": 97,
   "id": "8c7ce325-e065-4875-963f-b745ac6daba5",
   "metadata": {},
   "outputs": [
    {
     "name": "stdout",
     "output_type": "stream",
     "text": [
      " Good Evening\n",
      " Good Evening\n",
      " Good Evening\n",
      "\n"
     ]
    }
   ],
   "source": [
    "print(\" Good Evening\\n\" * 3)"
   ]
  },
  {
   "cell_type": "markdown",
   "id": "9ee05592-2ef6-4d2c-9dcc-da752938e9f3",
   "metadata": {},
   "source": [
    "#### Comparision"
   ]
  },
  {
   "cell_type": "code",
   "execution_count": 104,
   "id": "b6a9133b-c253-4a78-ab33-5febbc215875",
   "metadata": {},
   "outputs": [
    {
     "data": {
      "text/plain": [
       "True"
      ]
     },
     "execution_count": 104,
     "metadata": {},
     "output_type": "execute_result"
    }
   ],
   "source": [
    "5 == 5 # Is 5 equal to 5"
   ]
  },
  {
   "cell_type": "code",
   "execution_count": 108,
   "id": "bd0bb60b-049c-433e-b258-de568bb103ac",
   "metadata": {},
   "outputs": [
    {
     "data": {
      "text/plain": [
       "True"
      ]
     },
     "execution_count": 108,
     "metadata": {},
     "output_type": "execute_result"
    }
   ],
   "source": [
    "4 != 5"
   ]
  },
  {
   "cell_type": "code",
   "execution_count": 110,
   "id": "faef8db3-1e8c-4389-a522-dcdc1a962764",
   "metadata": {},
   "outputs": [
    {
     "data": {
      "text/plain": [
       "True"
      ]
     },
     "execution_count": 110,
     "metadata": {},
     "output_type": "execute_result"
    }
   ],
   "source": [
    "5 > 3"
   ]
  },
  {
   "cell_type": "code",
   "execution_count": 112,
   "id": "c9e4086b-83ec-41be-9913-d0957028fc02",
   "metadata": {},
   "outputs": [
    {
     "data": {
      "text/plain": [
       "False"
      ]
     },
     "execution_count": 112,
     "metadata": {},
     "output_type": "execute_result"
    }
   ],
   "source": [
    "5 < 3"
   ]
  },
  {
   "cell_type": "code",
   "execution_count": 114,
   "id": "599a9ed0-3d8f-45f7-8de8-6ef562e93a6e",
   "metadata": {},
   "outputs": [
    {
     "data": {
      "text/plain": [
       "True"
      ]
     },
     "execution_count": 114,
     "metadata": {},
     "output_type": "execute_result"
    }
   ],
   "source": [
    "5 >= 5 # is 5 greater than or equal to 5."
   ]
  },
  {
   "cell_type": "markdown",
   "id": "72bcea54-7b2c-40b9-9931-0b4c5ffa9b85",
   "metadata": {},
   "source": [
    "#### Variables"
   ]
  },
  {
   "cell_type": "code",
   "execution_count": 119,
   "id": "21c1f9d4-ef62-4736-aedd-705198978b90",
   "metadata": {},
   "outputs": [
    {
     "data": {
      "text/plain": [
       "40"
      ]
     },
     "execution_count": 119,
     "metadata": {},
     "output_type": "execute_result"
    }
   ],
   "source": [
    "age = 40\n",
    "age"
   ]
  },
  {
   "cell_type": "code",
   "execution_count": 121,
   "id": "bae48488-338f-4501-b981-9eb0f6ad2d23",
   "metadata": {},
   "outputs": [
    {
     "data": {
      "text/plain": [
       "52"
      ]
     },
     "execution_count": 121,
     "metadata": {},
     "output_type": "execute_result"
    }
   ],
   "source": [
    "age + 3 * 4"
   ]
  },
  {
   "cell_type": "code",
   "execution_count": 155,
   "id": "5b4b3afb-062b-4742-b673-e38ad5bef9ae",
   "metadata": {},
   "outputs": [],
   "source": [
    "Name = \"Priya\""
   ]
  },
  {
   "cell_type": "code",
   "execution_count": 161,
   "id": "f29c7c94-51d9-489b-a080-f437c904e73e",
   "metadata": {},
   "outputs": [],
   "source": [
    "Greet = \"Hi {}\".format(Name)"
   ]
  },
  {
   "cell_type": "code",
   "execution_count": 163,
   "id": "ec7847fb-ea47-4348-b4b3-807438e31cd0",
   "metadata": {},
   "outputs": [
    {
     "name": "stdout",
     "output_type": "stream",
     "text": [
      "Hi Priya\n"
     ]
    }
   ],
   "source": [
    "print(Greet)"
   ]
  },
  {
   "cell_type": "code",
   "execution_count": 169,
   "id": "b573ec80-2f30-429d-babf-95bcfa7f732d",
   "metadata": {},
   "outputs": [
    {
     "name": "stdout",
     "output_type": "stream",
     "text": [
      "2\n"
     ]
    }
   ],
   "source": [
    "a = 5\n",
    "b = 3\n",
    "c = a - b\n",
    "print(c)"
   ]
  },
  {
   "cell_type": "code",
   "execution_count": 175,
   "id": "1251d907-80e4-44de-943c-ac6a0c0b533c",
   "metadata": {},
   "outputs": [
    {
     "name": "stdin",
     "output_type": "stream",
     "text": [
      " Saurabh\n"
     ]
    }
   ],
   "source": [
    "Name = input()"
   ]
  },
  {
   "cell_type": "code",
   "execution_count": 177,
   "id": "51acc2e2-e43e-49ca-9819-4bc5eb07a216",
   "metadata": {},
   "outputs": [
    {
     "name": "stdin",
     "output_type": "stream",
     "text": [
      " 25\n"
     ]
    }
   ],
   "source": [
    "Age = input()"
   ]
  },
  {
   "cell_type": "code",
   "execution_count": 185,
   "id": "e38574bb-58ad-44b5-8b2c-9858efba0bfb",
   "metadata": {},
   "outputs": [
    {
     "name": "stdout",
     "output_type": "stream",
     "text": [
      "Your Name is Saurabh and you are 25 years old\n"
     ]
    }
   ],
   "source": [
    "Info = print('Your Name is {} and you are {} years old'.format(Name,Age))"
   ]
  },
  {
   "cell_type": "code",
   "execution_count": 187,
   "id": "5cb66611-b146-49a3-bf40-4a893953a1db",
   "metadata": {},
   "outputs": [
    {
     "name": "stdin",
     "output_type": "stream",
     "text": [
      " Saurabh\n",
      " 29\n"
     ]
    },
    {
     "name": "stdout",
     "output_type": "stream",
     "text": [
      "Your Name is Saurabh and you are 29 years old\n"
     ]
    }
   ],
   "source": [
    "Name = input()\n",
    "Age = input()\n",
    "Info = print('Your Name is {} and you are {} years old'.format(Name,Age))"
   ]
  },
  {
   "cell_type": "markdown",
   "id": "fee138a6-c50f-4953-ada2-7cc0a8441094",
   "metadata": {},
   "source": [
    "## Data Structures"
   ]
  },
  {
   "cell_type": "code",
   "execution_count": 194,
   "id": "ffa92e9c-64d9-4105-9722-d2464e264c74",
   "metadata": {},
   "outputs": [],
   "source": [
    "## List, Tuple, Dictionaries, Set"
   ]
  },
  {
   "cell_type": "markdown",
   "id": "870d946a-f3c1-45bf-9568-d6de0add52df",
   "metadata": {},
   "source": [
    "##### List"
   ]
  },
  {
   "cell_type": "code",
   "execution_count": 198,
   "id": "3e739301-6115-46d2-8667-bfe944273b4d",
   "metadata": {},
   "outputs": [],
   "source": [
    "list = [1,2,3,4,5]"
   ]
  },
  {
   "cell_type": "code",
   "execution_count": 200,
   "id": "8c561420-3f84-46a7-8ce6-19274e0d0bac",
   "metadata": {},
   "outputs": [
    {
     "data": {
      "text/plain": [
       "[1, 2, 3, 4, 5]"
      ]
     },
     "execution_count": 200,
     "metadata": {},
     "output_type": "execute_result"
    }
   ],
   "source": [
    "list"
   ]
  },
  {
   "cell_type": "code",
   "execution_count": 283,
   "id": "895a3e4f-884d-4f6d-a977-ec636b5b23ab",
   "metadata": {},
   "outputs": [],
   "source": [
    "Fruits = ['apple','banana','orange','grapes']"
   ]
  },
  {
   "cell_type": "code",
   "execution_count": 206,
   "id": "889287f3-b56c-40be-91b1-45821d491e27",
   "metadata": {},
   "outputs": [],
   "source": [
    "Comb = ['apple',24,'banana',22,13,'grapes']"
   ]
  },
  {
   "cell_type": "code",
   "execution_count": 210,
   "id": "f9f3147b-8692-4e8d-8685-79b95c8f3007",
   "metadata": {},
   "outputs": [
    {
     "data": {
      "text/plain": [
       "['apple', 24, 'banana', 22, 13, 'grapes']"
      ]
     },
     "execution_count": 210,
     "metadata": {},
     "output_type": "execute_result"
    }
   ],
   "source": [
    "Comb"
   ]
  },
  {
   "cell_type": "code",
   "execution_count": 217,
   "id": "55c27a26-2c9f-4aeb-a342-fcde3a68ed78",
   "metadata": {},
   "outputs": [
    {
     "name": "stdout",
     "output_type": "stream",
     "text": [
      "banana\n"
     ]
    }
   ],
   "source": [
    "print(Comb[2])"
   ]
  },
  {
   "cell_type": "code",
   "execution_count": 233,
   "id": "d54b1c59-5ef2-45fe-83a0-15296ba38981",
   "metadata": {},
   "outputs": [
    {
     "data": {
      "text/plain": [
       "['apple', 24]"
      ]
     },
     "execution_count": 233,
     "metadata": {},
     "output_type": "execute_result"
    }
   ],
   "source": [
    "Comb[0:2]"
   ]
  },
  {
   "cell_type": "code",
   "execution_count": 240,
   "id": "727c5fea-435d-4133-a691-ce9f8cd73b1f",
   "metadata": {},
   "outputs": [],
   "source": [
    "ListofList = [[1,2],['apple','banana'],['x','y','z']] # Nested List"
   ]
  },
  {
   "cell_type": "code",
   "execution_count": 254,
   "id": "1eff2898-3712-48a8-bf9e-b2097244ba7c",
   "metadata": {},
   "outputs": [
    {
     "name": "stdout",
     "output_type": "stream",
     "text": [
      "banana\n"
     ]
    }
   ],
   "source": [
    "print(ListofList[1][1])"
   ]
  },
  {
   "cell_type": "markdown",
   "id": "4d840f41-97ab-4077-bb47-ae92197ef403",
   "metadata": {},
   "source": [
    "#### List Operators (Build in)"
   ]
  },
  {
   "cell_type": "code",
   "execution_count": 256,
   "id": "b868e7ec-66a5-4693-bc79-87b24d3fbe21",
   "metadata": {},
   "outputs": [],
   "source": [
    "Comb.append('mango') ## Adds an elenment at the end"
   ]
  },
  {
   "cell_type": "code",
   "execution_count": 258,
   "id": "691f7f3d-224c-4492-8d5f-13008b08c668",
   "metadata": {},
   "outputs": [
    {
     "data": {
      "text/plain": [
       "['apple', 24, 'banana', 22, 13, 'grapes', 'mango']"
      ]
     },
     "execution_count": 258,
     "metadata": {},
     "output_type": "execute_result"
    }
   ],
   "source": [
    "Comb"
   ]
  },
  {
   "cell_type": "code",
   "execution_count": 324,
   "id": "2ffb19c3-fc75-4617-87f7-4c5460f7d421",
   "metadata": {},
   "outputs": [],
   "source": [
    "Comb.insert(2,'blueberry') ## Adds an element at specified index"
   ]
  },
  {
   "cell_type": "code",
   "execution_count": 262,
   "id": "cb846bc7-0ed1-482b-9883-580c3aabb2e0",
   "metadata": {},
   "outputs": [
    {
     "data": {
      "text/plain": [
       "['apple', 24, 'blueberry', 'banana', 22, 13, 'grapes', 'mango']"
      ]
     },
     "execution_count": 262,
     "metadata": {},
     "output_type": "execute_result"
    }
   ],
   "source": [
    "Comb"
   ]
  },
  {
   "cell_type": "code",
   "execution_count": 264,
   "id": "e39021ce-2233-41d6-9c60-24f4c76141a7",
   "metadata": {},
   "outputs": [],
   "source": [
    "Comb.remove(13) ## Removed the element "
   ]
  },
  {
   "cell_type": "code",
   "execution_count": 266,
   "id": "b563a2a3-9a7e-44f9-a9aa-f06f84efff2a",
   "metadata": {},
   "outputs": [
    {
     "data": {
      "text/plain": [
       "['apple', 24, 'blueberry', 'banana', 22, 'grapes', 'mango']"
      ]
     },
     "execution_count": 266,
     "metadata": {},
     "output_type": "execute_result"
    }
   ],
   "source": [
    "Comb"
   ]
  },
  {
   "cell_type": "code",
   "execution_count": 274,
   "id": "e066c80f-f5b5-4c86-b27b-9f10c3be3c22",
   "metadata": {},
   "outputs": [
    {
     "data": {
      "text/plain": [
       "'grapes'"
      ]
     },
     "execution_count": 274,
     "metadata": {},
     "output_type": "execute_result"
    }
   ],
   "source": [
    "Comb.pop() ## Removes the last element and displays the same as output"
   ]
  },
  {
   "cell_type": "code",
   "execution_count": 278,
   "id": "876216a1-6291-4737-a850-e9eedd1535c5",
   "metadata": {},
   "outputs": [],
   "source": [
    "Comb.append(['grapes','mango'])"
   ]
  },
  {
   "cell_type": "code",
   "execution_count": 282,
   "id": "715c7008-2e45-49a5-9fa7-d271eeb7b07f",
   "metadata": {},
   "outputs": [
    {
     "data": {
      "text/plain": [
       "['grapes', 'mango']"
      ]
     },
     "execution_count": 282,
     "metadata": {},
     "output_type": "execute_result"
    }
   ],
   "source": [
    "Comb.pop()"
   ]
  },
  {
   "cell_type": "code",
   "execution_count": 286,
   "id": "ba82d206-a6c9-4696-8940-b5a7fc64513b",
   "metadata": {},
   "outputs": [],
   "source": [
    "Comb.append('grapes')\n",
    "Comb.append('mango')"
   ]
  },
  {
   "cell_type": "code",
   "execution_count": 288,
   "id": "5571e60b-2b3a-4003-9f55-ed56a52c75c1",
   "metadata": {},
   "outputs": [
    {
     "data": {
      "text/plain": [
       "['apple', 24, 'blueberry', 'banana', 22, 'grapes', 'mango']"
      ]
     },
     "execution_count": 288,
     "metadata": {},
     "output_type": "execute_result"
    }
   ],
   "source": [
    "Comb"
   ]
  },
  {
   "cell_type": "code",
   "execution_count": 290,
   "id": "6b0aede4-ae05-4857-a9f3-d5e628fe73c4",
   "metadata": {},
   "outputs": [],
   "source": [
    "Comb.append(13)"
   ]
  },
  {
   "cell_type": "code",
   "execution_count": 294,
   "id": "162f57a9-3914-4881-a50f-437206a5c4fd",
   "metadata": {},
   "outputs": [],
   "source": [
    "Comb.append(13)"
   ]
  },
  {
   "cell_type": "code",
   "execution_count": 296,
   "id": "278d8607-c655-4d95-b636-1e1d62766f50",
   "metadata": {},
   "outputs": [
    {
     "data": {
      "text/plain": [
       "['apple', 24, 'blueberry', 'banana', 22, 'grapes', 'mango', 13, 13]"
      ]
     },
     "execution_count": 296,
     "metadata": {},
     "output_type": "execute_result"
    }
   ],
   "source": [
    "Comb"
   ]
  },
  {
   "cell_type": "code",
   "execution_count": 304,
   "id": "778b1af8-d960-4650-8303-507f30485ea4",
   "metadata": {},
   "outputs": [],
   "source": [
    "Comb.remove(13)"
   ]
  },
  {
   "cell_type": "code",
   "execution_count": 306,
   "id": "bc99c8a4-9ca4-43a8-9946-155d46aa30e9",
   "metadata": {},
   "outputs": [
    {
     "data": {
      "text/plain": [
       "['apple', 24, 'blueberry', 'banana', 22, 'grapes', 'mango']"
      ]
     },
     "execution_count": 306,
     "metadata": {},
     "output_type": "execute_result"
    }
   ],
   "source": [
    "Comb"
   ]
  },
  {
   "cell_type": "code",
   "execution_count": 308,
   "id": "8a3e1731-2b88-431e-9d01-a85c99e26ff5",
   "metadata": {},
   "outputs": [],
   "source": [
    "Comb.append(13)\n",
    "Comb.insert(3,13)"
   ]
  },
  {
   "cell_type": "code",
   "execution_count": 310,
   "id": "85c61229-b333-457a-9fb1-1270de49904d",
   "metadata": {},
   "outputs": [
    {
     "data": {
      "text/plain": [
       "['apple', 24, 'blueberry', 13, 'banana', 22, 'grapes', 'mango', 13]"
      ]
     },
     "execution_count": 310,
     "metadata": {},
     "output_type": "execute_result"
    }
   ],
   "source": [
    "Comb"
   ]
  },
  {
   "cell_type": "code",
   "execution_count": 312,
   "id": "d6cc1d70-a936-42dd-8bce-a6a7393136f9",
   "metadata": {},
   "outputs": [],
   "source": [
    "Comb.remove(13)"
   ]
  },
  {
   "cell_type": "code",
   "execution_count": 314,
   "id": "03a65712-c029-458f-ae52-0c2959bae4ea",
   "metadata": {},
   "outputs": [
    {
     "data": {
      "text/plain": [
       "['apple', 24, 'blueberry', 'banana', 22, 'grapes', 'mango', 13]"
      ]
     },
     "execution_count": 314,
     "metadata": {},
     "output_type": "execute_result"
    }
   ],
   "source": [
    "Comb"
   ]
  },
  {
   "cell_type": "code",
   "execution_count": 316,
   "id": "286f0220-ccda-408a-aeeb-43976bf831eb",
   "metadata": {},
   "outputs": [],
   "source": [
    "Comb.clear() ## Deletes all elements in the list"
   ]
  },
  {
   "cell_type": "code",
   "execution_count": 318,
   "id": "f3e6c8fc-d917-4e1a-83cf-e61fb9b0af58",
   "metadata": {},
   "outputs": [
    {
     "data": {
      "text/plain": [
       "[]"
      ]
     },
     "execution_count": 318,
     "metadata": {},
     "output_type": "execute_result"
    }
   ],
   "source": [
    "Comb"
   ]
  },
  {
   "cell_type": "code",
   "execution_count": 320,
   "id": "3177eec7-c7f7-4933-bf5d-9e031d70283c",
   "metadata": {},
   "outputs": [],
   "source": [
    "Comb = ['apple',24,'banana',22,13,'grapes']"
   ]
  },
  {
   "cell_type": "code",
   "execution_count": 326,
   "id": "5f006cbe-f65a-4442-9dc3-7eb3fa8bdcfa",
   "metadata": {},
   "outputs": [
    {
     "data": {
      "text/plain": [
       "['apple', 24, 'blueberry', 'banana', 22, 13, 'grapes']"
      ]
     },
     "execution_count": 326,
     "metadata": {},
     "output_type": "execute_result"
    }
   ],
   "source": [
    "Comb"
   ]
  },
  {
   "cell_type": "code",
   "execution_count": 328,
   "id": "0b83b843-4e96-4605-b0b4-d401f3a5bf6c",
   "metadata": {},
   "outputs": [
    {
     "data": {
      "text/plain": [
       "7"
      ]
     },
     "execution_count": 328,
     "metadata": {},
     "output_type": "execute_result"
    }
   ],
   "source": [
    "len(Comb) # Number of elements in the list"
   ]
  },
  {
   "cell_type": "code",
   "execution_count": 350,
   "id": "69f0674b-7f48-4524-a30e-98a043a685dd",
   "metadata": {},
   "outputs": [
    {
     "data": {
      "text/plain": [
       "13"
      ]
     },
     "execution_count": 350,
     "metadata": {},
     "output_type": "execute_result"
    }
   ],
   "source": [
    "Comb[-2]"
   ]
  },
  {
   "cell_type": "markdown",
   "id": "7ec643d0-ebde-4521-9d0f-18badeeb3f0d",
   "metadata": {},
   "source": [
    "##### List Concatenation"
   ]
  },
  {
   "cell_type": "code",
   "execution_count": 368,
   "id": "71ee621f-133f-4b38-be65-80801c600556",
   "metadata": {},
   "outputs": [
    {
     "name": "stdout",
     "output_type": "stream",
     "text": [
      "['apple', 24, 'blueberry', 'banana', 22, 13, 'grapes']\n",
      "[1, 2, 3, 4, 5]\n"
     ]
    }
   ],
   "source": [
    "print(Comb)\n",
    "print(list)"
   ]
  },
  {
   "cell_type": "code",
   "execution_count": 370,
   "id": "708f8fc3-dd08-4578-b9ef-f687d55267b2",
   "metadata": {},
   "outputs": [],
   "source": [
    "Merge = Comb + list"
   ]
  },
  {
   "cell_type": "code",
   "execution_count": 374,
   "id": "6fb6a35c-9bb0-4c0d-9d8c-6293b0ce614f",
   "metadata": {},
   "outputs": [],
   "source": [
    "Merge_2 = list + Comb"
   ]
  },
  {
   "cell_type": "code",
   "execution_count": 378,
   "id": "897e5df6-c384-4964-abf6-20ec5cd0369d",
   "metadata": {},
   "outputs": [
    {
     "name": "stdout",
     "output_type": "stream",
     "text": [
      "['apple', 24, 'blueberry', 'banana', 22, 13, 'grapes', 1, 2, 3, 4, 5]\n"
     ]
    },
    {
     "data": {
      "text/plain": [
       "[1, 2, 3, 4, 5, 'apple', 24, 'blueberry', 'banana', 22, 13, 'grapes']"
      ]
     },
     "execution_count": 378,
     "metadata": {},
     "output_type": "execute_result"
    }
   ],
   "source": [
    "print(Merge)\n",
    "Merge_2"
   ]
  },
  {
   "cell_type": "code",
   "execution_count": 404,
   "id": "8af31eaf-ed8c-481d-9648-ef2d05263a73",
   "metadata": {},
   "outputs": [
    {
     "data": {
      "text/plain": [
       "1"
      ]
     },
     "execution_count": 404,
     "metadata": {},
     "output_type": "execute_result"
    }
   ],
   "source": [
    "Merge.count(13)  ## Count of a specific element"
   ]
  },
  {
   "cell_type": "markdown",
   "id": "ea2a616e-f38f-4b2e-b37d-512313d5b403",
   "metadata": {},
   "source": [
    "### Tuples"
   ]
  },
  {
   "cell_type": "code",
   "execution_count": 332,
   "id": "16376268-5925-481d-9ccd-0a0dead49ded",
   "metadata": {},
   "outputs": [],
   "source": [
    "tuple = (1,5,9)"
   ]
  },
  {
   "cell_type": "code",
   "execution_count": 334,
   "id": "95d12526-7d06-49cf-aaed-98d03cae120e",
   "metadata": {},
   "outputs": [
    {
     "data": {
      "text/plain": [
       "(1, 5, 9)"
      ]
     },
     "execution_count": 334,
     "metadata": {},
     "output_type": "execute_result"
    }
   ],
   "source": [
    "tuple"
   ]
  },
  {
   "cell_type": "code",
   "execution_count": 336,
   "id": "299a55dc-3c1c-405a-a6ff-467f15c79a11",
   "metadata": {},
   "outputs": [],
   "source": [
    "# Indexing, Build in Methods - Change the elements"
   ]
  },
  {
   "cell_type": "code",
   "execution_count": 338,
   "id": "0041737b-a702-43a6-be44-a7bd5d8fee26",
   "metadata": {},
   "outputs": [],
   "source": [
    "Fruits = ('apple','banana','orange','grapes')"
   ]
  },
  {
   "cell_type": "code",
   "execution_count": 340,
   "id": "164e5fb1-0d12-44e1-ae26-ec29d4b57a8d",
   "metadata": {},
   "outputs": [
    {
     "data": {
      "text/plain": [
       "('apple', 'banana', 'orange', 'grapes')"
      ]
     },
     "execution_count": 340,
     "metadata": {},
     "output_type": "execute_result"
    }
   ],
   "source": [
    "Fruits"
   ]
  },
  {
   "cell_type": "code",
   "execution_count": 342,
   "id": "84a10e91-980b-47e7-871f-0e14b632ab71",
   "metadata": {},
   "outputs": [
    {
     "data": {
      "text/plain": [
       "'apple'"
      ]
     },
     "execution_count": 342,
     "metadata": {},
     "output_type": "execute_result"
    }
   ],
   "source": [
    "Fruits[0]"
   ]
  },
  {
   "cell_type": "code",
   "execution_count": 344,
   "id": "d1f90b99-f345-4941-8886-e391a5a32cbf",
   "metadata": {},
   "outputs": [
    {
     "data": {
      "text/plain": [
       "('apple', 'banana')"
      ]
     },
     "execution_count": 344,
     "metadata": {},
     "output_type": "execute_result"
    }
   ],
   "source": [
    "Fruits[0:2]"
   ]
  },
  {
   "cell_type": "code",
   "execution_count": 356,
   "id": "332160a7-0bfb-439a-a388-e509322ed0dd",
   "metadata": {},
   "outputs": [
    {
     "name": "stdout",
     "output_type": "stream",
     "text": [
      "grapes\n"
     ]
    }
   ],
   "source": [
    "print(Fruits[-1])"
   ]
  },
  {
   "cell_type": "code",
   "execution_count": 380,
   "id": "f0665a08-0c5d-4643-93c8-4f7a3c03cdbb",
   "metadata": {},
   "outputs": [],
   "source": [
    "Mer_tuple = Fruits + tuple # Concatenation of Tuple"
   ]
  },
  {
   "cell_type": "code",
   "execution_count": 390,
   "id": "26fa5cf6-0d0b-4f2d-b37c-191de41e2f31",
   "metadata": {},
   "outputs": [
    {
     "name": "stdout",
     "output_type": "stream",
     "text": [
      "orange\n"
     ]
    }
   ],
   "source": [
    "print(Mer_tuple[2])"
   ]
  },
  {
   "cell_type": "code",
   "execution_count": 392,
   "id": "8947296c-3e68-49c6-b1ab-489d96c44de5",
   "metadata": {},
   "outputs": [
    {
     "name": "stdout",
     "output_type": "stream",
     "text": [
      "('apple', 'banana', 'orange', 'grapes', 1, 5, 9)\n"
     ]
    }
   ],
   "source": [
    "print(Mer_tuple)"
   ]
  },
  {
   "cell_type": "code",
   "execution_count": 398,
   "id": "69e1d35b-e64e-4209-8eda-95883149d6ae",
   "metadata": {},
   "outputs": [
    {
     "data": {
      "text/plain": [
       "('apple',\n",
       " 'banana',\n",
       " 'orange',\n",
       " 'grapes',\n",
       " 1,\n",
       " 5,\n",
       " 9,\n",
       " 'apple',\n",
       " 'banana',\n",
       " 'orange',\n",
       " 'grapes',\n",
       " 1,\n",
       " 5,\n",
       " 9,\n",
       " 'apple',\n",
       " 'banana',\n",
       " 'orange',\n",
       " 'grapes',\n",
       " 1,\n",
       " 5,\n",
       " 9)"
      ]
     },
     "execution_count": 398,
     "metadata": {},
     "output_type": "execute_result"
    }
   ],
   "source": [
    "repeated_tuple = Mer_tuple * 3\n",
    "repeated_tuple"
   ]
  },
  {
   "cell_type": "code",
   "execution_count": 406,
   "id": "f384555f-5f4d-4ce4-9446-a1cfc32b35fb",
   "metadata": {},
   "outputs": [
    {
     "data": {
      "text/plain": [
       "21"
      ]
     },
     "execution_count": 406,
     "metadata": {},
     "output_type": "execute_result"
    }
   ],
   "source": [
    "len(repeated_tuple) # Number of elements in the tuple"
   ]
  },
  {
   "cell_type": "code",
   "execution_count": 412,
   "id": "0822186a-ee82-4e04-a4ee-8a7ef2166c69",
   "metadata": {},
   "outputs": [
    {
     "data": {
      "text/plain": [
       "0"
      ]
     },
     "execution_count": 412,
     "metadata": {},
     "output_type": "execute_result"
    }
   ],
   "source": [
    "repeated_tuple.count('grape')  ## Count of a specific element"
   ]
  },
  {
   "cell_type": "code",
   "execution_count": 422,
   "id": "5e2c8cfa-cc9f-4a80-9bd7-c6a7b084fb11",
   "metadata": {},
   "outputs": [
    {
     "data": {
      "text/plain": [
       "15"
      ]
     },
     "execution_count": 422,
     "metadata": {},
     "output_type": "execute_result"
    }
   ],
   "source": [
    "sum(tuple)"
   ]
  },
  {
   "cell_type": "code",
   "execution_count": 424,
   "id": "0eaf98e1-0d43-47b7-a58d-32891d78fc5a",
   "metadata": {},
   "outputs": [],
   "source": [
    "Nested_tuple = (1,2,(4,5),(6,7))"
   ]
  },
  {
   "cell_type": "code",
   "execution_count": 426,
   "id": "5d857b95-c925-4b18-884f-3821c4bcf87f",
   "metadata": {},
   "outputs": [
    {
     "data": {
      "text/plain": [
       "(1, 2, (4, 5), (6, 7))"
      ]
     },
     "execution_count": 426,
     "metadata": {},
     "output_type": "execute_result"
    }
   ],
   "source": [
    "Nested_tuple"
   ]
  },
  {
   "cell_type": "code",
   "execution_count": 432,
   "id": "cd94234a-f7ab-48cc-b1c3-94a0dfb0b65f",
   "metadata": {},
   "outputs": [
    {
     "data": {
      "text/plain": [
       "5"
      ]
     },
     "execution_count": 432,
     "metadata": {},
     "output_type": "execute_result"
    }
   ],
   "source": [
    "Nested_tuple[2][1]"
   ]
  },
  {
   "cell_type": "code",
   "execution_count": 438,
   "id": "240d3a9b-4023-489c-b83f-2d6c7c302c23",
   "metadata": {},
   "outputs": [
    {
     "data": {
      "text/plain": [
       "13"
      ]
     },
     "execution_count": 438,
     "metadata": {},
     "output_type": "execute_result"
    }
   ],
   "source": [
    "sum(Nested_tuple[3])"
   ]
  },
  {
   "cell_type": "markdown",
   "id": "e418a72d-435a-43ba-aed3-47d360956e7a",
   "metadata": {},
   "source": [
    "## Dictionaries"
   ]
  },
  {
   "cell_type": "code",
   "execution_count": 5,
   "id": "58b034a1-557a-4bc2-92d5-4b32f27bea14",
   "metadata": {},
   "outputs": [],
   "source": [
    "Saurabh_info = {'Name':'Saurabh','age':30,'city':'Bangalore','Experience' : 12}"
   ]
  },
  {
   "cell_type": "code",
   "execution_count": null,
   "id": "a5fa98b8-0fb2-4b44-9842-8b50808ef58e",
   "metadata": {},
   "outputs": [],
   "source": []
  },
  {
   "cell_type": "code",
   "execution_count": 7,
   "id": "4717fb80-e411-4c54-8f59-6d5794d426f3",
   "metadata": {},
   "outputs": [
    {
     "data": {
      "text/plain": [
       "{'Name': 'Saurabh', 'age': 30, 'city': 'Bangalore', 'Experience': 12}"
      ]
     },
     "execution_count": 7,
     "metadata": {},
     "output_type": "execute_result"
    }
   ],
   "source": [
    "Saurabh_info"
   ]
  },
  {
   "cell_type": "code",
   "execution_count": 9,
   "id": "e57c16c1-9b89-4e22-8233-44cf03d0e430",
   "metadata": {},
   "outputs": [
    {
     "data": {
      "text/plain": [
       "dict_keys(['Name', 'age', 'city', 'Experience'])"
      ]
     },
     "execution_count": 9,
     "metadata": {},
     "output_type": "execute_result"
    }
   ],
   "source": [
    "Saurabh_info.keys()"
   ]
  },
  {
   "cell_type": "code",
   "execution_count": 11,
   "id": "8d222d07-5cc9-48a7-a4ba-848088f9d64b",
   "metadata": {},
   "outputs": [
    {
     "data": {
      "text/plain": [
       "dict_values(['Saurabh', 30, 'Bangalore', 12])"
      ]
     },
     "execution_count": 11,
     "metadata": {},
     "output_type": "execute_result"
    }
   ],
   "source": [
    "Saurabh_info.values()"
   ]
  },
  {
   "cell_type": "code",
   "execution_count": 13,
   "id": "d6d9b027-3cd9-40e2-aa0d-4dadbc11ad1c",
   "metadata": {},
   "outputs": [
    {
     "data": {
      "text/plain": [
       "'Bangalore'"
      ]
     },
     "execution_count": 13,
     "metadata": {},
     "output_type": "execute_result"
    }
   ],
   "source": [
    "Saurabh_info['city']"
   ]
  },
  {
   "cell_type": "code",
   "execution_count": 15,
   "id": "374297b8-364d-493e-b508-f2b37ee12ae7",
   "metadata": {},
   "outputs": [
    {
     "data": {
      "text/plain": [
       "12"
      ]
     },
     "execution_count": 15,
     "metadata": {},
     "output_type": "execute_result"
    }
   ],
   "source": [
    "Saurabh_info['Experience']"
   ]
  },
  {
   "cell_type": "markdown",
   "id": "a78ea76b-a6df-4f68-b73b-3a244374c2c1",
   "metadata": {},
   "source": [
    "#### Dictionary Methods"
   ]
  },
  {
   "cell_type": "code",
   "execution_count": 20,
   "id": "77438ea5-6063-4751-81ea-dadd16f12c5f",
   "metadata": {},
   "outputs": [
    {
     "data": {
      "text/plain": [
       "12"
      ]
     },
     "execution_count": 20,
     "metadata": {},
     "output_type": "execute_result"
    }
   ],
   "source": [
    "Saurabh_info.pop('Experience') # Removes the specified element in the command"
   ]
  },
  {
   "cell_type": "code",
   "execution_count": 22,
   "id": "f54d3e48-2af0-454f-9064-8a72b6c21bbd",
   "metadata": {},
   "outputs": [
    {
     "data": {
      "text/plain": [
       "{'Name': 'Saurabh', 'age': 30, 'city': 'Bangalore'}"
      ]
     },
     "execution_count": 22,
     "metadata": {},
     "output_type": "execute_result"
    }
   ],
   "source": [
    "Saurabh_info"
   ]
  },
  {
   "cell_type": "code",
   "execution_count": 24,
   "id": "5c6f8c15-3daa-40af-a9aa-d6ae85567ee1",
   "metadata": {},
   "outputs": [],
   "source": [
    "Saurabh_info['Experience'] = 12"
   ]
  },
  {
   "cell_type": "code",
   "execution_count": 26,
   "id": "a2fd1fdf-f3d9-41da-af6c-a64b3db813f1",
   "metadata": {},
   "outputs": [
    {
     "data": {
      "text/plain": [
       "{'Name': 'Saurabh', 'age': 30, 'city': 'Bangalore', 'Experience': 12}"
      ]
     },
     "execution_count": 26,
     "metadata": {},
     "output_type": "execute_result"
    }
   ],
   "source": [
    "Saurabh_info"
   ]
  },
  {
   "cell_type": "code",
   "execution_count": 32,
   "id": "5d48e5ad-093e-47f7-a8b1-6f5d82095610",
   "metadata": {},
   "outputs": [
    {
     "data": {
      "text/plain": [
       "dict_items([('Name', 'Saurabh'), ('age', 30), ('city', 'Bangalore'), ('Experience', 12)])"
      ]
     },
     "execution_count": 32,
     "metadata": {},
     "output_type": "execute_result"
    }
   ],
   "source": [
    "Saurabh_info.items() # Displays all Key Value Pair"
   ]
  },
  {
   "cell_type": "code",
   "execution_count": 87,
   "id": "39f52aa3-5614-42fe-9909-a010d32115c9",
   "metadata": {},
   "outputs": [],
   "source": [
    "Saurabh_info.update({'Experience':14})"
   ]
  },
  {
   "cell_type": "code",
   "execution_count": 36,
   "id": "f958011d-d3d5-4cf8-a7c9-d796932b3ede",
   "metadata": {},
   "outputs": [
    {
     "data": {
      "text/plain": [
       "{'Name': 'Saurabh', 'age': 30, 'city': 'Bangalore', 'Experience': 14}"
      ]
     },
     "execution_count": 36,
     "metadata": {},
     "output_type": "execute_result"
    }
   ],
   "source": [
    "Saurabh_info"
   ]
  },
  {
   "cell_type": "code",
   "execution_count": 40,
   "id": "d524e0bf-ccc0-4911-bec6-e383f60caedf",
   "metadata": {},
   "outputs": [],
   "source": [
    "Copy = Saurabh_info.copy()"
   ]
  },
  {
   "cell_type": "code",
   "execution_count": 42,
   "id": "ea3fdfe3-9bd9-4d66-aee8-f0167644eb33",
   "metadata": {},
   "outputs": [
    {
     "data": {
      "text/plain": [
       "{'Name': 'Saurabh', 'age': 30, 'city': 'Bangalore', 'Experience': 14}"
      ]
     },
     "execution_count": 42,
     "metadata": {},
     "output_type": "execute_result"
    }
   ],
   "source": [
    "Copy"
   ]
  },
  {
   "cell_type": "code",
   "execution_count": 44,
   "id": "6953d837-98a2-4b95-91be-0fa1415f8965",
   "metadata": {},
   "outputs": [],
   "source": [
    "Saurabh_info['Experience'] = 13"
   ]
  },
  {
   "cell_type": "code",
   "execution_count": 46,
   "id": "477f9cc3-220d-421d-adf2-d8bef50b90fb",
   "metadata": {},
   "outputs": [
    {
     "data": {
      "text/plain": [
       "{'Name': 'Saurabh', 'age': 30, 'city': 'Bangalore', 'Experience': 13}"
      ]
     },
     "execution_count": 46,
     "metadata": {},
     "output_type": "execute_result"
    }
   ],
   "source": [
    "Saurabh_info"
   ]
  },
  {
   "cell_type": "code",
   "execution_count": 59,
   "id": "08d44feb-54ad-49d4-be51-17c396250cd6",
   "metadata": {},
   "outputs": [],
   "source": [
    "Saurabh_info.clear()"
   ]
  },
  {
   "cell_type": "code",
   "execution_count": 50,
   "id": "29024154-4052-44bb-8ddd-0990bac1e697",
   "metadata": {},
   "outputs": [
    {
     "data": {
      "text/plain": [
       "{}"
      ]
     },
     "execution_count": 50,
     "metadata": {},
     "output_type": "execute_result"
    }
   ],
   "source": [
    "Saurabh_info"
   ]
  },
  {
   "cell_type": "code",
   "execution_count": 77,
   "id": "82dbd2df-9a17-4339-acf3-223b1a0bfbd6",
   "metadata": {},
   "outputs": [],
   "source": [
    "Saurabh_info = {'Name':'Saurabh','age':30,'city':'Bangalore','Experience' : 12}"
   ]
  },
  {
   "cell_type": "code",
   "execution_count": 89,
   "id": "11840ed4-e25e-40bd-8e1a-d929104e52a8",
   "metadata": {},
   "outputs": [
    {
     "data": {
      "text/plain": [
       "{'Name': 'Saurabh', 'age': 30, 'city': 'Bangalore', 'Experience': 14}"
      ]
     },
     "execution_count": 89,
     "metadata": {},
     "output_type": "execute_result"
    }
   ],
   "source": [
    "Saurabh_info"
   ]
  },
  {
   "cell_type": "markdown",
   "id": "4d17b1f5-07dc-4ee6-bbc4-b79e06daf28e",
   "metadata": {},
   "source": [
    "#### Nested Dictionaries"
   ]
  },
  {
   "cell_type": "code",
   "execution_count": 91,
   "id": "3fd81d0a-765b-47f1-91bf-98ecf8d9db01",
   "metadata": {},
   "outputs": [],
   "source": [
    "Employee_info = {'EM2403': \n",
    "                 {'name': 'Alice',\n",
    "                    'age': 30,\n",
    "                    'city': 'New York'},\n",
    "                'EM2409': {\n",
    "                    'name': 'Bob',\n",
    "                    'age': 25,\n",
    "                    'city': 'San Francisco'\n",
    "                },\n",
    "                'EM2390': {\n",
    "                    'name': 'Charlie',\n",
    "                    'age': 35,\n",
    "                    'city': 'Seattle'\n",
    "                },\n",
    "                'EM2399': {\n",
    "                    'name': 'Subhash',\n",
    "                    'age': 35,\n",
    "                    'city': 'Washington'\n",
    "                }\n",
    "            }"
   ]
  },
  {
   "cell_type": "code",
   "execution_count": 93,
   "id": "907779f3-3856-4b6e-bca9-b00e47a3d1bd",
   "metadata": {},
   "outputs": [
    {
     "data": {
      "text/plain": [
       "{'EM2403': {'name': 'Alice', 'age': 30, 'city': 'New York'},\n",
       " 'EM2409': {'name': 'Bob', 'age': 25, 'city': 'San Francisco'},\n",
       " 'EM2390': {'name': 'Charlie', 'age': 35, 'city': 'Seattle'},\n",
       " 'EM2399': {'name': 'Subhash', 'age': 35, 'city': 'Washington'}}"
      ]
     },
     "execution_count": 93,
     "metadata": {},
     "output_type": "execute_result"
    }
   ],
   "source": [
    "Employee_info"
   ]
  },
  {
   "cell_type": "code",
   "execution_count": 101,
   "id": "1480f654-de38-4c24-8e51-ca309da566b5",
   "metadata": {},
   "outputs": [
    {
     "name": "stdout",
     "output_type": "stream",
     "text": [
      "Charlie\n"
     ]
    }
   ],
   "source": [
    "print(Employee_info['EM2390']['name'])"
   ]
  },
  {
   "cell_type": "code",
   "execution_count": 105,
   "id": "63021e78-0513-4759-af6a-af9b68a18737",
   "metadata": {},
   "outputs": [],
   "source": [
    "Employee_info['EM2399'].update({'city': 'Mumbai'})"
   ]
  },
  {
   "cell_type": "code",
   "execution_count": 107,
   "id": "6e285f2d-ed9c-4342-84e2-c8aa6f59d602",
   "metadata": {},
   "outputs": [
    {
     "data": {
      "text/plain": [
       "{'EM2403': {'name': 'Alice', 'age': 30, 'city': 'New York'},\n",
       " 'EM2409': {'name': 'Bob', 'age': 25, 'city': 'San Francisco'},\n",
       " 'EM2390': {'name': 'Charlie', 'age': 35, 'city': 'Seattle'},\n",
       " 'EM2399': {'name': 'Subhash', 'age': 35, 'city': 'Mumbai'}}"
      ]
     },
     "execution_count": 107,
     "metadata": {},
     "output_type": "execute_result"
    }
   ],
   "source": [
    "Employee_info"
   ]
  },
  {
   "cell_type": "markdown",
   "id": "c762afd8-9671-4895-8395-2d372902ca79",
   "metadata": {},
   "source": [
    "## Sets"
   ]
  },
  {
   "cell_type": "markdown",
   "id": "42bf89d4-07fd-47e9-80f5-16b047fe4b0b",
   "metadata": {},
   "source": [
    "#### Creating Sets"
   ]
  },
  {
   "cell_type": "code",
   "execution_count": 112,
   "id": "6f4a72f1-f4a5-491a-b184-3f2e2df52669",
   "metadata": {},
   "outputs": [],
   "source": [
    "Set_1 = {1,3,5,7,9}"
   ]
  },
  {
   "cell_type": "code",
   "execution_count": 114,
   "id": "c5919b1e-b8c2-4c4c-8b4a-41e75e483af3",
   "metadata": {},
   "outputs": [],
   "source": [
    "Set_1.add(11) # Adds the element towards the end"
   ]
  },
  {
   "cell_type": "code",
   "execution_count": 141,
   "id": "b6c456ad-c256-48a6-9566-aafd8b7a2f37",
   "metadata": {},
   "outputs": [
    {
     "data": {
      "text/plain": [
       "{1, 11, 3, 5, 7, 9, 'Hello'}"
      ]
     },
     "execution_count": 141,
     "metadata": {},
     "output_type": "execute_result"
    }
   ],
   "source": [
    "Set_1"
   ]
  },
  {
   "cell_type": "code",
   "execution_count": 122,
   "id": "8b01856f-1c84-4074-85a8-89c70de81f0b",
   "metadata": {},
   "outputs": [],
   "source": [
    "Set_2 = {2,1,3,1,4,2,4,5,1,2,3,4,5}"
   ]
  },
  {
   "cell_type": "code",
   "execution_count": 124,
   "id": "8d8a7cc3-2798-46bb-b66f-1b265b9273b0",
   "metadata": {},
   "outputs": [
    {
     "data": {
      "text/plain": [
       "{1, 2, 3, 4, 5}"
      ]
     },
     "execution_count": 124,
     "metadata": {},
     "output_type": "execute_result"
    }
   ],
   "source": [
    "Set_2"
   ]
  },
  {
   "cell_type": "code",
   "execution_count": 143,
   "id": "0778cf8e-1cb2-4e3d-8339-a9108fe9bd6f",
   "metadata": {},
   "outputs": [],
   "source": [
    "Set_1.add('Hello')"
   ]
  },
  {
   "cell_type": "code",
   "execution_count": 145,
   "id": "6e3a365a-d471-4d1b-9371-a1c64df911e3",
   "metadata": {},
   "outputs": [
    {
     "data": {
      "text/plain": [
       "{1, 11, 3, 5, 7, 9, 'Hello'}"
      ]
     },
     "execution_count": 145,
     "metadata": {},
     "output_type": "execute_result"
    }
   ],
   "source": [
    "Set_1"
   ]
  },
  {
   "cell_type": "code",
   "execution_count": 223,
   "id": "340e2df0-d3d6-419e-8ccd-542f1009e6a2",
   "metadata": {},
   "outputs": [],
   "source": [
    "Mul_of_3 = {3,6,9,12,15}\n",
    "Mul_of_4 = {4,8,12,16,20}"
   ]
  },
  {
   "cell_type": "markdown",
   "id": "e939f7d2-ab2b-48b9-bf6d-0dcc38465d19",
   "metadata": {},
   "source": [
    "#### Union"
   ]
  },
  {
   "cell_type": "code",
   "execution_count": 150,
   "id": "41d14372-ce06-4b60-80e8-2e8d3df7819f",
   "metadata": {},
   "outputs": [
    {
     "data": {
      "text/plain": [
       "{3, 6, 9, 12, 15}"
      ]
     },
     "execution_count": 150,
     "metadata": {},
     "output_type": "execute_result"
    }
   ],
   "source": [
    "Mul_of_3"
   ]
  },
  {
   "cell_type": "code",
   "execution_count": 152,
   "id": "f66b40d2-28df-48db-949d-bde7e4f09293",
   "metadata": {},
   "outputs": [
    {
     "data": {
      "text/plain": [
       "{4, 8, 12, 16, 20}"
      ]
     },
     "execution_count": 152,
     "metadata": {},
     "output_type": "execute_result"
    }
   ],
   "source": [
    "Mul_of_4"
   ]
  },
  {
   "cell_type": "code",
   "execution_count": 154,
   "id": "e3078325-5152-4edc-8518-468941d205f6",
   "metadata": {},
   "outputs": [],
   "source": [
    "Combined = Mul_of_3.union(Mul_of_4)"
   ]
  },
  {
   "cell_type": "code",
   "execution_count": 156,
   "id": "a21388a0-c325-41cc-a7b5-69d0a58f51b9",
   "metadata": {},
   "outputs": [
    {
     "data": {
      "text/plain": [
       "{3, 4, 6, 8, 9, 12, 15, 16, 20}"
      ]
     },
     "execution_count": 156,
     "metadata": {},
     "output_type": "execute_result"
    }
   ],
   "source": [
    "Combined"
   ]
  },
  {
   "cell_type": "code",
   "execution_count": 158,
   "id": "ca653897-2cec-4476-9c2b-dd6d59e98483",
   "metadata": {},
   "outputs": [
    {
     "data": {
      "text/plain": [
       "{3, 4, 6, 8, 9, 12, 15, 16, 20}"
      ]
     },
     "execution_count": 158,
     "metadata": {},
     "output_type": "execute_result"
    }
   ],
   "source": [
    "Mul_of_4.union(Mul_of_3)"
   ]
  },
  {
   "cell_type": "markdown",
   "id": "79ade575-f3ac-482b-9fb5-16fd2b9d07de",
   "metadata": {},
   "source": [
    "#### Intersection"
   ]
  },
  {
   "cell_type": "code",
   "execution_count": 161,
   "id": "cf978fe6-d7e2-43b7-a17b-676903184fa7",
   "metadata": {},
   "outputs": [],
   "source": [
    "Common = Mul_of_3.intersection(Mul_of_4)"
   ]
  },
  {
   "cell_type": "code",
   "execution_count": 163,
   "id": "f393b612-e621-40e0-97a7-2b9af3b7d147",
   "metadata": {},
   "outputs": [
    {
     "data": {
      "text/plain": [
       "{12}"
      ]
     },
     "execution_count": 163,
     "metadata": {},
     "output_type": "execute_result"
    }
   ],
   "source": [
    "Common"
   ]
  },
  {
   "cell_type": "code",
   "execution_count": 165,
   "id": "584cd812-e875-435f-9ce0-95d3be6f256c",
   "metadata": {},
   "outputs": [
    {
     "data": {
      "text/plain": [
       "{4, 8, 12, 16, 20}"
      ]
     },
     "execution_count": 165,
     "metadata": {},
     "output_type": "execute_result"
    }
   ],
   "source": [
    "Mul_of_4"
   ]
  },
  {
   "cell_type": "code",
   "execution_count": 167,
   "id": "ccb7717c-18ef-419b-ae9c-5347acdeec5b",
   "metadata": {},
   "outputs": [],
   "source": [
    "Mul_of_4.intersection_update(Mul_of_4)"
   ]
  },
  {
   "cell_type": "code",
   "execution_count": 169,
   "id": "d30bacde-72ec-42f0-b7cd-fabb55e3dd9a",
   "metadata": {},
   "outputs": [
    {
     "data": {
      "text/plain": [
       "{4, 8, 12, 16, 20}"
      ]
     },
     "execution_count": 169,
     "metadata": {},
     "output_type": "execute_result"
    }
   ],
   "source": [
    "Mul_of_4"
   ]
  },
  {
   "cell_type": "markdown",
   "id": "4fb7b8b1-1926-4408-b223-1da11fd2becb",
   "metadata": {},
   "source": [
    "##### Difference"
   ]
  },
  {
   "cell_type": "code",
   "execution_count": 178,
   "id": "04a4b56e-ba1c-4248-9412-8dea2446977c",
   "metadata": {},
   "outputs": [
    {
     "name": "stdout",
     "output_type": "stream",
     "text": [
      "{3, 6, 9, 12, 15}\n",
      "{16, 4, 20, 8, 12}\n"
     ]
    }
   ],
   "source": [
    "print(Mul_of_3)\n",
    "print(Mul_of_4)"
   ]
  },
  {
   "cell_type": "code",
   "execution_count": 172,
   "id": "7a90e10e-e33d-4eda-be44-8a0ac0192ae4",
   "metadata": {},
   "outputs": [],
   "source": [
    "diff = Mul_of_3 - Mul_of_4"
   ]
  },
  {
   "cell_type": "code",
   "execution_count": 174,
   "id": "c19aa395-3068-4c75-861c-0b9a0e6f5a8e",
   "metadata": {},
   "outputs": [
    {
     "data": {
      "text/plain": [
       "{3, 6, 9, 15}"
      ]
     },
     "execution_count": 174,
     "metadata": {},
     "output_type": "execute_result"
    }
   ],
   "source": [
    "diff"
   ]
  },
  {
   "cell_type": "code",
   "execution_count": 194,
   "id": "12219ccc-f71c-4528-b8af-e9ea8929c811",
   "metadata": {},
   "outputs": [
    {
     "data": {
      "text/plain": [
       "{4, 8, 16, 20}"
      ]
     },
     "execution_count": 194,
     "metadata": {},
     "output_type": "execute_result"
    }
   ],
   "source": [
    "Mul_of_4-Mul_of_3"
   ]
  },
  {
   "cell_type": "code",
   "execution_count": 198,
   "id": "194b14dc-9c8a-4ca3-85c4-0c85bf170cfe",
   "metadata": {},
   "outputs": [
    {
     "name": "stdout",
     "output_type": "stream",
     "text": [
      "{3, 6, 9, 12, 15}\n",
      "{16, 4, 20, 8, 12}\n"
     ]
    }
   ],
   "source": [
    "print(Mul_of_3)\n",
    "print(Mul_of_4)"
   ]
  },
  {
   "cell_type": "code",
   "execution_count": 200,
   "id": "04fc5be5-6c3c-4cfa-b7d2-629a472963b0",
   "metadata": {},
   "outputs": [],
   "source": [
    "Diffset = Mul_of_3.difference(Mul_of_4)"
   ]
  },
  {
   "cell_type": "code",
   "execution_count": 202,
   "id": "d814bfeb-9f06-419c-a002-812cdc308a77",
   "metadata": {},
   "outputs": [
    {
     "data": {
      "text/plain": [
       "{3, 6, 9, 15}"
      ]
     },
     "execution_count": 202,
     "metadata": {},
     "output_type": "execute_result"
    }
   ],
   "source": [
    "Diffset"
   ]
  },
  {
   "cell_type": "code",
   "execution_count": 204,
   "id": "f6c3d324-1d00-478a-9ea6-a189d4acec88",
   "metadata": {},
   "outputs": [
    {
     "data": {
      "text/plain": [
       "{3, 6, 9, 12, 15}"
      ]
     },
     "execution_count": 204,
     "metadata": {},
     "output_type": "execute_result"
    }
   ],
   "source": [
    "Mul_of_3"
   ]
  },
  {
   "cell_type": "code",
   "execution_count": 206,
   "id": "387d9cda-4cc6-464e-aa57-e0a5f708f52b",
   "metadata": {},
   "outputs": [],
   "source": [
    "Mul_of_3.difference_update(Mul_of_4)"
   ]
  },
  {
   "cell_type": "code",
   "execution_count": 208,
   "id": "40fa77eb-66b3-4a52-9cff-a320514be713",
   "metadata": {},
   "outputs": [
    {
     "data": {
      "text/plain": [
       "{3, 6, 9, 15}"
      ]
     },
     "execution_count": 208,
     "metadata": {},
     "output_type": "execute_result"
    }
   ],
   "source": [
    "Mul_of_3"
   ]
  },
  {
   "cell_type": "markdown",
   "id": "06a57d95-1c1d-4a3d-8129-290bb76f7c2d",
   "metadata": {},
   "source": [
    "#### Symmetric Difference"
   ]
  },
  {
   "cell_type": "code",
   "execution_count": 225,
   "id": "3592cb5e-4989-4a1c-8848-0a3dba24cd78",
   "metadata": {},
   "outputs": [
    {
     "data": {
      "text/plain": [
       "{3, 4, 6, 8, 9, 15, 16, 20}"
      ]
     },
     "execution_count": 225,
     "metadata": {},
     "output_type": "execute_result"
    }
   ],
   "source": [
    "Mul_of_3.symmetric_difference(Mul_of_4)"
   ]
  },
  {
   "cell_type": "code",
   "execution_count": 227,
   "id": "ac69d8d1-6486-47bf-a5d5-a0676fd4a026",
   "metadata": {},
   "outputs": [],
   "source": [
    "Mul_of_3.symmetric_difference_update(Mul_of_4)"
   ]
  },
  {
   "cell_type": "code",
   "execution_count": 229,
   "id": "901be463-a44c-4242-834c-8c27192a3d83",
   "metadata": {},
   "outputs": [
    {
     "data": {
      "text/plain": [
       "{3, 4, 6, 8, 9, 15, 16, 20}"
      ]
     },
     "execution_count": 229,
     "metadata": {},
     "output_type": "execute_result"
    }
   ],
   "source": [
    "Mul_of_3"
   ]
  },
  {
   "cell_type": "code",
   "execution_count": 233,
   "id": "4dacdfe6-de48-4f90-ad53-099666dfa6c4",
   "metadata": {},
   "outputs": [],
   "source": [
    "Mul_of_3.remove(8)"
   ]
  },
  {
   "cell_type": "code",
   "execution_count": 277,
   "id": "96bd7407-452c-4b82-b1cc-1bb7510ee632",
   "metadata": {},
   "outputs": [
    {
     "data": {
      "text/plain": [
       "{3, 4, 6, 9, 15, 16, 20}"
      ]
     },
     "execution_count": 277,
     "metadata": {},
     "output_type": "execute_result"
    }
   ],
   "source": [
    "Mul_of_3"
   ]
  },
  {
   "cell_type": "code",
   "execution_count": 237,
   "id": "0e97c6de-94e3-4fd2-9585-84451b0dfd1b",
   "metadata": {},
   "outputs": [
    {
     "data": {
      "text/plain": [
       "{4, 8, 12, 16, 20}"
      ]
     },
     "execution_count": 237,
     "metadata": {},
     "output_type": "execute_result"
    }
   ],
   "source": [
    "Mul_of_4"
   ]
  },
  {
   "cell_type": "code",
   "execution_count": 243,
   "id": "8323eac1-5afb-40a8-9529-fea5b87b5858",
   "metadata": {},
   "outputs": [],
   "source": [
    "Mul_of_4.remove(8)"
   ]
  },
  {
   "cell_type": "markdown",
   "id": "dbbb69ae-dd3c-4ca1-9cb4-02ba5476f398",
   "metadata": {},
   "source": [
    "#### Conditional Statements"
   ]
  },
  {
   "cell_type": "raw",
   "id": "f15f4f15-9f5a-4ff8-8173-45504a4776f2",
   "metadata": {},
   "source": [
    "If, Else, If Else"
   ]
  },
  {
   "cell_type": "code",
   "execution_count": 260,
   "id": "c9b3ad44-c775-4e3a-8e9b-a6ff3f9889e7",
   "metadata": {},
   "outputs": [
    {
     "name": "stdin",
     "output_type": "stream",
     "text": [
      "Enter the Number 22\n"
     ]
    },
    {
     "name": "stdout",
     "output_type": "stream",
     "text": [
      "The given number is Greater than 2\n"
     ]
    }
   ],
   "source": [
    "x = int(input('Enter the Number'))\n",
    "if x > 2:\n",
    "    print('The given number is Greater than 2')   "
   ]
  },
  {
   "cell_type": "code",
   "execution_count": 258,
   "id": "6ff331c9-0223-495c-8d9f-2b539a81e409",
   "metadata": {},
   "outputs": [
    {
     "name": "stdin",
     "output_type": "stream",
     "text": [
      "Enter the Number 23\n"
     ]
    },
    {
     "name": "stdout",
     "output_type": "stream",
     "text": [
      "The given number is Odd\n"
     ]
    }
   ],
   "source": [
    "x = int(input('Enter the Number'))\n",
    "if x % 2 == 0:\n",
    "    print('The given number is Even')\n",
    "else:\n",
    "    print('The given number is Odd')"
   ]
  },
  {
   "cell_type": "code",
   "execution_count": 272,
   "id": "f45f0507-54f1-4292-929b-74baffc71a40",
   "metadata": {},
   "outputs": [
    {
     "name": "stdin",
     "output_type": "stream",
     "text": [
      "Enter the Number 20\n"
     ]
    },
    {
     "name": "stdout",
     "output_type": "stream",
     "text": [
      "The given number is a Multiple of 4\n"
     ]
    }
   ],
   "source": [
    "x = int(input('Enter the Number'))\n",
    "if x % 3 == 0:\n",
    "    print('The given number is a Multiple of 3')\n",
    "elif x % 4 == 0:\n",
    "    print('The given number is a Multiple of 4')\n",
    "elif x % 5 == 0:\n",
    "    print('The given number is a Multiple of 5')\n",
    "else:\n",
    "    print('The given number is not a Multiple of any one of 3,4 or 5')"
   ]
  },
  {
   "cell_type": "markdown",
   "id": "b4c9d91e-7a50-4e24-acd5-cd34c6a8d2be",
   "metadata": {},
   "source": [
    "### Loops"
   ]
  },
  {
   "cell_type": "code",
   "execution_count": 275,
   "id": "865f07f1-908e-4d0c-a4fd-69c3702509ff",
   "metadata": {},
   "outputs": [],
   "source": [
    "## for, while"
   ]
  },
  {
   "cell_type": "code",
   "execution_count": 281,
   "id": "c24503c0-1612-4ac0-a7e9-95212be39ae0",
   "metadata": {},
   "outputs": [
    {
     "name": "stdout",
     "output_type": "stream",
     "text": [
      "6\n",
      "7\n",
      "9\n",
      "12\n",
      "18\n",
      "19\n",
      "23\n"
     ]
    }
   ],
   "source": [
    "for i in Mul_of_3:\n",
    "    print(i+3)"
   ]
  },
  {
   "cell_type": "code",
   "execution_count": 285,
   "id": "abe6853d-c65f-4b42-a66a-a40c5659bcf8",
   "metadata": {},
   "outputs": [
    {
     "name": "stdout",
     "output_type": "stream",
     "text": [
      "apple\n",
      "banana\n",
      "orange\n",
      "grapes\n"
     ]
    }
   ],
   "source": [
    "for i in Fruits:\n",
    "    print(i)"
   ]
  },
  {
   "cell_type": "code",
   "execution_count": 303,
   "id": "32a8df5a-2767-412d-883c-38ce55dfc106",
   "metadata": {},
   "outputs": [
    {
     "name": "stdout",
     "output_type": "stream",
     "text": [
      "The Square of 1 is 1\n",
      "The Square of 2 is 4\n",
      "The Square of 3 is 9\n",
      "The Square of 4 is 16\n",
      "The Square of 5 is 25\n",
      "The Square of 6 is 36\n",
      "The Square of 7 is 49\n",
      "The Square of 8 is 64\n",
      "The Square of 9 is 81\n"
     ]
    }
   ],
   "source": [
    "for i in range(1,10):\n",
    "    print('The Square of {} is {}'.format(i,i**2))"
   ]
  },
  {
   "cell_type": "markdown",
   "id": "2c259cdc-136d-448d-b8f4-107517c58d8e",
   "metadata": {},
   "source": [
    "##### While loop"
   ]
  },
  {
   "cell_type": "code",
   "execution_count": 309,
   "id": "707537c8-b9ed-4d22-8035-c7ee92705bdc",
   "metadata": {},
   "outputs": [
    {
     "name": "stdout",
     "output_type": "stream",
     "text": [
      "0\n",
      "1\n",
      "2\n",
      "3\n",
      "4\n",
      "5\n",
      "6\n",
      "7\n",
      "8\n",
      "9\n",
      "10\n"
     ]
    }
   ],
   "source": [
    "i = 0\n",
    "while i <= 10:\n",
    "    print(i)\n",
    "    i = i + 1"
   ]
  },
  {
   "cell_type": "raw",
   "id": "547b2968-b6c3-4d44-934f-4239864a7985",
   "metadata": {},
   "source": [
    "List "
   ]
  },
  {
   "cell_type": "markdown",
   "id": "a319e0a3-bb41-4a27-9721-7762fcdecc42",
   "metadata": {},
   "source": [
    "###### List Comprehension"
   ]
  },
  {
   "cell_type": "code",
   "execution_count": 312,
   "id": "8a04ab8c-0a34-4f69-a2f4-ef5b5a38b620",
   "metadata": {},
   "outputs": [],
   "source": [
    "M3 = [1,2,3,4,5,6,7,8,9]"
   ]
  },
  {
   "cell_type": "code",
   "execution_count": 320,
   "id": "ae94382f-6bd9-47dc-97cb-a29b8b1dbe13",
   "metadata": {},
   "outputs": [],
   "source": [
    "M3Squres = [x**2 for x in M3]"
   ]
  },
  {
   "cell_type": "code",
   "execution_count": 322,
   "id": "fa9fb78d-8221-4850-b20a-1ce6858528a4",
   "metadata": {},
   "outputs": [
    {
     "data": {
      "text/plain": [
       "[1, 4, 9, 16, 25, 36, 49, 64, 81]"
      ]
     },
     "execution_count": 322,
     "metadata": {},
     "output_type": "execute_result"
    }
   ],
   "source": [
    "M3Squres"
   ]
  },
  {
   "cell_type": "code",
   "execution_count": 324,
   "id": "cc4a3ae8-4b54-4319-86b1-6c0ea70f34f4",
   "metadata": {},
   "outputs": [],
   "source": [
    "Even = [x for x in M3 if x%2 == 0]"
   ]
  },
  {
   "cell_type": "code",
   "execution_count": 326,
   "id": "3c82c926-eefd-466a-a44d-4483e7fd7022",
   "metadata": {},
   "outputs": [
    {
     "data": {
      "text/plain": [
       "[2, 4, 6, 8]"
      ]
     },
     "execution_count": 326,
     "metadata": {},
     "output_type": "execute_result"
    }
   ],
   "source": [
    "Even"
   ]
  },
  {
   "cell_type": "code",
   "execution_count": 328,
   "id": "6b9d029b-5002-4c93-89a2-d4a27344fab2",
   "metadata": {},
   "outputs": [],
   "source": [
    "Odd = [x for x in M3 if x%2 != 0]"
   ]
  },
  {
   "cell_type": "code",
   "execution_count": 330,
   "id": "9bb0af5c-4634-4ae6-afaf-47297207962a",
   "metadata": {},
   "outputs": [
    {
     "data": {
      "text/plain": [
       "[1, 3, 5, 7, 9]"
      ]
     },
     "execution_count": 330,
     "metadata": {},
     "output_type": "execute_result"
    }
   ],
   "source": [
    "Odd"
   ]
  },
  {
   "cell_type": "code",
   "execution_count": 332,
   "id": "1124699b-6c88-4d3c-ade5-5d3aae3e9865",
   "metadata": {},
   "outputs": [],
   "source": [
    "First20 = [x for x in range(1,21)]"
   ]
  },
  {
   "cell_type": "code",
   "execution_count": 334,
   "id": "05cc8235-b4f1-498d-b0c5-332ca3b01ae6",
   "metadata": {},
   "outputs": [
    {
     "data": {
      "text/plain": [
       "[1, 2, 3, 4, 5, 6, 7, 8, 9, 10, 11, 12, 13, 14, 15, 16, 17, 18, 19, 20]"
      ]
     },
     "execution_count": 334,
     "metadata": {},
     "output_type": "execute_result"
    }
   ],
   "source": [
    "First20"
   ]
  },
  {
   "cell_type": "code",
   "execution_count": 356,
   "id": "a306824c-fc45-437b-851f-49ad6ab4aa55",
   "metadata": {},
   "outputs": [],
   "source": [
    "Cubes = {'The cube of {} is'.format(x):x**3 for x in Mul_of_3}"
   ]
  },
  {
   "cell_type": "code",
   "execution_count": 360,
   "id": "b8dc85fb-28c3-4bf3-8261-e6f99d40a012",
   "metadata": {},
   "outputs": [
    {
     "data": {
      "text/plain": [
       "{'The cube of 3 is': 27,\n",
       " 'The cube of 4 is': 64,\n",
       " 'The cube of 6 is': 216,\n",
       " 'The cube of 9 is': 729,\n",
       " 'The cube of 15 is': 3375,\n",
       " 'The cube of 16 is': 4096,\n",
       " 'The cube of 20 is': 8000}"
      ]
     },
     "execution_count": 360,
     "metadata": {},
     "output_type": "execute_result"
    }
   ],
   "source": [
    "Cubes"
   ]
  },
  {
   "cell_type": "code",
   "execution_count": 366,
   "id": "c394e7c8-0981-4d2b-babc-ebe5e9a0fbcf",
   "metadata": {},
   "outputs": [],
   "source": [
    "SquareCubes = {'Number is {}'.format(x):{'Its Square is {}'.format(x**2),'Its Cube is {}'.format(x**3)} for x in Mul_of_4}"
   ]
  },
  {
   "cell_type": "code",
   "execution_count": 368,
   "id": "356c9195-7a14-4f20-8d82-90c802330ed5",
   "metadata": {},
   "outputs": [
    {
     "data": {
      "text/plain": [
       "{'Number is 16': {'Its Cube is 4096', 'Its Square is 256'},\n",
       " 'Number is 4': {'Its Cube is 64', 'Its Square is 16'},\n",
       " 'Number is 20': {'Its Cube is 8000', 'Its Square is 400'},\n",
       " 'Number is 12': {'Its Cube is 1728', 'Its Square is 144'}}"
      ]
     },
     "execution_count": 368,
     "metadata": {},
     "output_type": "execute_result"
    }
   ],
   "source": [
    "SquareCubes"
   ]
  },
  {
   "cell_type": "code",
   "execution_count": null,
   "id": "55e1c27a-9798-4787-9c7f-2ec6a35f6cf8",
   "metadata": {},
   "outputs": [],
   "source": []
  }
 ],
 "metadata": {
  "kernelspec": {
   "display_name": "Python 3 (ipykernel)",
   "language": "python",
   "name": "python3"
  },
  "language_info": {
   "codemirror_mode": {
    "name": "ipython",
    "version": 3
   },
   "file_extension": ".py",
   "mimetype": "text/x-python",
   "name": "python",
   "nbconvert_exporter": "python",
   "pygments_lexer": "ipython3",
   "version": "3.11.7"
  }
 },
 "nbformat": 4,
 "nbformat_minor": 5
}
