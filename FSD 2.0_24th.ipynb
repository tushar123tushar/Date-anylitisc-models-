{
 "cells": [
  {
   "cell_type": "code",
   "execution_count": 1,
   "id": "614d40f3-589d-4dd1-9c40-159e6d5d79be",
   "metadata": {},
   "outputs": [
    {
     "data": {
      "text/plain": [
       "7"
      ]
     },
     "execution_count": 1,
     "metadata": {},
     "output_type": "execute_result"
    }
   ],
   "source": [
    "2+5"
   ]
  },
  {
   "cell_type": "code",
   "execution_count": 2,
   "id": "4fb0d574-e978-4963-b142-f34bd0328436",
   "metadata": {},
   "outputs": [
    {
     "data": {
      "text/plain": [
       "4"
      ]
     },
     "execution_count": 2,
     "metadata": {},
     "output_type": "execute_result"
    }
   ],
   "source": [
    "2+2"
   ]
  },
  {
   "cell_type": "code",
   "execution_count": 3,
   "id": "dd240bad-46c8-44c1-86e5-8b14b95ff03e",
   "metadata": {},
   "outputs": [
    {
     "name": "stdout",
     "output_type": "stream",
     "text": [
      "Hello World\n"
     ]
    }
   ],
   "source": [
    "print(\"Hello World\")"
   ]
  },
  {
   "cell_type": "code",
   "execution_count": 4,
   "id": "d01fe1f5-dfe2-4863-8df8-27a263ab4073",
   "metadata": {},
   "outputs": [
    {
     "data": {
      "text/plain": [
       "32"
      ]
     },
     "execution_count": 4,
     "metadata": {},
     "output_type": "execute_result"
    }
   ],
   "source": [
    "23+9"
   ]
  },
  {
   "cell_type": "markdown",
   "id": "036e568e-5cf6-4f76-a8c1-c1df126e2cff",
   "metadata": {},
   "source": [
    "### Simple Expressions in Python"
   ]
  },
  {
   "cell_type": "markdown",
   "id": "da4a473c-6066-4a9a-aea9-1c214a779e59",
   "metadata": {},
   "source": [
    "#### Arithemetic Operators"
   ]
  },
  {
   "cell_type": "code",
   "execution_count": 7,
   "id": "de31114f-1207-4f0d-a92e-fdf5c31dfd43",
   "metadata": {},
   "outputs": [
    {
     "data": {
      "text/plain": [
       "15"
      ]
     },
     "execution_count": 7,
     "metadata": {},
     "output_type": "execute_result"
    }
   ],
   "source": [
    "8+7"
   ]
  },
  {
   "cell_type": "code",
   "execution_count": 8,
   "id": "2bfd28d0-a6b9-4b31-9940-9eec51e639ca",
   "metadata": {},
   "outputs": [
    {
     "data": {
      "text/plain": [
       "8"
      ]
     },
     "execution_count": 8,
     "metadata": {},
     "output_type": "execute_result"
    }
   ],
   "source": [
    "10-2"
   ]
  },
  {
   "cell_type": "code",
   "execution_count": 9,
   "id": "457b88b1-71da-4d4f-9a54-54c4aa445384",
   "metadata": {},
   "outputs": [
    {
     "data": {
      "text/plain": [
       "108"
      ]
     },
     "execution_count": 9,
     "metadata": {},
     "output_type": "execute_result"
    }
   ],
   "source": [
    "12*9"
   ]
  },
  {
   "cell_type": "code",
   "execution_count": 10,
   "id": "42b2e3b4-e626-4fdb-a506-5c5b31d824aa",
   "metadata": {},
   "outputs": [
    {
     "data": {
      "text/plain": [
       "3.75"
      ]
     },
     "execution_count": 10,
     "metadata": {},
     "output_type": "execute_result"
    }
   ],
   "source": [
    "15/4"
   ]
  },
  {
   "cell_type": "code",
   "execution_count": 11,
   "id": "30dd102b-2230-4461-8205-f40ce075dc2d",
   "metadata": {},
   "outputs": [
    {
     "data": {
      "text/plain": [
       "3"
      ]
     },
     "execution_count": 11,
     "metadata": {},
     "output_type": "execute_result"
    }
   ],
   "source": [
    "15//4"
   ]
  },
  {
   "cell_type": "code",
   "execution_count": 12,
   "id": "9b72fa9f-f323-49a3-a33a-f32509dd26a4",
   "metadata": {},
   "outputs": [
    {
     "data": {
      "text/plain": [
       "12.2"
      ]
     },
     "execution_count": 12,
     "metadata": {},
     "output_type": "execute_result"
    }
   ],
   "source": [
    "122/10"
   ]
  },
  {
   "cell_type": "code",
   "execution_count": 13,
   "id": "53963586-2ef1-4450-a4ab-807e4766beb8",
   "metadata": {},
   "outputs": [
    {
     "data": {
      "text/plain": [
       "-13"
      ]
     },
     "execution_count": 13,
     "metadata": {},
     "output_type": "execute_result"
    }
   ],
   "source": [
    "-122//10"
   ]
  },
  {
   "cell_type": "code",
   "execution_count": 14,
   "id": "09ce21b0-cf18-4bc8-8bc1-c6f44ba16a1c",
   "metadata": {},
   "outputs": [
    {
     "data": {
      "text/plain": [
       "9"
      ]
     },
     "execution_count": 14,
     "metadata": {},
     "output_type": "execute_result"
    }
   ],
   "source": [
    "130%11 ##Remainder"
   ]
  },
  {
   "cell_type": "code",
   "execution_count": 15,
   "id": "12227c63-2e14-4e51-808a-0dec622e58ce",
   "metadata": {},
   "outputs": [
    {
     "data": {
      "text/plain": [
       "8"
      ]
     },
     "execution_count": 15,
     "metadata": {},
     "output_type": "execute_result"
    }
   ],
   "source": [
    "2**3 # Power (Exponential)"
   ]
  },
  {
   "cell_type": "code",
   "execution_count": 16,
   "id": "7235db9b-5f79-48ff-99a3-7b7f6aa5d47b",
   "metadata": {},
   "outputs": [],
   "source": [
    "x = -176//10"
   ]
  },
  {
   "cell_type": "code",
   "execution_count": 17,
   "id": "1c48b014-097d-4cb3-bc1f-dfe60dce5ef0",
   "metadata": {},
   "outputs": [
    {
     "data": {
      "text/plain": [
       "-18"
      ]
     },
     "execution_count": 17,
     "metadata": {},
     "output_type": "execute_result"
    }
   ],
   "source": [
    "x"
   ]
  },
  {
   "cell_type": "markdown",
   "id": "9b70b65f-7c45-43d6-980e-b71a9667be36",
   "metadata": {},
   "source": [
    "#### String Operators"
   ]
  },
  {
   "cell_type": "code",
   "execution_count": 19,
   "id": "24114778-66db-428d-b8d8-5e8959b33882",
   "metadata": {},
   "outputs": [
    {
     "name": "stdout",
     "output_type": "stream",
     "text": [
      "Hello World\n"
     ]
    }
   ],
   "source": [
    "print(\"Hello World\")"
   ]
  },
  {
   "cell_type": "code",
   "execution_count": 20,
   "id": "d9e7f3e7-5752-4eba-afb2-fd70735e56b2",
   "metadata": {},
   "outputs": [],
   "source": [
    "Greeting = \"Hello world\""
   ]
  },
  {
   "cell_type": "code",
   "execution_count": 21,
   "id": "87e68b27-b872-4ac0-bc52-cfd84b25e2a1",
   "metadata": {},
   "outputs": [
    {
     "name": "stdout",
     "output_type": "stream",
     "text": [
      "Hello world\n"
     ]
    }
   ],
   "source": [
    "print(Greeting)"
   ]
  },
  {
   "cell_type": "code",
   "execution_count": 22,
   "id": "5c4619a1-8e36-4200-ac61-74b8b9df021c",
   "metadata": {},
   "outputs": [
    {
     "data": {
      "text/plain": [
       "'Good Evening to all of You'"
      ]
     },
     "execution_count": 22,
     "metadata": {},
     "output_type": "execute_result"
    }
   ],
   "source": [
    "\"Good Evening\" + \" to all of You\" # Concatenation"
   ]
  },
  {
   "cell_type": "code",
   "execution_count": 23,
   "id": "1d727a3a-cb95-47ab-be6b-3096b5b717d1",
   "metadata": {},
   "outputs": [
    {
     "data": {
      "text/plain": [
       "'Good Evening to all of You!!'"
      ]
     },
     "execution_count": 23,
     "metadata": {},
     "output_type": "execute_result"
    }
   ],
   "source": [
    "\"Good\" + \" \" + \"Evening\" + \" \" + \"to all of You!!\""
   ]
  },
  {
   "cell_type": "code",
   "execution_count": 24,
   "id": "8c7ce325-e065-4875-963f-b745ac6daba5",
   "metadata": {},
   "outputs": [
    {
     "name": "stdout",
     "output_type": "stream",
     "text": [
      " Good Evening\n",
      " Good Evening\n",
      " Good Evening\n",
      "\n"
     ]
    }
   ],
   "source": [
    "print(\" Good Evening\\n\" * 3)"
   ]
  },
  {
   "cell_type": "markdown",
   "id": "9ee05592-2ef6-4d2c-9dcc-da752938e9f3",
   "metadata": {},
   "source": [
    "#### Comparision"
   ]
  },
  {
   "cell_type": "code",
   "execution_count": 26,
   "id": "b6a9133b-c253-4a78-ab33-5febbc215875",
   "metadata": {},
   "outputs": [
    {
     "data": {
      "text/plain": [
       "True"
      ]
     },
     "execution_count": 26,
     "metadata": {},
     "output_type": "execute_result"
    }
   ],
   "source": [
    "5 == 5 # Is 5 equal to 5"
   ]
  },
  {
   "cell_type": "code",
   "execution_count": 27,
   "id": "bd0bb60b-049c-433e-b258-de568bb103ac",
   "metadata": {},
   "outputs": [
    {
     "data": {
      "text/plain": [
       "True"
      ]
     },
     "execution_count": 27,
     "metadata": {},
     "output_type": "execute_result"
    }
   ],
   "source": [
    "4 != 5"
   ]
  },
  {
   "cell_type": "code",
   "execution_count": 28,
   "id": "faef8db3-1e8c-4389-a522-dcdc1a962764",
   "metadata": {},
   "outputs": [
    {
     "data": {
      "text/plain": [
       "True"
      ]
     },
     "execution_count": 28,
     "metadata": {},
     "output_type": "execute_result"
    }
   ],
   "source": [
    "5 > 3"
   ]
  },
  {
   "cell_type": "code",
   "execution_count": 29,
   "id": "c9e4086b-83ec-41be-9913-d0957028fc02",
   "metadata": {},
   "outputs": [
    {
     "data": {
      "text/plain": [
       "False"
      ]
     },
     "execution_count": 29,
     "metadata": {},
     "output_type": "execute_result"
    }
   ],
   "source": [
    "5 < 3"
   ]
  },
  {
   "cell_type": "code",
   "execution_count": 30,
   "id": "599a9ed0-3d8f-45f7-8de8-6ef562e93a6e",
   "metadata": {},
   "outputs": [
    {
     "data": {
      "text/plain": [
       "True"
      ]
     },
     "execution_count": 30,
     "metadata": {},
     "output_type": "execute_result"
    }
   ],
   "source": [
    "5 >= 5 # is 5 greater than or equal to 5."
   ]
  },
  {
   "cell_type": "markdown",
   "id": "72bcea54-7b2c-40b9-9931-0b4c5ffa9b85",
   "metadata": {},
   "source": [
    "#### Variables"
   ]
  },
  {
   "cell_type": "code",
   "execution_count": 32,
   "id": "21c1f9d4-ef62-4736-aedd-705198978b90",
   "metadata": {},
   "outputs": [
    {
     "data": {
      "text/plain": [
       "40"
      ]
     },
     "execution_count": 32,
     "metadata": {},
     "output_type": "execute_result"
    }
   ],
   "source": [
    "age = 40\n",
    "age"
   ]
  },
  {
   "cell_type": "code",
   "execution_count": 33,
   "id": "bae48488-338f-4501-b981-9eb0f6ad2d23",
   "metadata": {},
   "outputs": [
    {
     "data": {
      "text/plain": [
       "52"
      ]
     },
     "execution_count": 33,
     "metadata": {},
     "output_type": "execute_result"
    }
   ],
   "source": [
    "age + 3 * 4"
   ]
  },
  {
   "cell_type": "code",
   "execution_count": 34,
   "id": "5b4b3afb-062b-4742-b673-e38ad5bef9ae",
   "metadata": {},
   "outputs": [],
   "source": [
    "Name = \"Priya\""
   ]
  },
  {
   "cell_type": "code",
   "execution_count": 35,
   "id": "f29c7c94-51d9-489b-a080-f437c904e73e",
   "metadata": {},
   "outputs": [],
   "source": [
    "Greet = \"Hi {}\".format(Name)"
   ]
  },
  {
   "cell_type": "code",
   "execution_count": 36,
   "id": "ec7847fb-ea47-4348-b4b3-807438e31cd0",
   "metadata": {},
   "outputs": [
    {
     "name": "stdout",
     "output_type": "stream",
     "text": [
      "Hi Priya\n"
     ]
    }
   ],
   "source": [
    "print(Greet)"
   ]
  },
  {
   "cell_type": "code",
   "execution_count": 37,
   "id": "b573ec80-2f30-429d-babf-95bcfa7f732d",
   "metadata": {},
   "outputs": [
    {
     "name": "stdout",
     "output_type": "stream",
     "text": [
      "2\n"
     ]
    }
   ],
   "source": [
    "a = 5\n",
    "b = 3\n",
    "c = a - b\n",
    "print(c)"
   ]
  },
  {
   "cell_type": "code",
   "execution_count": 38,
   "id": "1251d907-80e4-44de-943c-ac6a0c0b533c",
   "metadata": {},
   "outputs": [
    {
     "name": "stdin",
     "output_type": "stream",
     "text": [
      " Saurabh\n"
     ]
    }
   ],
   "source": [
    "Name = input()"
   ]
  },
  {
   "cell_type": "code",
   "execution_count": 39,
   "id": "51acc2e2-e43e-49ca-9819-4bc5eb07a216",
   "metadata": {},
   "outputs": [
    {
     "name": "stdin",
     "output_type": "stream",
     "text": [
      " 33\n"
     ]
    }
   ],
   "source": [
    "Age = input()"
   ]
  },
  {
   "cell_type": "code",
   "execution_count": 40,
   "id": "e38574bb-58ad-44b5-8b2c-9858efba0bfb",
   "metadata": {},
   "outputs": [
    {
     "name": "stdout",
     "output_type": "stream",
     "text": [
      "Your Name is Saurabh and you are 33 years old\n"
     ]
    }
   ],
   "source": [
    "Info = print('Your Name is {} and you are {} years old'.format(Name,Age))"
   ]
  },
  {
   "cell_type": "code",
   "execution_count": 41,
   "id": "5cb66611-b146-49a3-bf40-4a893953a1db",
   "metadata": {},
   "outputs": [
    {
     "name": "stdin",
     "output_type": "stream",
     "text": [
      " Saurabh\n",
      " 44\n"
     ]
    },
    {
     "name": "stdout",
     "output_type": "stream",
     "text": [
      "Your Name is Saurabh and you are 44 years old\n"
     ]
    }
   ],
   "source": [
    "Name = input()\n",
    "Age = input()\n",
    "Info = print('Your Name is {} and you are {} years old'.format(Name,Age))"
   ]
  },
  {
   "cell_type": "markdown",
   "id": "fee138a6-c50f-4953-ada2-7cc0a8441094",
   "metadata": {},
   "source": [
    "## Data Structures"
   ]
  },
  {
   "cell_type": "code",
   "execution_count": 43,
   "id": "ffa92e9c-64d9-4105-9722-d2464e264c74",
   "metadata": {},
   "outputs": [],
   "source": [
    "## List, Tuple, Dictionaries, Set"
   ]
  },
  {
   "cell_type": "markdown",
   "id": "870d946a-f3c1-45bf-9568-d6de0add52df",
   "metadata": {},
   "source": [
    "##### List"
   ]
  },
  {
   "cell_type": "code",
   "execution_count": 45,
   "id": "3e739301-6115-46d2-8667-bfe944273b4d",
   "metadata": {},
   "outputs": [],
   "source": [
    "list = [1,2,3,4,5]"
   ]
  },
  {
   "cell_type": "code",
   "execution_count": 46,
   "id": "8c561420-3f84-46a7-8ce6-19274e0d0bac",
   "metadata": {},
   "outputs": [
    {
     "data": {
      "text/plain": [
       "[1, 2, 3, 4, 5]"
      ]
     },
     "execution_count": 46,
     "metadata": {},
     "output_type": "execute_result"
    }
   ],
   "source": [
    "list"
   ]
  },
  {
   "cell_type": "code",
   "execution_count": 47,
   "id": "895a3e4f-884d-4f6d-a977-ec636b5b23ab",
   "metadata": {},
   "outputs": [],
   "source": [
    "Fruits = ['apple','banana','orange','grapes']"
   ]
  },
  {
   "cell_type": "code",
   "execution_count": 48,
   "id": "889287f3-b56c-40be-91b1-45821d491e27",
   "metadata": {},
   "outputs": [],
   "source": [
    "Comb = ['apple',24,'banana',22,13,'grapes']"
   ]
  },
  {
   "cell_type": "code",
   "execution_count": 49,
   "id": "f9f3147b-8692-4e8d-8685-79b95c8f3007",
   "metadata": {},
   "outputs": [
    {
     "data": {
      "text/plain": [
       "['apple', 24, 'banana', 22, 13, 'grapes']"
      ]
     },
     "execution_count": 49,
     "metadata": {},
     "output_type": "execute_result"
    }
   ],
   "source": [
    "Comb"
   ]
  },
  {
   "cell_type": "code",
   "execution_count": 50,
   "id": "55c27a26-2c9f-4aeb-a342-fcde3a68ed78",
   "metadata": {},
   "outputs": [
    {
     "name": "stdout",
     "output_type": "stream",
     "text": [
      "banana\n"
     ]
    }
   ],
   "source": [
    "print(Comb[2])"
   ]
  },
  {
   "cell_type": "code",
   "execution_count": 51,
   "id": "d54b1c59-5ef2-45fe-83a0-15296ba38981",
   "metadata": {},
   "outputs": [
    {
     "data": {
      "text/plain": [
       "['apple', 24]"
      ]
     },
     "execution_count": 51,
     "metadata": {},
     "output_type": "execute_result"
    }
   ],
   "source": [
    "Comb[0:2]"
   ]
  },
  {
   "cell_type": "code",
   "execution_count": 52,
   "id": "727c5fea-435d-4133-a691-ce9f8cd73b1f",
   "metadata": {},
   "outputs": [],
   "source": [
    "ListofList = [[1,2],['apple','banana'],['x','y','z']] # Nested List"
   ]
  },
  {
   "cell_type": "code",
   "execution_count": 53,
   "id": "1eff2898-3712-48a8-bf9e-b2097244ba7c",
   "metadata": {},
   "outputs": [
    {
     "name": "stdout",
     "output_type": "stream",
     "text": [
      "banana\n"
     ]
    }
   ],
   "source": [
    "print(ListofList[1][1])"
   ]
  },
  {
   "cell_type": "markdown",
   "id": "4d840f41-97ab-4077-bb47-ae92197ef403",
   "metadata": {},
   "source": [
    "#### List Operators (Build in)"
   ]
  },
  {
   "cell_type": "code",
   "execution_count": 55,
   "id": "b868e7ec-66a5-4693-bc79-87b24d3fbe21",
   "metadata": {},
   "outputs": [],
   "source": [
    "Comb.append('mango') ## Adds an elenment at the end"
   ]
  },
  {
   "cell_type": "code",
   "execution_count": 56,
   "id": "691f7f3d-224c-4492-8d5f-13008b08c668",
   "metadata": {},
   "outputs": [
    {
     "data": {
      "text/plain": [
       "['apple', 24, 'banana', 22, 13, 'grapes', 'mango']"
      ]
     },
     "execution_count": 56,
     "metadata": {},
     "output_type": "execute_result"
    }
   ],
   "source": [
    "Comb"
   ]
  },
  {
   "cell_type": "code",
   "execution_count": 57,
   "id": "2ffb19c3-fc75-4617-87f7-4c5460f7d421",
   "metadata": {},
   "outputs": [],
   "source": [
    "Comb.insert(2,'blueberry') ## Adds an element at specified index"
   ]
  },
  {
   "cell_type": "code",
   "execution_count": 58,
   "id": "cb846bc7-0ed1-482b-9883-580c3aabb2e0",
   "metadata": {},
   "outputs": [
    {
     "data": {
      "text/plain": [
       "['apple', 24, 'blueberry', 'banana', 22, 13, 'grapes', 'mango']"
      ]
     },
     "execution_count": 58,
     "metadata": {},
     "output_type": "execute_result"
    }
   ],
   "source": [
    "Comb"
   ]
  },
  {
   "cell_type": "code",
   "execution_count": 59,
   "id": "e39021ce-2233-41d6-9c60-24f4c76141a7",
   "metadata": {},
   "outputs": [],
   "source": [
    "Comb.remove(13) ## Removed the element "
   ]
  },
  {
   "cell_type": "code",
   "execution_count": 60,
   "id": "b563a2a3-9a7e-44f9-a9aa-f06f84efff2a",
   "metadata": {},
   "outputs": [
    {
     "data": {
      "text/plain": [
       "['apple', 24, 'blueberry', 'banana', 22, 'grapes', 'mango']"
      ]
     },
     "execution_count": 60,
     "metadata": {},
     "output_type": "execute_result"
    }
   ],
   "source": [
    "Comb"
   ]
  },
  {
   "cell_type": "code",
   "execution_count": 61,
   "id": "e066c80f-f5b5-4c86-b27b-9f10c3be3c22",
   "metadata": {},
   "outputs": [
    {
     "data": {
      "text/plain": [
       "'mango'"
      ]
     },
     "execution_count": 61,
     "metadata": {},
     "output_type": "execute_result"
    }
   ],
   "source": [
    "Comb.pop() ## Removes the last element and displays the same as output"
   ]
  },
  {
   "cell_type": "code",
   "execution_count": 62,
   "id": "876216a1-6291-4737-a850-e9eedd1535c5",
   "metadata": {},
   "outputs": [],
   "source": [
    "Comb.append(['grapes','mango'])"
   ]
  },
  {
   "cell_type": "code",
   "execution_count": 63,
   "id": "715c7008-2e45-49a5-9fa7-d271eeb7b07f",
   "metadata": {},
   "outputs": [
    {
     "data": {
      "text/plain": [
       "['grapes', 'mango']"
      ]
     },
     "execution_count": 63,
     "metadata": {},
     "output_type": "execute_result"
    }
   ],
   "source": [
    "Comb.pop()"
   ]
  },
  {
   "cell_type": "code",
   "execution_count": 64,
   "id": "ba82d206-a6c9-4696-8940-b5a7fc64513b",
   "metadata": {},
   "outputs": [],
   "source": [
    "Comb.append('grapes')\n",
    "Comb.append('mango')"
   ]
  },
  {
   "cell_type": "code",
   "execution_count": 65,
   "id": "5571e60b-2b3a-4003-9f55-ed56a52c75c1",
   "metadata": {},
   "outputs": [
    {
     "data": {
      "text/plain": [
       "['apple', 24, 'blueberry', 'banana', 22, 'grapes', 'grapes', 'mango']"
      ]
     },
     "execution_count": 65,
     "metadata": {},
     "output_type": "execute_result"
    }
   ],
   "source": [
    "Comb"
   ]
  },
  {
   "cell_type": "code",
   "execution_count": 66,
   "id": "6b0aede4-ae05-4857-a9f3-d5e628fe73c4",
   "metadata": {},
   "outputs": [],
   "source": [
    "Comb.append(13)"
   ]
  },
  {
   "cell_type": "code",
   "execution_count": 67,
   "id": "162f57a9-3914-4881-a50f-437206a5c4fd",
   "metadata": {},
   "outputs": [],
   "source": [
    "Comb.append(13)"
   ]
  },
  {
   "cell_type": "code",
   "execution_count": 68,
   "id": "278d8607-c655-4d95-b636-1e1d62766f50",
   "metadata": {},
   "outputs": [
    {
     "data": {
      "text/plain": [
       "['apple', 24, 'blueberry', 'banana', 22, 'grapes', 'grapes', 'mango', 13, 13]"
      ]
     },
     "execution_count": 68,
     "metadata": {},
     "output_type": "execute_result"
    }
   ],
   "source": [
    "Comb"
   ]
  },
  {
   "cell_type": "code",
   "execution_count": 69,
   "id": "778b1af8-d960-4650-8303-507f30485ea4",
   "metadata": {},
   "outputs": [],
   "source": [
    "Comb.remove(13)"
   ]
  },
  {
   "cell_type": "code",
   "execution_count": 70,
   "id": "bc99c8a4-9ca4-43a8-9946-155d46aa30e9",
   "metadata": {},
   "outputs": [
    {
     "data": {
      "text/plain": [
       "['apple', 24, 'blueberry', 'banana', 22, 'grapes', 'grapes', 'mango', 13]"
      ]
     },
     "execution_count": 70,
     "metadata": {},
     "output_type": "execute_result"
    }
   ],
   "source": [
    "Comb"
   ]
  },
  {
   "cell_type": "code",
   "execution_count": 71,
   "id": "8a3e1731-2b88-431e-9d01-a85c99e26ff5",
   "metadata": {},
   "outputs": [],
   "source": [
    "Comb.append(13)\n",
    "Comb.insert(3,13)"
   ]
  },
  {
   "cell_type": "code",
   "execution_count": 72,
   "id": "85c61229-b333-457a-9fb1-1270de49904d",
   "metadata": {},
   "outputs": [
    {
     "data": {
      "text/plain": [
       "['apple',\n",
       " 24,\n",
       " 'blueberry',\n",
       " 13,\n",
       " 'banana',\n",
       " 22,\n",
       " 'grapes',\n",
       " 'grapes',\n",
       " 'mango',\n",
       " 13,\n",
       " 13]"
      ]
     },
     "execution_count": 72,
     "metadata": {},
     "output_type": "execute_result"
    }
   ],
   "source": [
    "Comb"
   ]
  },
  {
   "cell_type": "code",
   "execution_count": 73,
   "id": "d6cc1d70-a936-42dd-8bce-a6a7393136f9",
   "metadata": {},
   "outputs": [],
   "source": [
    "Comb.remove(13)"
   ]
  },
  {
   "cell_type": "code",
   "execution_count": 74,
   "id": "03a65712-c029-458f-ae52-0c2959bae4ea",
   "metadata": {},
   "outputs": [
    {
     "data": {
      "text/plain": [
       "['apple', 24, 'blueberry', 'banana', 22, 'grapes', 'grapes', 'mango', 13, 13]"
      ]
     },
     "execution_count": 74,
     "metadata": {},
     "output_type": "execute_result"
    }
   ],
   "source": [
    "Comb"
   ]
  },
  {
   "cell_type": "code",
   "execution_count": 75,
   "id": "286f0220-ccda-408a-aeeb-43976bf831eb",
   "metadata": {},
   "outputs": [],
   "source": [
    "Comb.clear() ## Deletes all elements in the list"
   ]
  },
  {
   "cell_type": "code",
   "execution_count": 76,
   "id": "f3e6c8fc-d917-4e1a-83cf-e61fb9b0af58",
   "metadata": {},
   "outputs": [
    {
     "data": {
      "text/plain": [
       "[]"
      ]
     },
     "execution_count": 76,
     "metadata": {},
     "output_type": "execute_result"
    }
   ],
   "source": [
    "Comb"
   ]
  },
  {
   "cell_type": "code",
   "execution_count": 77,
   "id": "3177eec7-c7f7-4933-bf5d-9e031d70283c",
   "metadata": {},
   "outputs": [],
   "source": [
    "Comb = ['apple',24,'banana',22,13,'grapes']"
   ]
  },
  {
   "cell_type": "code",
   "execution_count": 78,
   "id": "5f006cbe-f65a-4442-9dc3-7eb3fa8bdcfa",
   "metadata": {},
   "outputs": [
    {
     "data": {
      "text/plain": [
       "['apple', 24, 'banana', 22, 13, 'grapes']"
      ]
     },
     "execution_count": 78,
     "metadata": {},
     "output_type": "execute_result"
    }
   ],
   "source": [
    "Comb"
   ]
  },
  {
   "cell_type": "code",
   "execution_count": 79,
   "id": "0b83b843-4e96-4605-b0b4-d401f3a5bf6c",
   "metadata": {},
   "outputs": [
    {
     "data": {
      "text/plain": [
       "6"
      ]
     },
     "execution_count": 79,
     "metadata": {},
     "output_type": "execute_result"
    }
   ],
   "source": [
    "len(Comb) # Number of elements in the list"
   ]
  },
  {
   "cell_type": "code",
   "execution_count": 80,
   "id": "69f0674b-7f48-4524-a30e-98a043a685dd",
   "metadata": {},
   "outputs": [
    {
     "data": {
      "text/plain": [
       "13"
      ]
     },
     "execution_count": 80,
     "metadata": {},
     "output_type": "execute_result"
    }
   ],
   "source": [
    "Comb[-2]"
   ]
  },
  {
   "cell_type": "markdown",
   "id": "7ec643d0-ebde-4521-9d0f-18badeeb3f0d",
   "metadata": {},
   "source": [
    "##### List Concatenation"
   ]
  },
  {
   "cell_type": "code",
   "execution_count": 82,
   "id": "71ee621f-133f-4b38-be65-80801c600556",
   "metadata": {},
   "outputs": [
    {
     "name": "stdout",
     "output_type": "stream",
     "text": [
      "['apple', 24, 'banana', 22, 13, 'grapes']\n",
      "[1, 2, 3, 4, 5]\n"
     ]
    }
   ],
   "source": [
    "print(Comb)\n",
    "print(list)"
   ]
  },
  {
   "cell_type": "code",
   "execution_count": 83,
   "id": "708f8fc3-dd08-4578-b9ef-f687d55267b2",
   "metadata": {},
   "outputs": [],
   "source": [
    "Merge = Comb + list"
   ]
  },
  {
   "cell_type": "code",
   "execution_count": 84,
   "id": "6fb6a35c-9bb0-4c0d-9d8c-6293b0ce614f",
   "metadata": {},
   "outputs": [],
   "source": [
    "Merge_2 = list + Comb"
   ]
  },
  {
   "cell_type": "code",
   "execution_count": 85,
   "id": "897e5df6-c384-4964-abf6-20ec5cd0369d",
   "metadata": {},
   "outputs": [
    {
     "name": "stdout",
     "output_type": "stream",
     "text": [
      "['apple', 24, 'banana', 22, 13, 'grapes', 1, 2, 3, 4, 5]\n"
     ]
    },
    {
     "data": {
      "text/plain": [
       "[1, 2, 3, 4, 5, 'apple', 24, 'banana', 22, 13, 'grapes']"
      ]
     },
     "execution_count": 85,
     "metadata": {},
     "output_type": "execute_result"
    }
   ],
   "source": [
    "print(Merge)\n",
    "Merge_2"
   ]
  },
  {
   "cell_type": "code",
   "execution_count": 86,
   "id": "8af31eaf-ed8c-481d-9648-ef2d05263a73",
   "metadata": {},
   "outputs": [
    {
     "data": {
      "text/plain": [
       "1"
      ]
     },
     "execution_count": 86,
     "metadata": {},
     "output_type": "execute_result"
    }
   ],
   "source": [
    "Merge.count(13)  ## Count of a specific element"
   ]
  },
  {
   "cell_type": "markdown",
   "id": "ea2a616e-f38f-4b2e-b37d-512313d5b403",
   "metadata": {},
   "source": [
    "### Tuples"
   ]
  },
  {
   "cell_type": "code",
   "execution_count": 88,
   "id": "16376268-5925-481d-9ccd-0a0dead49ded",
   "metadata": {},
   "outputs": [],
   "source": [
    "tuple = (1,5,9)"
   ]
  },
  {
   "cell_type": "code",
   "execution_count": 89,
   "id": "95d12526-7d06-49cf-aaed-98d03cae120e",
   "metadata": {},
   "outputs": [
    {
     "data": {
      "text/plain": [
       "(1, 5, 9)"
      ]
     },
     "execution_count": 89,
     "metadata": {},
     "output_type": "execute_result"
    }
   ],
   "source": [
    "tuple"
   ]
  },
  {
   "cell_type": "code",
   "execution_count": 90,
   "id": "299a55dc-3c1c-405a-a6ff-467f15c79a11",
   "metadata": {},
   "outputs": [],
   "source": [
    "# Indexing, Build in Methods - Change the elements"
   ]
  },
  {
   "cell_type": "code",
   "execution_count": 91,
   "id": "0041737b-a702-43a6-be44-a7bd5d8fee26",
   "metadata": {},
   "outputs": [],
   "source": [
    "Fruits = ('apple','banana','orange','grapes')"
   ]
  },
  {
   "cell_type": "code",
   "execution_count": 92,
   "id": "164e5fb1-0d12-44e1-ae26-ec29d4b57a8d",
   "metadata": {},
   "outputs": [
    {
     "data": {
      "text/plain": [
       "('apple', 'banana', 'orange', 'grapes')"
      ]
     },
     "execution_count": 92,
     "metadata": {},
     "output_type": "execute_result"
    }
   ],
   "source": [
    "Fruits"
   ]
  },
  {
   "cell_type": "code",
   "execution_count": 93,
   "id": "84a10e91-980b-47e7-871f-0e14b632ab71",
   "metadata": {},
   "outputs": [
    {
     "data": {
      "text/plain": [
       "'apple'"
      ]
     },
     "execution_count": 93,
     "metadata": {},
     "output_type": "execute_result"
    }
   ],
   "source": [
    "Fruits[0]"
   ]
  },
  {
   "cell_type": "code",
   "execution_count": 94,
   "id": "d1f90b99-f345-4941-8886-e391a5a32cbf",
   "metadata": {},
   "outputs": [
    {
     "data": {
      "text/plain": [
       "('apple', 'banana')"
      ]
     },
     "execution_count": 94,
     "metadata": {},
     "output_type": "execute_result"
    }
   ],
   "source": [
    "Fruits[0:2]"
   ]
  },
  {
   "cell_type": "code",
   "execution_count": 95,
   "id": "332160a7-0bfb-439a-a388-e509322ed0dd",
   "metadata": {},
   "outputs": [
    {
     "name": "stdout",
     "output_type": "stream",
     "text": [
      "grapes\n"
     ]
    }
   ],
   "source": [
    "print(Fruits[-1])"
   ]
  },
  {
   "cell_type": "code",
   "execution_count": 96,
   "id": "f0665a08-0c5d-4643-93c8-4f7a3c03cdbb",
   "metadata": {},
   "outputs": [],
   "source": [
    "Mer_tuple = Fruits + tuple # Concatenation of Tuple"
   ]
  },
  {
   "cell_type": "code",
   "execution_count": 97,
   "id": "26fa5cf6-0d0b-4f2d-b37c-191de41e2f31",
   "metadata": {},
   "outputs": [
    {
     "name": "stdout",
     "output_type": "stream",
     "text": [
      "orange\n"
     ]
    }
   ],
   "source": [
    "print(Mer_tuple[2])"
   ]
  },
  {
   "cell_type": "code",
   "execution_count": 98,
   "id": "8947296c-3e68-49c6-b1ab-489d96c44de5",
   "metadata": {},
   "outputs": [
    {
     "name": "stdout",
     "output_type": "stream",
     "text": [
      "('apple', 'banana', 'orange', 'grapes', 1, 5, 9)\n"
     ]
    }
   ],
   "source": [
    "print(Mer_tuple)"
   ]
  },
  {
   "cell_type": "code",
   "execution_count": 99,
   "id": "69e1d35b-e64e-4209-8eda-95883149d6ae",
   "metadata": {},
   "outputs": [
    {
     "data": {
      "text/plain": [
       "('apple',\n",
       " 'banana',\n",
       " 'orange',\n",
       " 'grapes',\n",
       " 1,\n",
       " 5,\n",
       " 9,\n",
       " 'apple',\n",
       " 'banana',\n",
       " 'orange',\n",
       " 'grapes',\n",
       " 1,\n",
       " 5,\n",
       " 9,\n",
       " 'apple',\n",
       " 'banana',\n",
       " 'orange',\n",
       " 'grapes',\n",
       " 1,\n",
       " 5,\n",
       " 9)"
      ]
     },
     "execution_count": 99,
     "metadata": {},
     "output_type": "execute_result"
    }
   ],
   "source": [
    "repeated_tuple = Mer_tuple * 3\n",
    "repeated_tuple"
   ]
  },
  {
   "cell_type": "code",
   "execution_count": 100,
   "id": "f384555f-5f4d-4ce4-9446-a1cfc32b35fb",
   "metadata": {},
   "outputs": [
    {
     "data": {
      "text/plain": [
       "21"
      ]
     },
     "execution_count": 100,
     "metadata": {},
     "output_type": "execute_result"
    }
   ],
   "source": [
    "len(repeated_tuple) # Number of elements in the tuple"
   ]
  },
  {
   "cell_type": "code",
   "execution_count": 101,
   "id": "0822186a-ee82-4e04-a4ee-8a7ef2166c69",
   "metadata": {},
   "outputs": [
    {
     "data": {
      "text/plain": [
       "0"
      ]
     },
     "execution_count": 101,
     "metadata": {},
     "output_type": "execute_result"
    }
   ],
   "source": [
    "repeated_tuple.count('grape')  ## Count of a specific element"
   ]
  },
  {
   "cell_type": "code",
   "execution_count": 102,
   "id": "5e2c8cfa-cc9f-4a80-9bd7-c6a7b084fb11",
   "metadata": {},
   "outputs": [
    {
     "data": {
      "text/plain": [
       "15"
      ]
     },
     "execution_count": 102,
     "metadata": {},
     "output_type": "execute_result"
    }
   ],
   "source": [
    "sum(tuple)"
   ]
  },
  {
   "cell_type": "code",
   "execution_count": 103,
   "id": "0eaf98e1-0d43-47b7-a58d-32891d78fc5a",
   "metadata": {},
   "outputs": [],
   "source": [
    "Nested_tuple = (1,2,(4,5),(6,7))"
   ]
  },
  {
   "cell_type": "code",
   "execution_count": 104,
   "id": "5d857b95-c925-4b18-884f-3821c4bcf87f",
   "metadata": {},
   "outputs": [
    {
     "data": {
      "text/plain": [
       "(1, 2, (4, 5), (6, 7))"
      ]
     },
     "execution_count": 104,
     "metadata": {},
     "output_type": "execute_result"
    }
   ],
   "source": [
    "Nested_tuple"
   ]
  },
  {
   "cell_type": "code",
   "execution_count": 105,
   "id": "cd94234a-f7ab-48cc-b1c3-94a0dfb0b65f",
   "metadata": {},
   "outputs": [
    {
     "data": {
      "text/plain": [
       "5"
      ]
     },
     "execution_count": 105,
     "metadata": {},
     "output_type": "execute_result"
    }
   ],
   "source": [
    "Nested_tuple[2][1]"
   ]
  },
  {
   "cell_type": "code",
   "execution_count": 106,
   "id": "240d3a9b-4023-489c-b83f-2d6c7c302c23",
   "metadata": {},
   "outputs": [
    {
     "data": {
      "text/plain": [
       "13"
      ]
     },
     "execution_count": 106,
     "metadata": {},
     "output_type": "execute_result"
    }
   ],
   "source": [
    "sum(Nested_tuple[3])"
   ]
  },
  {
   "cell_type": "markdown",
   "id": "e418a72d-435a-43ba-aed3-47d360956e7a",
   "metadata": {},
   "source": [
    "## Dictionaries"
   ]
  },
  {
   "cell_type": "code",
   "execution_count": 108,
   "id": "58b034a1-557a-4bc2-92d5-4b32f27bea14",
   "metadata": {},
   "outputs": [],
   "source": [
    "Saurabh_info = {'Name':'Saurabh','age':30,'city':'Bangalore','Experience' : 12}"
   ]
  },
  {
   "cell_type": "code",
   "execution_count": null,
   "id": "a5fa98b8-0fb2-4b44-9842-8b50808ef58e",
   "metadata": {},
   "outputs": [],
   "source": []
  },
  {
   "cell_type": "code",
   "execution_count": 109,
   "id": "4717fb80-e411-4c54-8f59-6d5794d426f3",
   "metadata": {},
   "outputs": [
    {
     "data": {
      "text/plain": [
       "{'Name': 'Saurabh', 'age': 30, 'city': 'Bangalore', 'Experience': 12}"
      ]
     },
     "execution_count": 109,
     "metadata": {},
     "output_type": "execute_result"
    }
   ],
   "source": [
    "Saurabh_info"
   ]
  },
  {
   "cell_type": "code",
   "execution_count": 110,
   "id": "e57c16c1-9b89-4e22-8233-44cf03d0e430",
   "metadata": {},
   "outputs": [
    {
     "data": {
      "text/plain": [
       "dict_keys(['Name', 'age', 'city', 'Experience'])"
      ]
     },
     "execution_count": 110,
     "metadata": {},
     "output_type": "execute_result"
    }
   ],
   "source": [
    "Saurabh_info.keys()"
   ]
  },
  {
   "cell_type": "code",
   "execution_count": 111,
   "id": "8d222d07-5cc9-48a7-a4ba-848088f9d64b",
   "metadata": {},
   "outputs": [
    {
     "data": {
      "text/plain": [
       "dict_values(['Saurabh', 30, 'Bangalore', 12])"
      ]
     },
     "execution_count": 111,
     "metadata": {},
     "output_type": "execute_result"
    }
   ],
   "source": [
    "Saurabh_info.values()"
   ]
  },
  {
   "cell_type": "code",
   "execution_count": 112,
   "id": "d6d9b027-3cd9-40e2-aa0d-4dadbc11ad1c",
   "metadata": {},
   "outputs": [
    {
     "data": {
      "text/plain": [
       "'Bangalore'"
      ]
     },
     "execution_count": 112,
     "metadata": {},
     "output_type": "execute_result"
    }
   ],
   "source": [
    "Saurabh_info['city']"
   ]
  },
  {
   "cell_type": "code",
   "execution_count": 113,
   "id": "374297b8-364d-493e-b508-f2b37ee12ae7",
   "metadata": {},
   "outputs": [
    {
     "data": {
      "text/plain": [
       "12"
      ]
     },
     "execution_count": 113,
     "metadata": {},
     "output_type": "execute_result"
    }
   ],
   "source": [
    "Saurabh_info['Experience']"
   ]
  },
  {
   "cell_type": "markdown",
   "id": "a78ea76b-a6df-4f68-b73b-3a244374c2c1",
   "metadata": {},
   "source": [
    "#### Dictionary Methods"
   ]
  },
  {
   "cell_type": "code",
   "execution_count": 115,
   "id": "77438ea5-6063-4751-81ea-dadd16f12c5f",
   "metadata": {},
   "outputs": [
    {
     "data": {
      "text/plain": [
       "12"
      ]
     },
     "execution_count": 115,
     "metadata": {},
     "output_type": "execute_result"
    }
   ],
   "source": [
    "Saurabh_info.pop('Experience') # Removes the specified element in the command"
   ]
  },
  {
   "cell_type": "code",
   "execution_count": 116,
   "id": "f54d3e48-2af0-454f-9064-8a72b6c21bbd",
   "metadata": {},
   "outputs": [
    {
     "data": {
      "text/plain": [
       "{'Name': 'Saurabh', 'age': 30, 'city': 'Bangalore'}"
      ]
     },
     "execution_count": 116,
     "metadata": {},
     "output_type": "execute_result"
    }
   ],
   "source": [
    "Saurabh_info"
   ]
  },
  {
   "cell_type": "code",
   "execution_count": 117,
   "id": "5c6f8c15-3daa-40af-a9aa-d6ae85567ee1",
   "metadata": {},
   "outputs": [],
   "source": [
    "Saurabh_info['Experience'] = 12"
   ]
  },
  {
   "cell_type": "code",
   "execution_count": 118,
   "id": "a2fd1fdf-f3d9-41da-af6c-a64b3db813f1",
   "metadata": {},
   "outputs": [
    {
     "data": {
      "text/plain": [
       "{'Name': 'Saurabh', 'age': 30, 'city': 'Bangalore', 'Experience': 12}"
      ]
     },
     "execution_count": 118,
     "metadata": {},
     "output_type": "execute_result"
    }
   ],
   "source": [
    "Saurabh_info"
   ]
  },
  {
   "cell_type": "code",
   "execution_count": 119,
   "id": "5d48e5ad-093e-47f7-a8b1-6f5d82095610",
   "metadata": {},
   "outputs": [
    {
     "data": {
      "text/plain": [
       "dict_items([('Name', 'Saurabh'), ('age', 30), ('city', 'Bangalore'), ('Experience', 12)])"
      ]
     },
     "execution_count": 119,
     "metadata": {},
     "output_type": "execute_result"
    }
   ],
   "source": [
    "Saurabh_info.items() # Displays all Key Value Pair"
   ]
  },
  {
   "cell_type": "code",
   "execution_count": 120,
   "id": "39f52aa3-5614-42fe-9909-a010d32115c9",
   "metadata": {},
   "outputs": [],
   "source": [
    "Saurabh_info.update({'Experience':14})"
   ]
  },
  {
   "cell_type": "code",
   "execution_count": 121,
   "id": "f958011d-d3d5-4cf8-a7c9-d796932b3ede",
   "metadata": {},
   "outputs": [
    {
     "data": {
      "text/plain": [
       "{'Name': 'Saurabh', 'age': 30, 'city': 'Bangalore', 'Experience': 14}"
      ]
     },
     "execution_count": 121,
     "metadata": {},
     "output_type": "execute_result"
    }
   ],
   "source": [
    "Saurabh_info"
   ]
  },
  {
   "cell_type": "code",
   "execution_count": 122,
   "id": "d524e0bf-ccc0-4911-bec6-e383f60caedf",
   "metadata": {},
   "outputs": [],
   "source": [
    "Copy = Saurabh_info.copy()"
   ]
  },
  {
   "cell_type": "code",
   "execution_count": 123,
   "id": "ea3fdfe3-9bd9-4d66-aee8-f0167644eb33",
   "metadata": {},
   "outputs": [
    {
     "data": {
      "text/plain": [
       "{'Name': 'Saurabh', 'age': 30, 'city': 'Bangalore', 'Experience': 14}"
      ]
     },
     "execution_count": 123,
     "metadata": {},
     "output_type": "execute_result"
    }
   ],
   "source": [
    "Copy"
   ]
  },
  {
   "cell_type": "code",
   "execution_count": 124,
   "id": "6953d837-98a2-4b95-91be-0fa1415f8965",
   "metadata": {},
   "outputs": [],
   "source": [
    "Saurabh_info['Experience'] = 13"
   ]
  },
  {
   "cell_type": "code",
   "execution_count": 125,
   "id": "477f9cc3-220d-421d-adf2-d8bef50b90fb",
   "metadata": {},
   "outputs": [
    {
     "data": {
      "text/plain": [
       "{'Name': 'Saurabh', 'age': 30, 'city': 'Bangalore', 'Experience': 13}"
      ]
     },
     "execution_count": 125,
     "metadata": {},
     "output_type": "execute_result"
    }
   ],
   "source": [
    "Saurabh_info"
   ]
  },
  {
   "cell_type": "code",
   "execution_count": 126,
   "id": "08d44feb-54ad-49d4-be51-17c396250cd6",
   "metadata": {},
   "outputs": [],
   "source": [
    "Saurabh_info.clear()"
   ]
  },
  {
   "cell_type": "code",
   "execution_count": 127,
   "id": "29024154-4052-44bb-8ddd-0990bac1e697",
   "metadata": {},
   "outputs": [
    {
     "data": {
      "text/plain": [
       "{}"
      ]
     },
     "execution_count": 127,
     "metadata": {},
     "output_type": "execute_result"
    }
   ],
   "source": [
    "Saurabh_info"
   ]
  },
  {
   "cell_type": "code",
   "execution_count": 128,
   "id": "82dbd2df-9a17-4339-acf3-223b1a0bfbd6",
   "metadata": {},
   "outputs": [],
   "source": [
    "Saurabh_info = {'Name':'Saurabh','age':30,'city':'Bangalore','Experience' : 12}"
   ]
  },
  {
   "cell_type": "code",
   "execution_count": 129,
   "id": "11840ed4-e25e-40bd-8e1a-d929104e52a8",
   "metadata": {},
   "outputs": [
    {
     "data": {
      "text/plain": [
       "{'Name': 'Saurabh', 'age': 30, 'city': 'Bangalore', 'Experience': 12}"
      ]
     },
     "execution_count": 129,
     "metadata": {},
     "output_type": "execute_result"
    }
   ],
   "source": [
    "Saurabh_info"
   ]
  },
  {
   "cell_type": "markdown",
   "id": "4d17b1f5-07dc-4ee6-bbc4-b79e06daf28e",
   "metadata": {},
   "source": [
    "#### Nested Dictionaries"
   ]
  },
  {
   "cell_type": "code",
   "execution_count": 131,
   "id": "3fd81d0a-765b-47f1-91bf-98ecf8d9db01",
   "metadata": {},
   "outputs": [],
   "source": [
    "Employee_info = {'EM2403': \n",
    "                 {'name': 'Alice',\n",
    "                    'age': 30,\n",
    "                    'city': 'New York'},\n",
    "                'EM2409': {\n",
    "                    'name': 'Bob',\n",
    "                    'age': 25,\n",
    "                    'city': 'San Francisco'\n",
    "                },\n",
    "                'EM2390': {\n",
    "                    'name': 'Charlie',\n",
    "                    'age': 35,\n",
    "                    'city': 'Seattle'\n",
    "                },\n",
    "                'EM2399': {\n",
    "                    'name': 'Subhash',\n",
    "                    'age': 35,\n",
    "                    'city': 'Washington'\n",
    "                }\n",
    "            }"
   ]
  },
  {
   "cell_type": "code",
   "execution_count": 132,
   "id": "907779f3-3856-4b6e-bca9-b00e47a3d1bd",
   "metadata": {},
   "outputs": [
    {
     "data": {
      "text/plain": [
       "{'EM2403': {'name': 'Alice', 'age': 30, 'city': 'New York'},\n",
       " 'EM2409': {'name': 'Bob', 'age': 25, 'city': 'San Francisco'},\n",
       " 'EM2390': {'name': 'Charlie', 'age': 35, 'city': 'Seattle'},\n",
       " 'EM2399': {'name': 'Subhash', 'age': 35, 'city': 'Washington'}}"
      ]
     },
     "execution_count": 132,
     "metadata": {},
     "output_type": "execute_result"
    }
   ],
   "source": [
    "Employee_info"
   ]
  },
  {
   "cell_type": "code",
   "execution_count": 133,
   "id": "1480f654-de38-4c24-8e51-ca309da566b5",
   "metadata": {},
   "outputs": [
    {
     "name": "stdout",
     "output_type": "stream",
     "text": [
      "Charlie\n"
     ]
    }
   ],
   "source": [
    "print(Employee_info['EM2390']['name'])"
   ]
  },
  {
   "cell_type": "code",
   "execution_count": 134,
   "id": "63021e78-0513-4759-af6a-af9b68a18737",
   "metadata": {},
   "outputs": [],
   "source": [
    "Employee_info['EM2399'].update({'city': 'Mumbai'})"
   ]
  },
  {
   "cell_type": "code",
   "execution_count": 135,
   "id": "6e285f2d-ed9c-4342-84e2-c8aa6f59d602",
   "metadata": {},
   "outputs": [
    {
     "data": {
      "text/plain": [
       "{'EM2403': {'name': 'Alice', 'age': 30, 'city': 'New York'},\n",
       " 'EM2409': {'name': 'Bob', 'age': 25, 'city': 'San Francisco'},\n",
       " 'EM2390': {'name': 'Charlie', 'age': 35, 'city': 'Seattle'},\n",
       " 'EM2399': {'name': 'Subhash', 'age': 35, 'city': 'Mumbai'}}"
      ]
     },
     "execution_count": 135,
     "metadata": {},
     "output_type": "execute_result"
    }
   ],
   "source": [
    "Employee_info"
   ]
  },
  {
   "cell_type": "markdown",
   "id": "c762afd8-9671-4895-8395-2d372902ca79",
   "metadata": {},
   "source": [
    "## Sets"
   ]
  },
  {
   "cell_type": "markdown",
   "id": "42bf89d4-07fd-47e9-80f5-16b047fe4b0b",
   "metadata": {},
   "source": [
    "#### Creating Sets"
   ]
  },
  {
   "cell_type": "code",
   "execution_count": 138,
   "id": "6f4a72f1-f4a5-491a-b184-3f2e2df52669",
   "metadata": {},
   "outputs": [],
   "source": [
    "Set_1 = {1,3,5,7,9}"
   ]
  },
  {
   "cell_type": "code",
   "execution_count": 139,
   "id": "c5919b1e-b8c2-4c4c-8b4a-41e75e483af3",
   "metadata": {},
   "outputs": [],
   "source": [
    "Set_1.add(11) # Adds the element towards the end"
   ]
  },
  {
   "cell_type": "code",
   "execution_count": 140,
   "id": "b6c456ad-c256-48a6-9566-aafd8b7a2f37",
   "metadata": {},
   "outputs": [
    {
     "data": {
      "text/plain": [
       "{1, 3, 5, 7, 9, 11}"
      ]
     },
     "execution_count": 140,
     "metadata": {},
     "output_type": "execute_result"
    }
   ],
   "source": [
    "Set_1"
   ]
  },
  {
   "cell_type": "code",
   "execution_count": 141,
   "id": "8b01856f-1c84-4074-85a8-89c70de81f0b",
   "metadata": {},
   "outputs": [],
   "source": [
    "Set_2 = {2,1,3,1,4,2,4,5,1,2,3,4,5}"
   ]
  },
  {
   "cell_type": "code",
   "execution_count": 142,
   "id": "8d8a7cc3-2798-46bb-b66f-1b265b9273b0",
   "metadata": {},
   "outputs": [
    {
     "data": {
      "text/plain": [
       "{1, 2, 3, 4, 5}"
      ]
     },
     "execution_count": 142,
     "metadata": {},
     "output_type": "execute_result"
    }
   ],
   "source": [
    "Set_2"
   ]
  },
  {
   "cell_type": "code",
   "execution_count": 143,
   "id": "0778cf8e-1cb2-4e3d-8339-a9108fe9bd6f",
   "metadata": {},
   "outputs": [],
   "source": [
    "Set_1.add('Hello')"
   ]
  },
  {
   "cell_type": "code",
   "execution_count": 144,
   "id": "6e3a365a-d471-4d1b-9371-a1c64df911e3",
   "metadata": {},
   "outputs": [
    {
     "data": {
      "text/plain": [
       "{1, 11, 3, 5, 7, 9, 'Hello'}"
      ]
     },
     "execution_count": 144,
     "metadata": {},
     "output_type": "execute_result"
    }
   ],
   "source": [
    "Set_1"
   ]
  },
  {
   "cell_type": "code",
   "execution_count": 145,
   "id": "340e2df0-d3d6-419e-8ccd-542f1009e6a2",
   "metadata": {},
   "outputs": [],
   "source": [
    "Mul_of_3 = {3,6,9,12,15}\n",
    "Mul_of_4 = {4,8,12,16,20}"
   ]
  },
  {
   "cell_type": "markdown",
   "id": "e939f7d2-ab2b-48b9-bf6d-0dcc38465d19",
   "metadata": {},
   "source": [
    "#### Union"
   ]
  },
  {
   "cell_type": "code",
   "execution_count": 147,
   "id": "41d14372-ce06-4b60-80e8-2e8d3df7819f",
   "metadata": {},
   "outputs": [
    {
     "data": {
      "text/plain": [
       "{3, 6, 9, 12, 15}"
      ]
     },
     "execution_count": 147,
     "metadata": {},
     "output_type": "execute_result"
    }
   ],
   "source": [
    "Mul_of_3"
   ]
  },
  {
   "cell_type": "code",
   "execution_count": 148,
   "id": "f66b40d2-28df-48db-949d-bde7e4f09293",
   "metadata": {},
   "outputs": [
    {
     "data": {
      "text/plain": [
       "{4, 8, 12, 16, 20}"
      ]
     },
     "execution_count": 148,
     "metadata": {},
     "output_type": "execute_result"
    }
   ],
   "source": [
    "Mul_of_4"
   ]
  },
  {
   "cell_type": "code",
   "execution_count": 149,
   "id": "e3078325-5152-4edc-8518-468941d205f6",
   "metadata": {},
   "outputs": [],
   "source": [
    "Combined = Mul_of_3.union(Mul_of_4)"
   ]
  },
  {
   "cell_type": "code",
   "execution_count": 150,
   "id": "a21388a0-c325-41cc-a7b5-69d0a58f51b9",
   "metadata": {},
   "outputs": [
    {
     "data": {
      "text/plain": [
       "{3, 4, 6, 8, 9, 12, 15, 16, 20}"
      ]
     },
     "execution_count": 150,
     "metadata": {},
     "output_type": "execute_result"
    }
   ],
   "source": [
    "Combined"
   ]
  },
  {
   "cell_type": "code",
   "execution_count": 151,
   "id": "ca653897-2cec-4476-9c2b-dd6d59e98483",
   "metadata": {},
   "outputs": [
    {
     "data": {
      "text/plain": [
       "{3, 4, 6, 8, 9, 12, 15, 16, 20}"
      ]
     },
     "execution_count": 151,
     "metadata": {},
     "output_type": "execute_result"
    }
   ],
   "source": [
    "Mul_of_4.union(Mul_of_3)"
   ]
  },
  {
   "cell_type": "markdown",
   "id": "79ade575-f3ac-482b-9fb5-16fd2b9d07de",
   "metadata": {},
   "source": [
    "#### Intersection"
   ]
  },
  {
   "cell_type": "code",
   "execution_count": 153,
   "id": "cf978fe6-d7e2-43b7-a17b-676903184fa7",
   "metadata": {},
   "outputs": [],
   "source": [
    "Common = Mul_of_3.intersection(Mul_of_4)"
   ]
  },
  {
   "cell_type": "code",
   "execution_count": 154,
   "id": "f393b612-e621-40e0-97a7-2b9af3b7d147",
   "metadata": {},
   "outputs": [
    {
     "data": {
      "text/plain": [
       "{12}"
      ]
     },
     "execution_count": 154,
     "metadata": {},
     "output_type": "execute_result"
    }
   ],
   "source": [
    "Common"
   ]
  },
  {
   "cell_type": "code",
   "execution_count": 155,
   "id": "584cd812-e875-435f-9ce0-95d3be6f256c",
   "metadata": {},
   "outputs": [
    {
     "data": {
      "text/plain": [
       "{4, 8, 12, 16, 20}"
      ]
     },
     "execution_count": 155,
     "metadata": {},
     "output_type": "execute_result"
    }
   ],
   "source": [
    "Mul_of_4"
   ]
  },
  {
   "cell_type": "code",
   "execution_count": 156,
   "id": "ccb7717c-18ef-419b-ae9c-5347acdeec5b",
   "metadata": {},
   "outputs": [],
   "source": [
    "Mul_of_4.intersection_update(Mul_of_4)"
   ]
  },
  {
   "cell_type": "code",
   "execution_count": 157,
   "id": "d30bacde-72ec-42f0-b7cd-fabb55e3dd9a",
   "metadata": {},
   "outputs": [
    {
     "data": {
      "text/plain": [
       "{4, 8, 12, 16, 20}"
      ]
     },
     "execution_count": 157,
     "metadata": {},
     "output_type": "execute_result"
    }
   ],
   "source": [
    "Mul_of_4"
   ]
  },
  {
   "cell_type": "markdown",
   "id": "4fb7b8b1-1926-4408-b223-1da11fd2becb",
   "metadata": {},
   "source": [
    "##### Difference"
   ]
  },
  {
   "cell_type": "code",
   "execution_count": 159,
   "id": "04a4b56e-ba1c-4248-9412-8dea2446977c",
   "metadata": {},
   "outputs": [
    {
     "name": "stdout",
     "output_type": "stream",
     "text": [
      "{3, 6, 9, 12, 15}\n",
      "{16, 4, 20, 8, 12}\n"
     ]
    }
   ],
   "source": [
    "print(Mul_of_3)\n",
    "print(Mul_of_4)"
   ]
  },
  {
   "cell_type": "code",
   "execution_count": 160,
   "id": "7a90e10e-e33d-4eda-be44-8a0ac0192ae4",
   "metadata": {},
   "outputs": [],
   "source": [
    "diff = Mul_of_3 - Mul_of_4"
   ]
  },
  {
   "cell_type": "code",
   "execution_count": 161,
   "id": "c19aa395-3068-4c75-861c-0b9a0e6f5a8e",
   "metadata": {},
   "outputs": [
    {
     "data": {
      "text/plain": [
       "{3, 6, 9, 15}"
      ]
     },
     "execution_count": 161,
     "metadata": {},
     "output_type": "execute_result"
    }
   ],
   "source": [
    "diff"
   ]
  },
  {
   "cell_type": "code",
   "execution_count": 162,
   "id": "12219ccc-f71c-4528-b8af-e9ea8929c811",
   "metadata": {},
   "outputs": [
    {
     "data": {
      "text/plain": [
       "{4, 8, 16, 20}"
      ]
     },
     "execution_count": 162,
     "metadata": {},
     "output_type": "execute_result"
    }
   ],
   "source": [
    "Mul_of_4-Mul_of_3"
   ]
  },
  {
   "cell_type": "code",
   "execution_count": 163,
   "id": "194b14dc-9c8a-4ca3-85c4-0c85bf170cfe",
   "metadata": {},
   "outputs": [
    {
     "name": "stdout",
     "output_type": "stream",
     "text": [
      "{3, 6, 9, 12, 15}\n",
      "{16, 4, 20, 8, 12}\n"
     ]
    }
   ],
   "source": [
    "print(Mul_of_3)\n",
    "print(Mul_of_4)"
   ]
  },
  {
   "cell_type": "code",
   "execution_count": 164,
   "id": "04fc5be5-6c3c-4cfa-b7d2-629a472963b0",
   "metadata": {},
   "outputs": [],
   "source": [
    "Diffset = Mul_of_3.difference(Mul_of_4)"
   ]
  },
  {
   "cell_type": "code",
   "execution_count": 165,
   "id": "d814bfeb-9f06-419c-a002-812cdc308a77",
   "metadata": {},
   "outputs": [
    {
     "data": {
      "text/plain": [
       "{3, 6, 9, 15}"
      ]
     },
     "execution_count": 165,
     "metadata": {},
     "output_type": "execute_result"
    }
   ],
   "source": [
    "Diffset"
   ]
  },
  {
   "cell_type": "code",
   "execution_count": 166,
   "id": "f6c3d324-1d00-478a-9ea6-a189d4acec88",
   "metadata": {},
   "outputs": [
    {
     "data": {
      "text/plain": [
       "{3, 6, 9, 12, 15}"
      ]
     },
     "execution_count": 166,
     "metadata": {},
     "output_type": "execute_result"
    }
   ],
   "source": [
    "Mul_of_3"
   ]
  },
  {
   "cell_type": "code",
   "execution_count": 167,
   "id": "387d9cda-4cc6-464e-aa57-e0a5f708f52b",
   "metadata": {},
   "outputs": [],
   "source": [
    "Mul_of_3.difference_update(Mul_of_4)"
   ]
  },
  {
   "cell_type": "code",
   "execution_count": 168,
   "id": "40fa77eb-66b3-4a52-9cff-a320514be713",
   "metadata": {},
   "outputs": [
    {
     "data": {
      "text/plain": [
       "{3, 6, 9, 15}"
      ]
     },
     "execution_count": 168,
     "metadata": {},
     "output_type": "execute_result"
    }
   ],
   "source": [
    "Mul_of_3"
   ]
  },
  {
   "cell_type": "markdown",
   "id": "06a57d95-1c1d-4a3d-8129-290bb76f7c2d",
   "metadata": {},
   "source": [
    "#### Symmetric Difference"
   ]
  },
  {
   "cell_type": "code",
   "execution_count": 170,
   "id": "3592cb5e-4989-4a1c-8848-0a3dba24cd78",
   "metadata": {},
   "outputs": [
    {
     "data": {
      "text/plain": [
       "{3, 4, 6, 8, 9, 12, 15, 16, 20}"
      ]
     },
     "execution_count": 170,
     "metadata": {},
     "output_type": "execute_result"
    }
   ],
   "source": [
    "Mul_of_3.symmetric_difference(Mul_of_4)"
   ]
  },
  {
   "cell_type": "code",
   "execution_count": 171,
   "id": "ac69d8d1-6486-47bf-a5d5-a0676fd4a026",
   "metadata": {},
   "outputs": [],
   "source": [
    "Mul_of_3.symmetric_difference_update(Mul_of_4)"
   ]
  },
  {
   "cell_type": "code",
   "execution_count": 172,
   "id": "901be463-a44c-4242-834c-8c27192a3d83",
   "metadata": {},
   "outputs": [
    {
     "data": {
      "text/plain": [
       "{3, 4, 6, 8, 9, 12, 15, 16, 20}"
      ]
     },
     "execution_count": 172,
     "metadata": {},
     "output_type": "execute_result"
    }
   ],
   "source": [
    "Mul_of_3"
   ]
  },
  {
   "cell_type": "code",
   "execution_count": 173,
   "id": "4dacdfe6-de48-4f90-ad53-099666dfa6c4",
   "metadata": {},
   "outputs": [],
   "source": [
    "Mul_of_3.remove(8)"
   ]
  },
  {
   "cell_type": "code",
   "execution_count": 174,
   "id": "96bd7407-452c-4b82-b1cc-1bb7510ee632",
   "metadata": {},
   "outputs": [
    {
     "data": {
      "text/plain": [
       "{3, 4, 6, 9, 12, 15, 16, 20}"
      ]
     },
     "execution_count": 174,
     "metadata": {},
     "output_type": "execute_result"
    }
   ],
   "source": [
    "Mul_of_3"
   ]
  },
  {
   "cell_type": "code",
   "execution_count": 175,
   "id": "0e97c6de-94e3-4fd2-9585-84451b0dfd1b",
   "metadata": {},
   "outputs": [
    {
     "data": {
      "text/plain": [
       "{4, 8, 12, 16, 20}"
      ]
     },
     "execution_count": 175,
     "metadata": {},
     "output_type": "execute_result"
    }
   ],
   "source": [
    "Mul_of_4"
   ]
  },
  {
   "cell_type": "code",
   "execution_count": 176,
   "id": "8323eac1-5afb-40a8-9529-fea5b87b5858",
   "metadata": {},
   "outputs": [],
   "source": [
    "Mul_of_4.remove(8)"
   ]
  },
  {
   "cell_type": "markdown",
   "id": "dbbb69ae-dd3c-4ca1-9cb4-02ba5476f398",
   "metadata": {},
   "source": [
    "#### Conditional Statements"
   ]
  },
  {
   "cell_type": "raw",
   "id": "f15f4f15-9f5a-4ff8-8173-45504a4776f2",
   "metadata": {},
   "source": [
    "If, Else, If Else"
   ]
  },
  {
   "cell_type": "code",
   "execution_count": 178,
   "id": "c9b3ad44-c775-4e3a-8e9b-a6ff3f9889e7",
   "metadata": {},
   "outputs": [
    {
     "name": "stdin",
     "output_type": "stream",
     "text": [
      "Enter the Number 22\n"
     ]
    },
    {
     "name": "stdout",
     "output_type": "stream",
     "text": [
      "The given number is Greater than 2\n"
     ]
    }
   ],
   "source": [
    "x = int(input('Enter the Number'))\n",
    "if x > 2:\n",
    "    print('The given number is Greater than 2')   "
   ]
  },
  {
   "cell_type": "code",
   "execution_count": 179,
   "id": "6ff331c9-0223-495c-8d9f-2b539a81e409",
   "metadata": {},
   "outputs": [
    {
     "name": "stdin",
     "output_type": "stream",
     "text": [
      "Enter the Number 22\n"
     ]
    },
    {
     "name": "stdout",
     "output_type": "stream",
     "text": [
      "The given number is Even\n"
     ]
    }
   ],
   "source": [
    "x = int(input('Enter the Number'))\n",
    "if x % 2 == 0:\n",
    "    print('The given number is Even')\n",
    "else:\n",
    "    print('The given number is Odd')"
   ]
  },
  {
   "cell_type": "code",
   "execution_count": 180,
   "id": "f45f0507-54f1-4292-929b-74baffc71a40",
   "metadata": {},
   "outputs": [
    {
     "name": "stdin",
     "output_type": "stream",
     "text": [
      "Enter the Number 2\n"
     ]
    },
    {
     "name": "stdout",
     "output_type": "stream",
     "text": [
      "The given number is not a Multiple of any one of 3,4 or 5\n"
     ]
    }
   ],
   "source": [
    "x = int(input('Enter the Number'))\n",
    "if x % 3 == 0:\n",
    "    print('The given number is a Multiple of 3')\n",
    "elif x % 4 == 0:\n",
    "    print('The given number is a Multiple of 4')\n",
    "elif x % 5 == 0:\n",
    "    print('The given number is a Multiple of 5')\n",
    "else:\n",
    "    print('The given number is not a Multiple of any one of 3,4 or 5')"
   ]
  },
  {
   "cell_type": "markdown",
   "id": "b4c9d91e-7a50-4e24-acd5-cd34c6a8d2be",
   "metadata": {},
   "source": [
    "### Loops"
   ]
  },
  {
   "cell_type": "code",
   "execution_count": 182,
   "id": "865f07f1-908e-4d0c-a4fd-69c3702509ff",
   "metadata": {},
   "outputs": [],
   "source": [
    "## for, while"
   ]
  },
  {
   "cell_type": "code",
   "execution_count": 183,
   "id": "c24503c0-1612-4ac0-a7e9-95212be39ae0",
   "metadata": {},
   "outputs": [
    {
     "name": "stdout",
     "output_type": "stream",
     "text": [
      "6\n",
      "7\n",
      "9\n",
      "12\n",
      "15\n",
      "18\n",
      "19\n",
      "23\n"
     ]
    }
   ],
   "source": [
    "for i in Mul_of_3:\n",
    "    print(i+3)"
   ]
  },
  {
   "cell_type": "code",
   "execution_count": 184,
   "id": "abe6853d-c65f-4b42-a66a-a40c5659bcf8",
   "metadata": {},
   "outputs": [
    {
     "name": "stdout",
     "output_type": "stream",
     "text": [
      "apple\n",
      "banana\n",
      "orange\n",
      "grapes\n"
     ]
    }
   ],
   "source": [
    "for i in Fruits:\n",
    "    print(i)"
   ]
  },
  {
   "cell_type": "code",
   "execution_count": 185,
   "id": "32a8df5a-2767-412d-883c-38ce55dfc106",
   "metadata": {},
   "outputs": [
    {
     "name": "stdout",
     "output_type": "stream",
     "text": [
      "The Square of 1 is 1\n",
      "The Square of 2 is 4\n",
      "The Square of 3 is 9\n",
      "The Square of 4 is 16\n",
      "The Square of 5 is 25\n",
      "The Square of 6 is 36\n",
      "The Square of 7 is 49\n",
      "The Square of 8 is 64\n",
      "The Square of 9 is 81\n"
     ]
    }
   ],
   "source": [
    "for i in range(1,10):\n",
    "    print('The Square of {} is {}'.format(i,i**2))"
   ]
  },
  {
   "cell_type": "markdown",
   "id": "2c259cdc-136d-448d-b8f4-107517c58d8e",
   "metadata": {},
   "source": [
    "##### While loop"
   ]
  },
  {
   "cell_type": "code",
   "execution_count": 187,
   "id": "707537c8-b9ed-4d22-8035-c7ee92705bdc",
   "metadata": {},
   "outputs": [
    {
     "name": "stdout",
     "output_type": "stream",
     "text": [
      "0\n",
      "1\n",
      "2\n",
      "3\n",
      "4\n",
      "5\n",
      "6\n",
      "7\n",
      "8\n",
      "9\n",
      "10\n"
     ]
    }
   ],
   "source": [
    "i = 0\n",
    "while i <= 10:\n",
    "    print(i)\n",
    "    i = i + 1"
   ]
  },
  {
   "cell_type": "raw",
   "id": "547b2968-b6c3-4d44-934f-4239864a7985",
   "metadata": {},
   "source": [
    "List "
   ]
  },
  {
   "cell_type": "markdown",
   "id": "a319e0a3-bb41-4a27-9721-7762fcdecc42",
   "metadata": {},
   "source": [
    "###### List Comprehension"
   ]
  },
  {
   "cell_type": "code",
   "execution_count": 189,
   "id": "8a04ab8c-0a34-4f69-a2f4-ef5b5a38b620",
   "metadata": {},
   "outputs": [],
   "source": [
    "M3 = [1,2,3,4,5,6,7,8,9]"
   ]
  },
  {
   "cell_type": "code",
   "execution_count": 190,
   "id": "ae94382f-6bd9-47dc-97cb-a29b8b1dbe13",
   "metadata": {},
   "outputs": [],
   "source": [
    "M3Squres = [x**2 for x in M3]"
   ]
  },
  {
   "cell_type": "code",
   "execution_count": 191,
   "id": "fa9fb78d-8221-4850-b20a-1ce6858528a4",
   "metadata": {},
   "outputs": [
    {
     "data": {
      "text/plain": [
       "[1, 4, 9, 16, 25, 36, 49, 64, 81]"
      ]
     },
     "execution_count": 191,
     "metadata": {},
     "output_type": "execute_result"
    }
   ],
   "source": [
    "M3Squres"
   ]
  },
  {
   "cell_type": "code",
   "execution_count": 192,
   "id": "cc4a3ae8-4b54-4319-86b1-6c0ea70f34f4",
   "metadata": {},
   "outputs": [],
   "source": [
    "Even = [x for x in M3 if x%2 == 0]"
   ]
  },
  {
   "cell_type": "code",
   "execution_count": 193,
   "id": "3c82c926-eefd-466a-a44d-4483e7fd7022",
   "metadata": {},
   "outputs": [
    {
     "data": {
      "text/plain": [
       "[2, 4, 6, 8]"
      ]
     },
     "execution_count": 193,
     "metadata": {},
     "output_type": "execute_result"
    }
   ],
   "source": [
    "Even"
   ]
  },
  {
   "cell_type": "code",
   "execution_count": 194,
   "id": "6b9d029b-5002-4c93-89a2-d4a27344fab2",
   "metadata": {},
   "outputs": [],
   "source": [
    "Odd = [x for x in M3 if x%2 != 0]"
   ]
  },
  {
   "cell_type": "code",
   "execution_count": 195,
   "id": "9bb0af5c-4634-4ae6-afaf-47297207962a",
   "metadata": {},
   "outputs": [
    {
     "data": {
      "text/plain": [
       "[1, 3, 5, 7, 9]"
      ]
     },
     "execution_count": 195,
     "metadata": {},
     "output_type": "execute_result"
    }
   ],
   "source": [
    "Odd"
   ]
  },
  {
   "cell_type": "code",
   "execution_count": 196,
   "id": "1124699b-6c88-4d3c-ade5-5d3aae3e9865",
   "metadata": {},
   "outputs": [],
   "source": [
    "First20 = [x for x in range(1,21)]"
   ]
  },
  {
   "cell_type": "code",
   "execution_count": 197,
   "id": "05cc8235-b4f1-498d-b0c5-332ca3b01ae6",
   "metadata": {},
   "outputs": [
    {
     "data": {
      "text/plain": [
       "[1, 2, 3, 4, 5, 6, 7, 8, 9, 10, 11, 12, 13, 14, 15, 16, 17, 18, 19, 20]"
      ]
     },
     "execution_count": 197,
     "metadata": {},
     "output_type": "execute_result"
    }
   ],
   "source": [
    "First20"
   ]
  },
  {
   "cell_type": "code",
   "execution_count": 198,
   "id": "a306824c-fc45-437b-851f-49ad6ab4aa55",
   "metadata": {},
   "outputs": [],
   "source": [
    "Cubes = {'The cube of {} is'.format(x):x**3 for x in Mul_of_3}"
   ]
  },
  {
   "cell_type": "code",
   "execution_count": 199,
   "id": "b8dc85fb-28c3-4bf3-8261-e6f99d40a012",
   "metadata": {},
   "outputs": [
    {
     "data": {
      "text/plain": [
       "{'The cube of 3 is': 27,\n",
       " 'The cube of 4 is': 64,\n",
       " 'The cube of 6 is': 216,\n",
       " 'The cube of 9 is': 729,\n",
       " 'The cube of 12 is': 1728,\n",
       " 'The cube of 15 is': 3375,\n",
       " 'The cube of 16 is': 4096,\n",
       " 'The cube of 20 is': 8000}"
      ]
     },
     "execution_count": 199,
     "metadata": {},
     "output_type": "execute_result"
    }
   ],
   "source": [
    "Cubes"
   ]
  },
  {
   "cell_type": "code",
   "execution_count": 200,
   "id": "c394e7c8-0981-4d2b-babc-ebe5e9a0fbcf",
   "metadata": {},
   "outputs": [],
   "source": [
    "SquareCubes = {'Number is {}'.format(x):{'Its Square is {}'.format(x**2),'Its Cube is {}'.format(x**3)} for x in Mul_of_4}"
   ]
  },
  {
   "cell_type": "code",
   "execution_count": 201,
   "id": "356c9195-7a14-4f20-8d82-90c802330ed5",
   "metadata": {},
   "outputs": [
    {
     "data": {
      "text/plain": [
       "{'Number is 16': {'Its Cube is 4096', 'Its Square is 256'},\n",
       " 'Number is 4': {'Its Cube is 64', 'Its Square is 16'},\n",
       " 'Number is 20': {'Its Cube is 8000', 'Its Square is 400'},\n",
       " 'Number is 12': {'Its Cube is 1728', 'Its Square is 144'}}"
      ]
     },
     "execution_count": 201,
     "metadata": {},
     "output_type": "execute_result"
    }
   ],
   "source": [
    "SquareCubes"
   ]
  },
  {
   "cell_type": "markdown",
   "id": "11798596-f37d-45ea-8bae-833d4ca6b97c",
   "metadata": {},
   "source": [
    "### Loops in python"
   ]
  },
  {
   "cell_type": "markdown",
   "id": "774bffe7-16df-4103-a310-bcac11427b51",
   "metadata": {},
   "source": [
    "#### Nested Loop"
   ]
  },
  {
   "cell_type": "code",
   "execution_count": 204,
   "id": "7bdd510c-acbc-4593-84f9-56fd4dd08795",
   "metadata": {},
   "outputs": [
    {
     "name": "stdin",
     "output_type": "stream",
     "text": [
      "Enter your number 2\n"
     ]
    }
   ],
   "source": [
    "Num = int(input(\"Enter your number\"))\n",
    "\n",
    "for i in range(2,Num):\n",
    "    if Num == 1:\n",
    "        print(\"The number is Neither Prime nor Composite\")\n",
    "    elif Num == 2:\n",
    "        print(\"The Number is Prime\")\n",
    "    elif Num % i == 0:\n",
    "        print(\"The number is Composite\")\n",
    "        break\n",
    "    else: \n",
    "        print(\"The Number is Prime\")\n",
    "        break"
   ]
  },
  {
   "cell_type": "code",
   "execution_count": 205,
   "id": "bd285f27-3194-428d-a82f-ebe41088553e",
   "metadata": {},
   "outputs": [
    {
     "name": "stdin",
     "output_type": "stream",
     "text": [
      "Enter your number 2\n"
     ]
    }
   ],
   "source": [
    "x = int(input(\"Enter your number\"))\n",
    "\n",
    "for i in range(4,x):\n",
    "    if Num % i == 0:\n",
    "        print(\"The number is Composite\")\n",
    "        break\n",
    "    else: \n",
    "        print(\"The Number is Prime\")\n",
    "        break"
   ]
  },
  {
   "cell_type": "code",
   "execution_count": 206,
   "id": "efe78829-fde0-42d5-93ed-5ca6626a7c7f",
   "metadata": {},
   "outputs": [
    {
     "name": "stdin",
     "output_type": "stream",
     "text": [
      "Enter a number 2\n"
     ]
    },
    {
     "name": "stdout",
     "output_type": "stream",
     "text": [
      "2 is a prime number\n"
     ]
    }
   ],
   "source": [
    "x = int(input('Enter a number'))\n",
    "i = 1\n",
    "a = 0\n",
    "\n",
    "while i <= x:\n",
    "    j = 1\n",
    "    while j <= x:\n",
    "        if i % j == 0:\n",
    "            a += 1\n",
    "        j += 1\n",
    "   \n",
    "    if a == 2:  \n",
    "        print(i, 'is a prime number')\n",
    "   \n",
    "    i += 1\n",
    "    a = 0  "
   ]
  },
  {
   "cell_type": "code",
   "execution_count": 207,
   "id": "3078619f-f3e9-4c8f-b3ca-d57fde656271",
   "metadata": {},
   "outputs": [
    {
     "name": "stdin",
     "output_type": "stream",
     "text": [
      "Enter the number: 2\n"
     ]
    },
    {
     "name": "stdout",
     "output_type": "stream",
     "text": [
      "Number is prime\n"
     ]
    }
   ],
   "source": [
    "x = int(input(\"Enter the number:\"))\n",
    "\n",
    "for i in range(1,x):\n",
    "    if x == 1:\n",
    "        print(\"Number is neither prime nor composite\")\n",
    "        break\n",
    "    elif x == 2:\n",
    "        print(\"Number is prime\")\n",
    "        break\n",
    "    elif x == 3:\n",
    "        print(\"Number is prime\")\n",
    "        break\n",
    "    if x % i ==0:\n",
    "        print(\"The number is composite\")\n",
    "        break\n",
    "    else:\n",
    "        print(\"The number is prime\")\n",
    "        break\n"
   ]
  },
  {
   "cell_type": "code",
   "execution_count": 208,
   "id": "58f24dde-e1d8-44be-9840-d448f3ed079c",
   "metadata": {
    "scrolled": true
   },
   "outputs": [
    {
     "name": "stdout",
     "output_type": "stream",
     "text": [
      "The table of 1\n",
      "1 x 1 = 1\n",
      "1 x 2 = 2\n",
      "1 x 3 = 3\n",
      "1 x 4 = 4\n",
      "1 x 5 = 5\n",
      "1 x 6 = 6\n",
      "1 x 7 = 7\n",
      "1 x 8 = 8\n",
      "1 x 9 = 9\n",
      "1 x 10 = 10\n",
      "\n",
      "The table of 2\n",
      "2 x 1 = 2\n",
      "2 x 2 = 4\n",
      "2 x 3 = 6\n",
      "2 x 4 = 8\n",
      "2 x 5 = 10\n",
      "2 x 6 = 12\n",
      "2 x 7 = 14\n",
      "2 x 8 = 16\n",
      "2 x 9 = 18\n",
      "2 x 10 = 20\n",
      "\n",
      "The table of 3\n",
      "3 x 1 = 3\n",
      "3 x 2 = 6\n",
      "3 x 3 = 9\n",
      "3 x 4 = 12\n",
      "3 x 5 = 15\n",
      "3 x 6 = 18\n",
      "3 x 7 = 21\n",
      "3 x 8 = 24\n",
      "3 x 9 = 27\n",
      "3 x 10 = 30\n",
      "\n",
      "The table of 4\n",
      "4 x 1 = 4\n",
      "4 x 2 = 8\n",
      "4 x 3 = 12\n",
      "4 x 4 = 16\n",
      "4 x 5 = 20\n",
      "4 x 6 = 24\n",
      "4 x 7 = 28\n",
      "4 x 8 = 32\n",
      "4 x 9 = 36\n",
      "4 x 10 = 40\n",
      "\n",
      "The table of 5\n",
      "5 x 1 = 5\n",
      "5 x 2 = 10\n",
      "5 x 3 = 15\n",
      "5 x 4 = 20\n",
      "5 x 5 = 25\n",
      "5 x 6 = 30\n",
      "5 x 7 = 35\n",
      "5 x 8 = 40\n",
      "5 x 9 = 45\n",
      "5 x 10 = 50\n",
      "\n",
      "The table of 6\n",
      "6 x 1 = 6\n",
      "6 x 2 = 12\n",
      "6 x 3 = 18\n",
      "6 x 4 = 24\n",
      "6 x 5 = 30\n",
      "6 x 6 = 36\n",
      "6 x 7 = 42\n",
      "6 x 8 = 48\n",
      "6 x 9 = 54\n",
      "6 x 10 = 60\n",
      "\n",
      "The table of 7\n",
      "7 x 1 = 7\n",
      "7 x 2 = 14\n",
      "7 x 3 = 21\n",
      "7 x 4 = 28\n",
      "7 x 5 = 35\n",
      "7 x 6 = 42\n",
      "7 x 7 = 49\n",
      "7 x 8 = 56\n",
      "7 x 9 = 63\n",
      "7 x 10 = 70\n",
      "\n",
      "The table of 8\n",
      "8 x 1 = 8\n",
      "8 x 2 = 16\n",
      "8 x 3 = 24\n",
      "8 x 4 = 32\n",
      "8 x 5 = 40\n",
      "8 x 6 = 48\n",
      "8 x 7 = 56\n",
      "8 x 8 = 64\n",
      "8 x 9 = 72\n",
      "8 x 10 = 80\n",
      "\n",
      "The table of 9\n",
      "9 x 1 = 9\n",
      "9 x 2 = 18\n",
      "9 x 3 = 27\n",
      "9 x 4 = 36\n",
      "9 x 5 = 45\n",
      "9 x 6 = 54\n",
      "9 x 7 = 63\n",
      "9 x 8 = 72\n",
      "9 x 9 = 81\n",
      "9 x 10 = 90\n",
      "\n",
      "The table of 10\n",
      "10 x 1 = 10\n",
      "10 x 2 = 20\n",
      "10 x 3 = 30\n",
      "10 x 4 = 40\n",
      "10 x 5 = 50\n",
      "10 x 6 = 60\n",
      "10 x 7 = 70\n",
      "10 x 8 = 80\n",
      "10 x 9 = 90\n",
      "10 x 10 = 100\n",
      "\n"
     ]
    }
   ],
   "source": [
    "for i in range(1,11):\n",
    "    print(\"The table of {}\".format(i))\n",
    "    for j in range (1,11):\n",
    "        print(\"{} x {} = {}\".format(i,j,i*j))\n",
    "    print()"
   ]
  },
  {
   "cell_type": "markdown",
   "id": "df18c935-2d35-41b8-9e52-3e6df9e5ace6",
   "metadata": {},
   "source": [
    "##### Break"
   ]
  },
  {
   "cell_type": "code",
   "execution_count": 210,
   "id": "49eb39bd-80d2-4e07-a20c-fb0533eb24bc",
   "metadata": {},
   "outputs": [],
   "source": [
    "list = [x for x in range(1,100) if x % 3 == 0]"
   ]
  },
  {
   "cell_type": "code",
   "execution_count": 211,
   "id": "9385ac74-bc82-4e0a-9ea8-ac4b73541bf7",
   "metadata": {
    "scrolled": true
   },
   "outputs": [
    {
     "name": "stdout",
     "output_type": "stream",
     "text": [
      "1\n",
      "2\n",
      "3\n",
      "4\n",
      "5\n",
      "6\n",
      "7\n",
      "8\n",
      "9\n",
      "10\n",
      "11\n",
      "12\n",
      "13\n",
      "14\n",
      "15\n",
      "16\n",
      "17\n",
      "18\n",
      "19\n",
      "20\n",
      "21\n",
      "22\n"
     ]
    }
   ],
   "source": [
    "for i in range(1,100):\n",
    "    if i == 23:\n",
    "        break  # Breaks the code once the objective is achieved\n",
    "    print(i)"
   ]
  },
  {
   "cell_type": "markdown",
   "id": "d444ab0f-13bb-42e7-817a-44d7afacbedb",
   "metadata": {},
   "source": [
    "##### Continue"
   ]
  },
  {
   "cell_type": "code",
   "execution_count": 213,
   "id": "b74c196c-d874-40ac-8d64-6e167f1b808a",
   "metadata": {},
   "outputs": [
    {
     "name": "stdout",
     "output_type": "stream",
     "text": [
      "3\n",
      "6\n",
      "9\n",
      "12\n",
      "18\n",
      "24\n",
      "27\n",
      "33\n",
      "36\n",
      "39\n",
      "48\n",
      "51\n",
      "54\n",
      "57\n",
      "66\n",
      "69\n",
      "72\n",
      "78\n",
      "81\n",
      "87\n",
      "93\n",
      "96\n",
      "99\n"
     ]
    }
   ],
   "source": [
    "for i in list:\n",
    "    if i % 5 == 0 or i % 7 == 0:\n",
    "        continue      # It Skips the i's which follow the condition mentioned\n",
    "    print(i)"
   ]
  },
  {
   "cell_type": "markdown",
   "id": "33390569-5cd0-4a14-9eb7-62bb2afe0b06",
   "metadata": {},
   "source": [
    "##### Pass"
   ]
  },
  {
   "cell_type": "code",
   "execution_count": 215,
   "id": "33582ce1-ccbf-456d-99ca-46295a8488a2",
   "metadata": {},
   "outputs": [
    {
     "name": "stdout",
     "output_type": "stream",
     "text": [
      "The code is incomplete\n"
     ]
    }
   ],
   "source": [
    "for i in range(1,100):\n",
    "    for j in range(1,50):\n",
    "        pass               # Implement the logic later\n",
    "print('The code is incomplete')"
   ]
  },
  {
   "cell_type": "markdown",
   "id": "c05b369b-841c-439e-a899-3c495d8c33de",
   "metadata": {},
   "source": [
    "### Def Function"
   ]
  },
  {
   "cell_type": "code",
   "execution_count": 217,
   "id": "39cedb33-e767-4efa-b0df-cbd4db3b2fff",
   "metadata": {},
   "outputs": [],
   "source": [
    "def sumproduct(a,b):\n",
    "    return 2*a + 3*b"
   ]
  },
  {
   "cell_type": "code",
   "execution_count": 218,
   "id": "56e5d4c5-5a22-49fa-9c15-00ef07ef65b1",
   "metadata": {},
   "outputs": [
    {
     "data": {
      "text/plain": [
       "33"
      ]
     },
     "execution_count": 218,
     "metadata": {},
     "output_type": "execute_result"
    }
   ],
   "source": [
    "sumproduct(3,9)"
   ]
  },
  {
   "cell_type": "code",
   "execution_count": 219,
   "id": "1129c75a-7050-48f3-9b6c-4ad1e085a043",
   "metadata": {},
   "outputs": [],
   "source": [
    "def sumsquares(a,b):\n",
    "    x = a**2\n",
    "    y = b**2\n",
    "    z = x + y\n",
    "    return z"
   ]
  },
  {
   "cell_type": "code",
   "execution_count": 220,
   "id": "7945013f-e69c-45be-bd94-00204b4c0581",
   "metadata": {},
   "outputs": [
    {
     "data": {
      "text/plain": [
       "221"
      ]
     },
     "execution_count": 220,
     "metadata": {},
     "output_type": "execute_result"
    }
   ],
   "source": [
    "sumsquares(10,11)"
   ]
  },
  {
   "cell_type": "code",
   "execution_count": 221,
   "id": "812096a3-4855-4086-8215-67b917566a75",
   "metadata": {},
   "outputs": [],
   "source": [
    "def prime_number_check(x):\n",
    "    for i in range(1,x):\n",
    "        if x == 1:\n",
    "            print(\"Number is neither prime nor composite\")\n",
    "            break\n",
    "        elif x == 2:\n",
    "            print(\"Number is prime\")\n",
    "            break\n",
    "        elif x == 3:\n",
    "            print(\"Number is prime\")\n",
    "            break\n",
    "        if x % i ==0:\n",
    "            print(\"The number is composite\")\n",
    "            break\n",
    "        else:\n",
    "            print(\"The number is prime\")\n",
    "            break"
   ]
  },
  {
   "cell_type": "code",
   "execution_count": 222,
   "id": "bf5b23c8-0ff4-4a3b-8f78-d26488f079d0",
   "metadata": {},
   "outputs": [
    {
     "name": "stdout",
     "output_type": "stream",
     "text": [
      "The number is composite\n"
     ]
    }
   ],
   "source": [
    "prime_number_check(101)"
   ]
  },
  {
   "cell_type": "code",
   "execution_count": 223,
   "id": "077bc9c6-f919-4acb-8f16-3c81f412d439",
   "metadata": {},
   "outputs": [],
   "source": [
    "# Numpy\n",
    "# Pandas\n",
    "# Matplotlib\n",
    "# Seaborn\n",
    "# Scipy\n",
    "# Sklearn"
   ]
  },
  {
   "cell_type": "markdown",
   "id": "5fba17aa-0b50-4d4c-b1a9-eb74708a338b",
   "metadata": {},
   "source": [
    "#### Numpy"
   ]
  },
  {
   "cell_type": "code",
   "execution_count": 225,
   "id": "f86cb4d3-cfbd-4871-bb3a-1f8f5bb781f2",
   "metadata": {},
   "outputs": [],
   "source": [
    "## pip install numpy\n",
    "import numpy as np"
   ]
  },
  {
   "cell_type": "code",
   "execution_count": 226,
   "id": "a513031b-1ae3-464c-a55a-c7bfe55fa62e",
   "metadata": {},
   "outputs": [],
   "source": [
    "arr = np.array([x for x in range(1,6)])"
   ]
  },
  {
   "cell_type": "code",
   "execution_count": 227,
   "id": "eb87852b-cd1d-4dff-90f2-4f445f29e1fb",
   "metadata": {},
   "outputs": [
    {
     "name": "stdout",
     "output_type": "stream",
     "text": [
      "[1 2 3 4 5]\n"
     ]
    }
   ],
   "source": [
    "print(arr)"
   ]
  },
  {
   "cell_type": "markdown",
   "id": "814c0a43-31e4-40bf-aea0-23988004cf2e",
   "metadata": {},
   "source": [
    "##### Create Arrays"
   ]
  },
  {
   "cell_type": "code",
   "execution_count": 229,
   "id": "1473d345-5983-40c9-8c40-a8b08bb978ec",
   "metadata": {},
   "outputs": [],
   "source": [
    "a = np.array([[x for x in range(1,4)],[7,8,9]])"
   ]
  },
  {
   "cell_type": "code",
   "execution_count": 230,
   "id": "008dc5cb-0182-4226-bf10-53d85a0749f2",
   "metadata": {},
   "outputs": [
    {
     "name": "stdout",
     "output_type": "stream",
     "text": [
      "[[1 2 3]\n",
      " [7 8 9]]\n"
     ]
    }
   ],
   "source": [
    "print(a)"
   ]
  },
  {
   "cell_type": "raw",
   "id": "6a278b2d-aa56-4e1b-96aa-a0ebe85acb1c",
   "metadata": {},
   "source": [
    "b = np.zeros((2,3))"
   ]
  },
  {
   "cell_type": "code",
   "execution_count": 231,
   "id": "6e770bc0-f4fc-4232-8a87-df29ef051034",
   "metadata": {},
   "outputs": [
    {
     "name": "stdout",
     "output_type": "stream",
     "text": [
      "3\n"
     ]
    }
   ],
   "source": [
    "print(b)"
   ]
  },
  {
   "cell_type": "code",
   "execution_count": 232,
   "id": "ff66e0c3-e8db-4c43-8592-3087a9c9d11b",
   "metadata": {},
   "outputs": [],
   "source": [
    "ones = np.ones((3,3))"
   ]
  },
  {
   "cell_type": "code",
   "execution_count": 233,
   "id": "62a801f4-9e8b-401c-9bce-3d721585c666",
   "metadata": {},
   "outputs": [
    {
     "name": "stdout",
     "output_type": "stream",
     "text": [
      "[[1. 1. 1.]\n",
      " [1. 1. 1.]\n",
      " [1. 1. 1.]]\n"
     ]
    }
   ],
   "source": [
    "print(ones)"
   ]
  },
  {
   "cell_type": "code",
   "execution_count": 234,
   "id": "eb511785-8477-4e36-9274-c69500f4c6f1",
   "metadata": {},
   "outputs": [],
   "source": [
    "consecutive = np.arange(11)"
   ]
  },
  {
   "cell_type": "code",
   "execution_count": 235,
   "id": "0dc79ea9-b2de-41cb-a5ac-95503240aed7",
   "metadata": {},
   "outputs": [
    {
     "name": "stdout",
     "output_type": "stream",
     "text": [
      "[ 0  1  2  3  4  5  6  7  8  9 10]\n"
     ]
    }
   ],
   "source": [
    "print(consecutive)"
   ]
  },
  {
   "cell_type": "raw",
   "id": "71888db2-50f7-4b1a-ac19-53b65c6106b6",
   "metadata": {},
   "source": [
    "Attributes"
   ]
  },
  {
   "cell_type": "code",
   "execution_count": 236,
   "id": "6f2be4a6-daeb-471e-8793-6283a6536131",
   "metadata": {},
   "outputs": [
    {
     "data": {
      "text/plain": [
       "(2, 3)"
      ]
     },
     "execution_count": 236,
     "metadata": {},
     "output_type": "execute_result"
    }
   ],
   "source": [
    "a.shape"
   ]
  },
  {
   "cell_type": "code",
   "execution_count": 237,
   "id": "4b522085-4750-4a15-a1dc-a2a880bb9ddf",
   "metadata": {},
   "outputs": [
    {
     "ename": "AttributeError",
     "evalue": "'int' object has no attribute 'shape'",
     "output_type": "error",
     "traceback": [
      "\u001b[1;31m---------------------------------------------------------------------------\u001b[0m",
      "\u001b[1;31mAttributeError\u001b[0m                            Traceback (most recent call last)",
      "Cell \u001b[1;32mIn[237], line 1\u001b[0m\n\u001b[1;32m----> 1\u001b[0m b\u001b[38;5;241m.\u001b[39mshape\n",
      "\u001b[1;31mAttributeError\u001b[0m: 'int' object has no attribute 'shape'"
     ]
    }
   ],
   "source": [
    "b.shape"
   ]
  },
  {
   "cell_type": "code",
   "execution_count": 238,
   "id": "074bcfc6-9dda-40ad-895f-e4a936dd2827",
   "metadata": {},
   "outputs": [
    {
     "data": {
      "text/plain": [
       "(3, 3)"
      ]
     },
     "execution_count": 238,
     "metadata": {},
     "output_type": "execute_result"
    }
   ],
   "source": [
    "ones.shape"
   ]
  },
  {
   "cell_type": "code",
   "execution_count": 240,
   "id": "c8d81bf5-b599-44df-a0f0-89db0ad97b49",
   "metadata": {},
   "outputs": [
    {
     "data": {
      "text/plain": [
       "2"
      ]
     },
     "execution_count": 240,
     "metadata": {},
     "output_type": "execute_result"
    }
   ],
   "source": [
    "ones.ndim"
   ]
  },
  {
   "cell_type": "code",
   "execution_count": 242,
   "id": "2930ee69-a9e1-4e54-828c-b75f7cbaf65b",
   "metadata": {},
   "outputs": [
    {
     "data": {
      "text/plain": [
       "9"
      ]
     },
     "execution_count": 242,
     "metadata": {},
     "output_type": "execute_result"
    }
   ],
   "source": [
    "ones.size"
   ]
  },
  {
   "cell_type": "code",
   "execution_count": 244,
   "id": "027245e4-e200-4e5a-9e9b-61dc51cf6d2e",
   "metadata": {},
   "outputs": [
    {
     "data": {
      "text/plain": [
       "dtype('float64')"
      ]
     },
     "execution_count": 244,
     "metadata": {},
     "output_type": "execute_result"
    }
   ],
   "source": [
    "ones.dtype"
   ]
  },
  {
   "cell_type": "code",
   "execution_count": 246,
   "id": "892d721f-ec76-4836-a939-dcfad5d71ea1",
   "metadata": {},
   "outputs": [],
   "source": [
    "d = np.array([[1,2],[3,4],[5,6],[7,8]])"
   ]
  },
  {
   "cell_type": "code",
   "execution_count": null,
   "id": "43c9c841-a611-4843-859f-3d70b0848513",
   "metadata": {},
   "outputs": [],
   "source": [
    "d.shape"
   ]
  },
  {
   "cell_type": "code",
   "execution_count": null,
   "id": "660f55ae-5ba0-4980-8a3c-c08ba5daf152",
   "metadata": {},
   "outputs": [],
   "source": [
    "print(d)"
   ]
  },
  {
   "cell_type": "code",
   "execution_count": null,
   "id": "22edf81a-199c-451e-87b1-e3348d44c234",
   "metadata": {},
   "outputs": [],
   "source": [
    "e = np.array([1,2,3,4,5,6,7,8])"
   ]
  },
  {
   "cell_type": "code",
   "execution_count": null,
   "id": "22efa168-be9e-47aa-97f1-d5f4aded6647",
   "metadata": {},
   "outputs": [],
   "source": [
    "print(e)"
   ]
  },
  {
   "cell_type": "code",
   "execution_count": null,
   "id": "cd188b0a-adb8-4bf8-8f3a-cb06e6d9ba53",
   "metadata": {},
   "outputs": [],
   "source": [
    "x = np.array([[1,2,3],[4,5,6],[7,8,9]])\n",
    "y = np.array([[10,20,30],[40,50,60],[70,80,90]])"
   ]
  },
  {
   "cell_type": "code",
   "execution_count": null,
   "id": "280b29be-625e-48c1-bd92-b06bfc904ac4",
   "metadata": {},
   "outputs": [],
   "source": [
    "print(x)\n",
    "print()\n",
    "print(y)"
   ]
  },
  {
   "cell_type": "code",
   "execution_count": null,
   "id": "e33c6b32-ea1f-4333-8d2d-5211737c6803",
   "metadata": {},
   "outputs": [],
   "source": [
    "print(x + y)"
   ]
  },
  {
   "cell_type": "code",
   "execution_count": null,
   "id": "3b83acd8-8a0c-408a-8430-93326ebffa78",
   "metadata": {},
   "outputs": [],
   "source": [
    "print(y-x)"
   ]
  },
  {
   "cell_type": "code",
   "execution_count": null,
   "id": "5b0fa711-6650-494b-9d1b-a990ac92d75d",
   "metadata": {},
   "outputs": [],
   "source": [
    "print(x * y)\n",
    "print()\n",
    "print(y / x)"
   ]
  },
  {
   "cell_type": "code",
   "execution_count": null,
   "id": "7a82135d-eabb-4a69-ab4a-3ad61eeb797c",
   "metadata": {},
   "outputs": [],
   "source": [
    "np.exp(x)"
   ]
  },
  {
   "cell_type": "code",
   "execution_count": null,
   "id": "49f2a010-349b-492a-a4df-6cfcb11ab4d8",
   "metadata": {},
   "outputs": [],
   "source": [
    "np.sqrt(x)"
   ]
  },
  {
   "cell_type": "code",
   "execution_count": null,
   "id": "e27a4250-73b5-4005-a0e7-0c7de96f5802",
   "metadata": {},
   "outputs": [],
   "source": [
    "angles = np.array([[30,45],[60,90],[120,180]])"
   ]
  },
  {
   "cell_type": "code",
   "execution_count": null,
   "id": "5788adf7-3e80-46a7-95ce-ca8d4e021e2f",
   "metadata": {},
   "outputs": [],
   "source": [
    "np.sin(angles)"
   ]
  },
  {
   "cell_type": "code",
   "execution_count": null,
   "id": "4d8ca4fe-1f69-40c5-b0a2-3ddfc735270f",
   "metadata": {},
   "outputs": [],
   "source": [
    "np.log(a)"
   ]
  },
  {
   "cell_type": "markdown",
   "id": "d45663c2-0f82-4b49-89b1-8644744bd294",
   "metadata": {},
   "source": [
    "##### Indexing and slicing"
   ]
  },
  {
   "cell_type": "code",
   "execution_count": null,
   "id": "56ddc38a-1fb4-48b4-a710-05cd4ea52028",
   "metadata": {},
   "outputs": [],
   "source": [
    "a[1,2]"
   ]
  },
  {
   "cell_type": "code",
   "execution_count": null,
   "id": "d91a0610-7613-48b7-ab59-9afb0a4bcf8e",
   "metadata": {},
   "outputs": [],
   "source": [
    "a[1,1]"
   ]
  },
  {
   "cell_type": "code",
   "execution_count": null,
   "id": "2576eb47-8d03-4e2f-88be-305e0117534d",
   "metadata": {},
   "outputs": [],
   "source": [
    "bigger = np.array([[x for x in range(1,6)],\n",
    "                  [x for x in range(6,11)],\n",
    "                 [x for x in range(11,16)],\n",
    "                 [x for x in range(16,21)],\n",
    "                 [x for x in range(21,26)]])"
   ]
  },
  {
   "cell_type": "code",
   "execution_count": null,
   "id": "b22922d9-e3c8-41a8-93e4-60b82a75a893",
   "metadata": {},
   "outputs": [],
   "source": [
    "print(bigger)"
   ]
  },
  {
   "cell_type": "code",
   "execution_count": null,
   "id": "55a81103-62a4-48e3-9a12-5433672fb12a",
   "metadata": {},
   "outputs": [],
   "source": [
    "bigger[0:3,0:3]"
   ]
  },
  {
   "cell_type": "code",
   "execution_count": null,
   "id": "c636ccef-c676-418c-b48e-0e5efd1166d6",
   "metadata": {},
   "outputs": [],
   "source": [
    "bigger[2:5,1:3]"
   ]
  },
  {
   "cell_type": "code",
   "execution_count": null,
   "id": "a8402e17-e2d0-42ff-b8e1-ce4509cc05c8",
   "metadata": {},
   "outputs": [],
   "source": [
    "bigger[:,1:3]"
   ]
  },
  {
   "cell_type": "code",
   "execution_count": null,
   "id": "00f8f868-324f-4412-8366-d36ede118d12",
   "metadata": {},
   "outputs": [],
   "source": [
    "bigger[1:3,:]"
   ]
  },
  {
   "cell_type": "markdown",
   "id": "b53823af-fd5c-4d91-ad11-146fa039150c",
   "metadata": {},
   "source": [
    "## Pandas"
   ]
  },
  {
   "cell_type": "code",
   "execution_count": 248,
   "id": "17972a6b-866d-4c9c-88db-7d6275e5185e",
   "metadata": {},
   "outputs": [],
   "source": [
    "import pandas as pd"
   ]
  },
  {
   "cell_type": "markdown",
   "id": "250696d4-bf24-4350-b32d-d652e37efdf3",
   "metadata": {},
   "source": [
    "##### Creating a Dataframe"
   ]
  },
  {
   "cell_type": "code",
   "execution_count": 251,
   "id": "5ae195c6-3f3a-42d2-81e6-ea43d7ca1637",
   "metadata": {},
   "outputs": [],
   "source": [
    "Employee_info = {'EM2403': \n",
    "                 {'name': 'Alice',\n",
    "                    'age': 30,\n",
    "                    'city': 'New York'},\n",
    "                'EM2409': {\n",
    "                    'name': 'Bob',\n",
    "                    'age': 25,\n",
    "                    'city': 'San Francisco'\n",
    "                },\n",
    "                'EM2390': {\n",
    "                    'name': 'Charlie',\n",
    "                    'age': 35,\n",
    "                    'city': 'Seattle'\n",
    "                },\n",
    "                'EM2399': {\n",
    "                    'name': 'Subhash',\n",
    "                    'age': 35,\n",
    "                    'city': 'Washington'\n",
    "                }\n",
    "            }"
   ]
  },
  {
   "cell_type": "code",
   "execution_count": 253,
   "id": "330d12e1-2198-4b15-af88-58df6e193964",
   "metadata": {},
   "outputs": [
    {
     "data": {
      "text/plain": [
       "{'EM2403': {'name': 'Alice', 'age': 30, 'city': 'New York'},\n",
       " 'EM2409': {'name': 'Bob', 'age': 25, 'city': 'San Francisco'},\n",
       " 'EM2390': {'name': 'Charlie', 'age': 35, 'city': 'Seattle'},\n",
       " 'EM2399': {'name': 'Subhash', 'age': 35, 'city': 'Washington'}}"
      ]
     },
     "execution_count": 253,
     "metadata": {},
     "output_type": "execute_result"
    }
   ],
   "source": [
    "Employee_info"
   ]
  },
  {
   "cell_type": "code",
   "execution_count": 255,
   "id": "163ac0fa-deb2-410e-a2d5-e5f57e31f452",
   "metadata": {},
   "outputs": [],
   "source": [
    "Emp_df = pd.DataFrame(Employee_info).T"
   ]
  },
  {
   "cell_type": "code",
   "execution_count": 257,
   "id": "aa02ac01-a083-48ff-9251-9bb552673315",
   "metadata": {},
   "outputs": [
    {
     "data": {
      "text/html": [
       "<div>\n",
       "<style scoped>\n",
       "    .dataframe tbody tr th:only-of-type {\n",
       "        vertical-align: middle;\n",
       "    }\n",
       "\n",
       "    .dataframe tbody tr th {\n",
       "        vertical-align: top;\n",
       "    }\n",
       "\n",
       "    .dataframe thead th {\n",
       "        text-align: right;\n",
       "    }\n",
       "</style>\n",
       "<table border=\"1\" class=\"dataframe\">\n",
       "  <thead>\n",
       "    <tr style=\"text-align: right;\">\n",
       "      <th></th>\n",
       "      <th>name</th>\n",
       "      <th>age</th>\n",
       "      <th>city</th>\n",
       "    </tr>\n",
       "  </thead>\n",
       "  <tbody>\n",
       "    <tr>\n",
       "      <th>EM2403</th>\n",
       "      <td>Alice</td>\n",
       "      <td>30</td>\n",
       "      <td>New York</td>\n",
       "    </tr>\n",
       "    <tr>\n",
       "      <th>EM2409</th>\n",
       "      <td>Bob</td>\n",
       "      <td>25</td>\n",
       "      <td>San Francisco</td>\n",
       "    </tr>\n",
       "    <tr>\n",
       "      <th>EM2390</th>\n",
       "      <td>Charlie</td>\n",
       "      <td>35</td>\n",
       "      <td>Seattle</td>\n",
       "    </tr>\n",
       "    <tr>\n",
       "      <th>EM2399</th>\n",
       "      <td>Subhash</td>\n",
       "      <td>35</td>\n",
       "      <td>Washington</td>\n",
       "    </tr>\n",
       "  </tbody>\n",
       "</table>\n",
       "</div>"
      ],
      "text/plain": [
       "           name age           city\n",
       "EM2403    Alice  30       New York\n",
       "EM2409      Bob  25  San Francisco\n",
       "EM2390  Charlie  35        Seattle\n",
       "EM2399  Subhash  35     Washington"
      ]
     },
     "execution_count": 257,
     "metadata": {},
     "output_type": "execute_result"
    }
   ],
   "source": [
    "Emp_df"
   ]
  },
  {
   "cell_type": "code",
   "execution_count": 259,
   "id": "4cf2307c-4b34-45c1-8785-489db8d091f7",
   "metadata": {},
   "outputs": [],
   "source": [
    "Emp_data = {'Emp_id': ['EM2403','EM2409','EM2390','EM2399'],\n",
    "            'Name' : ['Alice','Bob','Charlie','Subhash'],\n",
    "            'Age' : [30,25,35,35],\n",
    "             'City' : ['New York','San Frasisco','Seattle','Washigton']}"
   ]
  },
  {
   "cell_type": "code",
   "execution_count": 261,
   "id": "59c9e9ed-b696-4113-b97e-84ca5fcd7532",
   "metadata": {},
   "outputs": [],
   "source": [
    "Emp_df = pd.DataFrame(Emp_data)"
   ]
  },
  {
   "cell_type": "code",
   "execution_count": 263,
   "id": "cdf1ab75-88cf-43e4-a088-b93640d72e1d",
   "metadata": {},
   "outputs": [
    {
     "data": {
      "text/html": [
       "<div>\n",
       "<style scoped>\n",
       "    .dataframe tbody tr th:only-of-type {\n",
       "        vertical-align: middle;\n",
       "    }\n",
       "\n",
       "    .dataframe tbody tr th {\n",
       "        vertical-align: top;\n",
       "    }\n",
       "\n",
       "    .dataframe thead th {\n",
       "        text-align: right;\n",
       "    }\n",
       "</style>\n",
       "<table border=\"1\" class=\"dataframe\">\n",
       "  <thead>\n",
       "    <tr style=\"text-align: right;\">\n",
       "      <th></th>\n",
       "      <th>Emp_id</th>\n",
       "      <th>Name</th>\n",
       "      <th>Age</th>\n",
       "      <th>City</th>\n",
       "    </tr>\n",
       "  </thead>\n",
       "  <tbody>\n",
       "    <tr>\n",
       "      <th>0</th>\n",
       "      <td>EM2403</td>\n",
       "      <td>Alice</td>\n",
       "      <td>30</td>\n",
       "      <td>New York</td>\n",
       "    </tr>\n",
       "    <tr>\n",
       "      <th>1</th>\n",
       "      <td>EM2409</td>\n",
       "      <td>Bob</td>\n",
       "      <td>25</td>\n",
       "      <td>San Frasisco</td>\n",
       "    </tr>\n",
       "    <tr>\n",
       "      <th>2</th>\n",
       "      <td>EM2390</td>\n",
       "      <td>Charlie</td>\n",
       "      <td>35</td>\n",
       "      <td>Seattle</td>\n",
       "    </tr>\n",
       "    <tr>\n",
       "      <th>3</th>\n",
       "      <td>EM2399</td>\n",
       "      <td>Subhash</td>\n",
       "      <td>35</td>\n",
       "      <td>Washigton</td>\n",
       "    </tr>\n",
       "  </tbody>\n",
       "</table>\n",
       "</div>"
      ],
      "text/plain": [
       "   Emp_id     Name  Age          City\n",
       "0  EM2403    Alice   30      New York\n",
       "1  EM2409      Bob   25  San Frasisco\n",
       "2  EM2390  Charlie   35       Seattle\n",
       "3  EM2399  Subhash   35     Washigton"
      ]
     },
     "execution_count": 263,
     "metadata": {},
     "output_type": "execute_result"
    }
   ],
   "source": [
    "Emp_df"
   ]
  },
  {
   "cell_type": "code",
   "execution_count": 265,
   "id": "f579025b-7bb2-49c3-b992-b6d27383baff",
   "metadata": {},
   "outputs": [],
   "source": [
    "Emp_df_Man = pd.DataFrame(data= [['EM2403','Alice','','New York'],\n",
    "            ['EM2409','Bob',25,'San Fransico'],\n",
    "            ['EM2390','Charlie',35,'Seattle'],\n",
    "            ['EM2399','Subhash',35,'Washington']],columns = ['Emp_id','Name','Age','City'])"
   ]
  },
  {
   "cell_type": "code",
   "execution_count": 267,
   "id": "5dd4e868-2690-4344-8425-7fd74c0485a4",
   "metadata": {},
   "outputs": [
    {
     "data": {
      "text/html": [
       "<div>\n",
       "<style scoped>\n",
       "    .dataframe tbody tr th:only-of-type {\n",
       "        vertical-align: middle;\n",
       "    }\n",
       "\n",
       "    .dataframe tbody tr th {\n",
       "        vertical-align: top;\n",
       "    }\n",
       "\n",
       "    .dataframe thead th {\n",
       "        text-align: right;\n",
       "    }\n",
       "</style>\n",
       "<table border=\"1\" class=\"dataframe\">\n",
       "  <thead>\n",
       "    <tr style=\"text-align: right;\">\n",
       "      <th></th>\n",
       "      <th>Emp_id</th>\n",
       "      <th>Name</th>\n",
       "      <th>Age</th>\n",
       "      <th>City</th>\n",
       "    </tr>\n",
       "  </thead>\n",
       "  <tbody>\n",
       "    <tr>\n",
       "      <th>0</th>\n",
       "      <td>EM2403</td>\n",
       "      <td>Alice</td>\n",
       "      <td></td>\n",
       "      <td>New York</td>\n",
       "    </tr>\n",
       "    <tr>\n",
       "      <th>1</th>\n",
       "      <td>EM2409</td>\n",
       "      <td>Bob</td>\n",
       "      <td>25</td>\n",
       "      <td>San Fransico</td>\n",
       "    </tr>\n",
       "    <tr>\n",
       "      <th>2</th>\n",
       "      <td>EM2390</td>\n",
       "      <td>Charlie</td>\n",
       "      <td>35</td>\n",
       "      <td>Seattle</td>\n",
       "    </tr>\n",
       "    <tr>\n",
       "      <th>3</th>\n",
       "      <td>EM2399</td>\n",
       "      <td>Subhash</td>\n",
       "      <td>35</td>\n",
       "      <td>Washington</td>\n",
       "    </tr>\n",
       "  </tbody>\n",
       "</table>\n",
       "</div>"
      ],
      "text/plain": [
       "   Emp_id     Name Age          City\n",
       "0  EM2403    Alice          New York\n",
       "1  EM2409      Bob  25  San Fransico\n",
       "2  EM2390  Charlie  35       Seattle\n",
       "3  EM2399  Subhash  35    Washington"
      ]
     },
     "execution_count": 267,
     "metadata": {},
     "output_type": "execute_result"
    }
   ],
   "source": [
    "Emp_df_Man"
   ]
  },
  {
   "cell_type": "markdown",
   "id": "9f8ba181-63eb-4d64-830b-732010eb715d",
   "metadata": {},
   "source": [
    "##### Import Data"
   ]
  },
  {
   "cell_type": "code",
   "execution_count": 270,
   "id": "c17903c9-cd48-4eb0-93f1-28abe8d7ae83",
   "metadata": {},
   "outputs": [],
   "source": [
    "covid_data = pd.read_csv('us-counties.csv')"
   ]
  },
  {
   "cell_type": "code",
   "execution_count": 271,
   "id": "de6e95d0-2f06-4dda-9490-b6e6705bdb1d",
   "metadata": {},
   "outputs": [
    {
     "data": {
      "text/html": [
       "<div>\n",
       "<style scoped>\n",
       "    .dataframe tbody tr th:only-of-type {\n",
       "        vertical-align: middle;\n",
       "    }\n",
       "\n",
       "    .dataframe tbody tr th {\n",
       "        vertical-align: top;\n",
       "    }\n",
       "\n",
       "    .dataframe thead th {\n",
       "        text-align: right;\n",
       "    }\n",
       "</style>\n",
       "<table border=\"1\" class=\"dataframe\">\n",
       "  <thead>\n",
       "    <tr style=\"text-align: right;\">\n",
       "      <th></th>\n",
       "      <th>date</th>\n",
       "      <th>county</th>\n",
       "      <th>state</th>\n",
       "      <th>fips</th>\n",
       "      <th>cases</th>\n",
       "      <th>deaths</th>\n",
       "    </tr>\n",
       "  </thead>\n",
       "  <tbody>\n",
       "    <tr>\n",
       "      <th>0</th>\n",
       "      <td>2020-01-21</td>\n",
       "      <td>Snohomish</td>\n",
       "      <td>Washington</td>\n",
       "      <td>53061.0</td>\n",
       "      <td>1</td>\n",
       "      <td>0.0</td>\n",
       "    </tr>\n",
       "    <tr>\n",
       "      <th>1</th>\n",
       "      <td>2020-01-22</td>\n",
       "      <td>Snohomish</td>\n",
       "      <td>Washington</td>\n",
       "      <td>53061.0</td>\n",
       "      <td>1</td>\n",
       "      <td>0.0</td>\n",
       "    </tr>\n",
       "    <tr>\n",
       "      <th>2</th>\n",
       "      <td>2020-01-23</td>\n",
       "      <td>Snohomish</td>\n",
       "      <td>Washington</td>\n",
       "      <td>53061.0</td>\n",
       "      <td>1</td>\n",
       "      <td>0.0</td>\n",
       "    </tr>\n",
       "    <tr>\n",
       "      <th>3</th>\n",
       "      <td>2020-01-24</td>\n",
       "      <td>Cook</td>\n",
       "      <td>Illinois</td>\n",
       "      <td>17031.0</td>\n",
       "      <td>1</td>\n",
       "      <td>0.0</td>\n",
       "    </tr>\n",
       "    <tr>\n",
       "      <th>4</th>\n",
       "      <td>2020-01-24</td>\n",
       "      <td>Snohomish</td>\n",
       "      <td>Washington</td>\n",
       "      <td>53061.0</td>\n",
       "      <td>1</td>\n",
       "      <td>0.0</td>\n",
       "    </tr>\n",
       "    <tr>\n",
       "      <th>...</th>\n",
       "      <td>...</td>\n",
       "      <td>...</td>\n",
       "      <td>...</td>\n",
       "      <td>...</td>\n",
       "      <td>...</td>\n",
       "      <td>...</td>\n",
       "    </tr>\n",
       "    <tr>\n",
       "      <th>2502827</th>\n",
       "      <td>2022-05-13</td>\n",
       "      <td>Sweetwater</td>\n",
       "      <td>Wyoming</td>\n",
       "      <td>56037.0</td>\n",
       "      <td>11088</td>\n",
       "      <td>126.0</td>\n",
       "    </tr>\n",
       "    <tr>\n",
       "      <th>2502828</th>\n",
       "      <td>2022-05-13</td>\n",
       "      <td>Teton</td>\n",
       "      <td>Wyoming</td>\n",
       "      <td>56039.0</td>\n",
       "      <td>10074</td>\n",
       "      <td>16.0</td>\n",
       "    </tr>\n",
       "    <tr>\n",
       "      <th>2502829</th>\n",
       "      <td>2022-05-13</td>\n",
       "      <td>Uinta</td>\n",
       "      <td>Wyoming</td>\n",
       "      <td>56041.0</td>\n",
       "      <td>5643</td>\n",
       "      <td>39.0</td>\n",
       "    </tr>\n",
       "    <tr>\n",
       "      <th>2502830</th>\n",
       "      <td>2022-05-13</td>\n",
       "      <td>Washakie</td>\n",
       "      <td>Wyoming</td>\n",
       "      <td>56043.0</td>\n",
       "      <td>2358</td>\n",
       "      <td>44.0</td>\n",
       "    </tr>\n",
       "    <tr>\n",
       "      <th>2502831</th>\n",
       "      <td>2022-05-13</td>\n",
       "      <td>Weston</td>\n",
       "      <td>Wyoming</td>\n",
       "      <td>56045.0</td>\n",
       "      <td>1588</td>\n",
       "      <td>18.0</td>\n",
       "    </tr>\n",
       "  </tbody>\n",
       "</table>\n",
       "<p>2502832 rows × 6 columns</p>\n",
       "</div>"
      ],
      "text/plain": [
       "               date      county       state     fips  cases  deaths\n",
       "0        2020-01-21   Snohomish  Washington  53061.0      1     0.0\n",
       "1        2020-01-22   Snohomish  Washington  53061.0      1     0.0\n",
       "2        2020-01-23   Snohomish  Washington  53061.0      1     0.0\n",
       "3        2020-01-24        Cook    Illinois  17031.0      1     0.0\n",
       "4        2020-01-24   Snohomish  Washington  53061.0      1     0.0\n",
       "...             ...         ...         ...      ...    ...     ...\n",
       "2502827  2022-05-13  Sweetwater     Wyoming  56037.0  11088   126.0\n",
       "2502828  2022-05-13       Teton     Wyoming  56039.0  10074    16.0\n",
       "2502829  2022-05-13       Uinta     Wyoming  56041.0   5643    39.0\n",
       "2502830  2022-05-13    Washakie     Wyoming  56043.0   2358    44.0\n",
       "2502831  2022-05-13      Weston     Wyoming  56045.0   1588    18.0\n",
       "\n",
       "[2502832 rows x 6 columns]"
      ]
     },
     "execution_count": 271,
     "metadata": {},
     "output_type": "execute_result"
    }
   ],
   "source": [
    "covid_data"
   ]
  },
  {
   "cell_type": "code",
   "execution_count": 272,
   "id": "8e4dc85e-e323-43f2-9a1a-ddaac6faeec0",
   "metadata": {},
   "outputs": [],
   "source": [
    "# Rename\n",
    "covid_data.rename(columns={'date':'Date','county':'County','state':'State','fips':'FIPS','cases':'Cases','deaths':'Deaths'},inplace= True)"
   ]
  },
  {
   "cell_type": "code",
   "execution_count": 273,
   "id": "0887ed94-e7f2-435e-8476-383e05aca8c9",
   "metadata": {},
   "outputs": [
    {
     "data": {
      "text/html": [
       "<div>\n",
       "<style scoped>\n",
       "    .dataframe tbody tr th:only-of-type {\n",
       "        vertical-align: middle;\n",
       "    }\n",
       "\n",
       "    .dataframe tbody tr th {\n",
       "        vertical-align: top;\n",
       "    }\n",
       "\n",
       "    .dataframe thead th {\n",
       "        text-align: right;\n",
       "    }\n",
       "</style>\n",
       "<table border=\"1\" class=\"dataframe\">\n",
       "  <thead>\n",
       "    <tr style=\"text-align: right;\">\n",
       "      <th></th>\n",
       "      <th>Date</th>\n",
       "      <th>County</th>\n",
       "      <th>State</th>\n",
       "      <th>FIPS</th>\n",
       "      <th>Cases</th>\n",
       "      <th>Deaths</th>\n",
       "    </tr>\n",
       "  </thead>\n",
       "  <tbody>\n",
       "    <tr>\n",
       "      <th>0</th>\n",
       "      <td>2020-01-21</td>\n",
       "      <td>Snohomish</td>\n",
       "      <td>Washington</td>\n",
       "      <td>53061.0</td>\n",
       "      <td>1</td>\n",
       "      <td>0.0</td>\n",
       "    </tr>\n",
       "    <tr>\n",
       "      <th>1</th>\n",
       "      <td>2020-01-22</td>\n",
       "      <td>Snohomish</td>\n",
       "      <td>Washington</td>\n",
       "      <td>53061.0</td>\n",
       "      <td>1</td>\n",
       "      <td>0.0</td>\n",
       "    </tr>\n",
       "    <tr>\n",
       "      <th>2</th>\n",
       "      <td>2020-01-23</td>\n",
       "      <td>Snohomish</td>\n",
       "      <td>Washington</td>\n",
       "      <td>53061.0</td>\n",
       "      <td>1</td>\n",
       "      <td>0.0</td>\n",
       "    </tr>\n",
       "    <tr>\n",
       "      <th>3</th>\n",
       "      <td>2020-01-24</td>\n",
       "      <td>Cook</td>\n",
       "      <td>Illinois</td>\n",
       "      <td>17031.0</td>\n",
       "      <td>1</td>\n",
       "      <td>0.0</td>\n",
       "    </tr>\n",
       "    <tr>\n",
       "      <th>4</th>\n",
       "      <td>2020-01-24</td>\n",
       "      <td>Snohomish</td>\n",
       "      <td>Washington</td>\n",
       "      <td>53061.0</td>\n",
       "      <td>1</td>\n",
       "      <td>0.0</td>\n",
       "    </tr>\n",
       "    <tr>\n",
       "      <th>...</th>\n",
       "      <td>...</td>\n",
       "      <td>...</td>\n",
       "      <td>...</td>\n",
       "      <td>...</td>\n",
       "      <td>...</td>\n",
       "      <td>...</td>\n",
       "    </tr>\n",
       "    <tr>\n",
       "      <th>2502827</th>\n",
       "      <td>2022-05-13</td>\n",
       "      <td>Sweetwater</td>\n",
       "      <td>Wyoming</td>\n",
       "      <td>56037.0</td>\n",
       "      <td>11088</td>\n",
       "      <td>126.0</td>\n",
       "    </tr>\n",
       "    <tr>\n",
       "      <th>2502828</th>\n",
       "      <td>2022-05-13</td>\n",
       "      <td>Teton</td>\n",
       "      <td>Wyoming</td>\n",
       "      <td>56039.0</td>\n",
       "      <td>10074</td>\n",
       "      <td>16.0</td>\n",
       "    </tr>\n",
       "    <tr>\n",
       "      <th>2502829</th>\n",
       "      <td>2022-05-13</td>\n",
       "      <td>Uinta</td>\n",
       "      <td>Wyoming</td>\n",
       "      <td>56041.0</td>\n",
       "      <td>5643</td>\n",
       "      <td>39.0</td>\n",
       "    </tr>\n",
       "    <tr>\n",
       "      <th>2502830</th>\n",
       "      <td>2022-05-13</td>\n",
       "      <td>Washakie</td>\n",
       "      <td>Wyoming</td>\n",
       "      <td>56043.0</td>\n",
       "      <td>2358</td>\n",
       "      <td>44.0</td>\n",
       "    </tr>\n",
       "    <tr>\n",
       "      <th>2502831</th>\n",
       "      <td>2022-05-13</td>\n",
       "      <td>Weston</td>\n",
       "      <td>Wyoming</td>\n",
       "      <td>56045.0</td>\n",
       "      <td>1588</td>\n",
       "      <td>18.0</td>\n",
       "    </tr>\n",
       "  </tbody>\n",
       "</table>\n",
       "<p>2502832 rows × 6 columns</p>\n",
       "</div>"
      ],
      "text/plain": [
       "               Date      County       State     FIPS  Cases  Deaths\n",
       "0        2020-01-21   Snohomish  Washington  53061.0      1     0.0\n",
       "1        2020-01-22   Snohomish  Washington  53061.0      1     0.0\n",
       "2        2020-01-23   Snohomish  Washington  53061.0      1     0.0\n",
       "3        2020-01-24        Cook    Illinois  17031.0      1     0.0\n",
       "4        2020-01-24   Snohomish  Washington  53061.0      1     0.0\n",
       "...             ...         ...         ...      ...    ...     ...\n",
       "2502827  2022-05-13  Sweetwater     Wyoming  56037.0  11088   126.0\n",
       "2502828  2022-05-13       Teton     Wyoming  56039.0  10074    16.0\n",
       "2502829  2022-05-13       Uinta     Wyoming  56041.0   5643    39.0\n",
       "2502830  2022-05-13    Washakie     Wyoming  56043.0   2358    44.0\n",
       "2502831  2022-05-13      Weston     Wyoming  56045.0   1588    18.0\n",
       "\n",
       "[2502832 rows x 6 columns]"
      ]
     },
     "execution_count": 273,
     "metadata": {},
     "output_type": "execute_result"
    }
   ],
   "source": [
    "covid_data"
   ]
  },
  {
   "cell_type": "code",
   "execution_count": 274,
   "id": "3da62273-f848-4d39-8459-1408feaa1fe9",
   "metadata": {},
   "outputs": [
    {
     "data": {
      "text/html": [
       "<div>\n",
       "<style scoped>\n",
       "    .dataframe tbody tr th:only-of-type {\n",
       "        vertical-align: middle;\n",
       "    }\n",
       "\n",
       "    .dataframe tbody tr th {\n",
       "        vertical-align: top;\n",
       "    }\n",
       "\n",
       "    .dataframe thead th {\n",
       "        text-align: right;\n",
       "    }\n",
       "</style>\n",
       "<table border=\"1\" class=\"dataframe\">\n",
       "  <thead>\n",
       "    <tr style=\"text-align: right;\">\n",
       "      <th></th>\n",
       "      <th>Date</th>\n",
       "      <th>County</th>\n",
       "      <th>State</th>\n",
       "      <th>FIPS</th>\n",
       "      <th>Cases</th>\n",
       "      <th>Deaths</th>\n",
       "    </tr>\n",
       "  </thead>\n",
       "  <tbody>\n",
       "    <tr>\n",
       "      <th>0</th>\n",
       "      <td>2020-01-21</td>\n",
       "      <td>Snohomish</td>\n",
       "      <td>Washington</td>\n",
       "      <td>53061.0</td>\n",
       "      <td>1</td>\n",
       "      <td>0.0</td>\n",
       "    </tr>\n",
       "    <tr>\n",
       "      <th>1</th>\n",
       "      <td>2020-01-22</td>\n",
       "      <td>Snohomish</td>\n",
       "      <td>Washington</td>\n",
       "      <td>53061.0</td>\n",
       "      <td>1</td>\n",
       "      <td>0.0</td>\n",
       "    </tr>\n",
       "    <tr>\n",
       "      <th>2</th>\n",
       "      <td>2020-01-23</td>\n",
       "      <td>Snohomish</td>\n",
       "      <td>Washington</td>\n",
       "      <td>53061.0</td>\n",
       "      <td>1</td>\n",
       "      <td>0.0</td>\n",
       "    </tr>\n",
       "    <tr>\n",
       "      <th>3</th>\n",
       "      <td>2020-01-24</td>\n",
       "      <td>Cook</td>\n",
       "      <td>Illinois</td>\n",
       "      <td>17031.0</td>\n",
       "      <td>1</td>\n",
       "      <td>0.0</td>\n",
       "    </tr>\n",
       "    <tr>\n",
       "      <th>4</th>\n",
       "      <td>2020-01-24</td>\n",
       "      <td>Snohomish</td>\n",
       "      <td>Washington</td>\n",
       "      <td>53061.0</td>\n",
       "      <td>1</td>\n",
       "      <td>0.0</td>\n",
       "    </tr>\n",
       "  </tbody>\n",
       "</table>\n",
       "</div>"
      ],
      "text/plain": [
       "         Date     County       State     FIPS  Cases  Deaths\n",
       "0  2020-01-21  Snohomish  Washington  53061.0      1     0.0\n",
       "1  2020-01-22  Snohomish  Washington  53061.0      1     0.0\n",
       "2  2020-01-23  Snohomish  Washington  53061.0      1     0.0\n",
       "3  2020-01-24       Cook    Illinois  17031.0      1     0.0\n",
       "4  2020-01-24  Snohomish  Washington  53061.0      1     0.0"
      ]
     },
     "execution_count": 274,
     "metadata": {},
     "output_type": "execute_result"
    }
   ],
   "source": [
    "covid_data.head()  ## Gives top n rows; default = 5"
   ]
  },
  {
   "cell_type": "code",
   "execution_count": 275,
   "id": "4346fa71-1106-497c-b53f-ac52a676e9f2",
   "metadata": {},
   "outputs": [
    {
     "data": {
      "text/html": [
       "<div>\n",
       "<style scoped>\n",
       "    .dataframe tbody tr th:only-of-type {\n",
       "        vertical-align: middle;\n",
       "    }\n",
       "\n",
       "    .dataframe tbody tr th {\n",
       "        vertical-align: top;\n",
       "    }\n",
       "\n",
       "    .dataframe thead th {\n",
       "        text-align: right;\n",
       "    }\n",
       "</style>\n",
       "<table border=\"1\" class=\"dataframe\">\n",
       "  <thead>\n",
       "    <tr style=\"text-align: right;\">\n",
       "      <th></th>\n",
       "      <th>Date</th>\n",
       "      <th>County</th>\n",
       "      <th>State</th>\n",
       "      <th>FIPS</th>\n",
       "      <th>Cases</th>\n",
       "      <th>Deaths</th>\n",
       "    </tr>\n",
       "  </thead>\n",
       "  <tbody>\n",
       "    <tr>\n",
       "      <th>0</th>\n",
       "      <td>2020-01-21</td>\n",
       "      <td>Snohomish</td>\n",
       "      <td>Washington</td>\n",
       "      <td>53061.0</td>\n",
       "      <td>1</td>\n",
       "      <td>0.0</td>\n",
       "    </tr>\n",
       "    <tr>\n",
       "      <th>1</th>\n",
       "      <td>2020-01-22</td>\n",
       "      <td>Snohomish</td>\n",
       "      <td>Washington</td>\n",
       "      <td>53061.0</td>\n",
       "      <td>1</td>\n",
       "      <td>0.0</td>\n",
       "    </tr>\n",
       "  </tbody>\n",
       "</table>\n",
       "</div>"
      ],
      "text/plain": [
       "         Date     County       State     FIPS  Cases  Deaths\n",
       "0  2020-01-21  Snohomish  Washington  53061.0      1     0.0\n",
       "1  2020-01-22  Snohomish  Washington  53061.0      1     0.0"
      ]
     },
     "execution_count": 275,
     "metadata": {},
     "output_type": "execute_result"
    }
   ],
   "source": [
    "covid_data.head(2)"
   ]
  },
  {
   "cell_type": "code",
   "execution_count": 281,
   "id": "14cc3b99-0519-4b38-81ef-780f7a569329",
   "metadata": {},
   "outputs": [
    {
     "data": {
      "text/html": [
       "<div>\n",
       "<style scoped>\n",
       "    .dataframe tbody tr th:only-of-type {\n",
       "        vertical-align: middle;\n",
       "    }\n",
       "\n",
       "    .dataframe tbody tr th {\n",
       "        vertical-align: top;\n",
       "    }\n",
       "\n",
       "    .dataframe thead th {\n",
       "        text-align: right;\n",
       "    }\n",
       "</style>\n",
       "<table border=\"1\" class=\"dataframe\">\n",
       "  <thead>\n",
       "    <tr style=\"text-align: right;\">\n",
       "      <th></th>\n",
       "      <th>Date</th>\n",
       "      <th>County</th>\n",
       "      <th>State</th>\n",
       "      <th>FIPS</th>\n",
       "      <th>Cases</th>\n",
       "      <th>Deaths</th>\n",
       "    </tr>\n",
       "  </thead>\n",
       "  <tbody>\n",
       "    <tr>\n",
       "      <th>2502827</th>\n",
       "      <td>2022-05-13</td>\n",
       "      <td>Sweetwater</td>\n",
       "      <td>Wyoming</td>\n",
       "      <td>56037.0</td>\n",
       "      <td>11088</td>\n",
       "      <td>126.0</td>\n",
       "    </tr>\n",
       "    <tr>\n",
       "      <th>2502828</th>\n",
       "      <td>2022-05-13</td>\n",
       "      <td>Teton</td>\n",
       "      <td>Wyoming</td>\n",
       "      <td>56039.0</td>\n",
       "      <td>10074</td>\n",
       "      <td>16.0</td>\n",
       "    </tr>\n",
       "    <tr>\n",
       "      <th>2502829</th>\n",
       "      <td>2022-05-13</td>\n",
       "      <td>Uinta</td>\n",
       "      <td>Wyoming</td>\n",
       "      <td>56041.0</td>\n",
       "      <td>5643</td>\n",
       "      <td>39.0</td>\n",
       "    </tr>\n",
       "    <tr>\n",
       "      <th>2502830</th>\n",
       "      <td>2022-05-13</td>\n",
       "      <td>Washakie</td>\n",
       "      <td>Wyoming</td>\n",
       "      <td>56043.0</td>\n",
       "      <td>2358</td>\n",
       "      <td>44.0</td>\n",
       "    </tr>\n",
       "    <tr>\n",
       "      <th>2502831</th>\n",
       "      <td>2022-05-13</td>\n",
       "      <td>Weston</td>\n",
       "      <td>Wyoming</td>\n",
       "      <td>56045.0</td>\n",
       "      <td>1588</td>\n",
       "      <td>18.0</td>\n",
       "    </tr>\n",
       "  </tbody>\n",
       "</table>\n",
       "</div>"
      ],
      "text/plain": [
       "               Date      County    State     FIPS  Cases  Deaths\n",
       "2502827  2022-05-13  Sweetwater  Wyoming  56037.0  11088   126.0\n",
       "2502828  2022-05-13       Teton  Wyoming  56039.0  10074    16.0\n",
       "2502829  2022-05-13       Uinta  Wyoming  56041.0   5643    39.0\n",
       "2502830  2022-05-13    Washakie  Wyoming  56043.0   2358    44.0\n",
       "2502831  2022-05-13      Weston  Wyoming  56045.0   1588    18.0"
      ]
     },
     "execution_count": 281,
     "metadata": {},
     "output_type": "execute_result"
    }
   ],
   "source": [
    "covid_data.tail()  ## Gives bottom n rows; default = 5"
   ]
  },
  {
   "cell_type": "code",
   "execution_count": 284,
   "id": "38b29299-d1ea-47c7-aa15-7d17bd89783f",
   "metadata": {},
   "outputs": [
    {
     "data": {
      "text/html": [
       "<div>\n",
       "<style scoped>\n",
       "    .dataframe tbody tr th:only-of-type {\n",
       "        vertical-align: middle;\n",
       "    }\n",
       "\n",
       "    .dataframe tbody tr th {\n",
       "        vertical-align: top;\n",
       "    }\n",
       "\n",
       "    .dataframe thead th {\n",
       "        text-align: right;\n",
       "    }\n",
       "</style>\n",
       "<table border=\"1\" class=\"dataframe\">\n",
       "  <thead>\n",
       "    <tr style=\"text-align: right;\">\n",
       "      <th></th>\n",
       "      <th>Date</th>\n",
       "      <th>County</th>\n",
       "      <th>State</th>\n",
       "      <th>FIPS</th>\n",
       "      <th>Cases</th>\n",
       "      <th>Deaths</th>\n",
       "    </tr>\n",
       "  </thead>\n",
       "  <tbody>\n",
       "    <tr>\n",
       "      <th>2502829</th>\n",
       "      <td>2022-05-13</td>\n",
       "      <td>Uinta</td>\n",
       "      <td>Wyoming</td>\n",
       "      <td>56041.0</td>\n",
       "      <td>5643</td>\n",
       "      <td>39.0</td>\n",
       "    </tr>\n",
       "    <tr>\n",
       "      <th>2502830</th>\n",
       "      <td>2022-05-13</td>\n",
       "      <td>Washakie</td>\n",
       "      <td>Wyoming</td>\n",
       "      <td>56043.0</td>\n",
       "      <td>2358</td>\n",
       "      <td>44.0</td>\n",
       "    </tr>\n",
       "    <tr>\n",
       "      <th>2502831</th>\n",
       "      <td>2022-05-13</td>\n",
       "      <td>Weston</td>\n",
       "      <td>Wyoming</td>\n",
       "      <td>56045.0</td>\n",
       "      <td>1588</td>\n",
       "      <td>18.0</td>\n",
       "    </tr>\n",
       "  </tbody>\n",
       "</table>\n",
       "</div>"
      ],
      "text/plain": [
       "               Date    County    State     FIPS  Cases  Deaths\n",
       "2502829  2022-05-13     Uinta  Wyoming  56041.0   5643    39.0\n",
       "2502830  2022-05-13  Washakie  Wyoming  56043.0   2358    44.0\n",
       "2502831  2022-05-13    Weston  Wyoming  56045.0   1588    18.0"
      ]
     },
     "execution_count": 284,
     "metadata": {},
     "output_type": "execute_result"
    }
   ],
   "source": [
    "covid_data.tail(3)"
   ]
  },
  {
   "cell_type": "code",
   "execution_count": 286,
   "id": "d3def46c-8f58-4f68-b9cc-2819498b0f40",
   "metadata": {},
   "outputs": [],
   "source": [
    "covid_data = covid_data.drop('FIPS',axis=1) ## Drops a row/column"
   ]
  },
  {
   "cell_type": "code",
   "execution_count": 288,
   "id": "e0443177-2a33-48fc-841a-c8fbeb928e23",
   "metadata": {},
   "outputs": [
    {
     "data": {
      "text/html": [
       "<div>\n",
       "<style scoped>\n",
       "    .dataframe tbody tr th:only-of-type {\n",
       "        vertical-align: middle;\n",
       "    }\n",
       "\n",
       "    .dataframe tbody tr th {\n",
       "        vertical-align: top;\n",
       "    }\n",
       "\n",
       "    .dataframe thead th {\n",
       "        text-align: right;\n",
       "    }\n",
       "</style>\n",
       "<table border=\"1\" class=\"dataframe\">\n",
       "  <thead>\n",
       "    <tr style=\"text-align: right;\">\n",
       "      <th></th>\n",
       "      <th>Date</th>\n",
       "      <th>County</th>\n",
       "      <th>State</th>\n",
       "      <th>Cases</th>\n",
       "      <th>Deaths</th>\n",
       "    </tr>\n",
       "  </thead>\n",
       "  <tbody>\n",
       "    <tr>\n",
       "      <th>0</th>\n",
       "      <td>2020-01-21</td>\n",
       "      <td>Snohomish</td>\n",
       "      <td>Washington</td>\n",
       "      <td>1</td>\n",
       "      <td>0.0</td>\n",
       "    </tr>\n",
       "    <tr>\n",
       "      <th>1</th>\n",
       "      <td>2020-01-22</td>\n",
       "      <td>Snohomish</td>\n",
       "      <td>Washington</td>\n",
       "      <td>1</td>\n",
       "      <td>0.0</td>\n",
       "    </tr>\n",
       "    <tr>\n",
       "      <th>2</th>\n",
       "      <td>2020-01-23</td>\n",
       "      <td>Snohomish</td>\n",
       "      <td>Washington</td>\n",
       "      <td>1</td>\n",
       "      <td>0.0</td>\n",
       "    </tr>\n",
       "  </tbody>\n",
       "</table>\n",
       "</div>"
      ],
      "text/plain": [
       "         Date     County       State  Cases  Deaths\n",
       "0  2020-01-21  Snohomish  Washington      1     0.0\n",
       "1  2020-01-22  Snohomish  Washington      1     0.0\n",
       "2  2020-01-23  Snohomish  Washington      1     0.0"
      ]
     },
     "execution_count": 288,
     "metadata": {},
     "output_type": "execute_result"
    }
   ],
   "source": [
    "covid_data.head(3)"
   ]
  },
  {
   "cell_type": "code",
   "execution_count": 290,
   "id": "b6948da4-a0a5-44ec-9027-763c83eae1c4",
   "metadata": {},
   "outputs": [
    {
     "name": "stdout",
     "output_type": "stream",
     "text": [
      "<class 'pandas.core.frame.DataFrame'>\n",
      "RangeIndex: 2502832 entries, 0 to 2502831\n",
      "Data columns (total 5 columns):\n",
      " #   Column  Dtype  \n",
      "---  ------  -----  \n",
      " 0   Date    object \n",
      " 1   County  object \n",
      " 2   State   object \n",
      " 3   Cases   int64  \n",
      " 4   Deaths  float64\n",
      "dtypes: float64(1), int64(1), object(3)\n",
      "memory usage: 95.5+ MB\n"
     ]
    }
   ],
   "source": [
    "## Info\n",
    "covid_data.info()"
   ]
  },
  {
   "cell_type": "markdown",
   "id": "8d52eba3-2cd9-4fa7-bcbd-b4e851fa6eb3",
   "metadata": {},
   "source": [
    "##### Slicing Rows and Columns"
   ]
  },
  {
   "cell_type": "code",
   "execution_count": 293,
   "id": "2e869dbe-4258-4b8c-a27f-daee8e2e1400",
   "metadata": {},
   "outputs": [
    {
     "data": {
      "text/html": [
       "<div>\n",
       "<style scoped>\n",
       "    .dataframe tbody tr th:only-of-type {\n",
       "        vertical-align: middle;\n",
       "    }\n",
       "\n",
       "    .dataframe tbody tr th {\n",
       "        vertical-align: top;\n",
       "    }\n",
       "\n",
       "    .dataframe thead th {\n",
       "        text-align: right;\n",
       "    }\n",
       "</style>\n",
       "<table border=\"1\" class=\"dataframe\">\n",
       "  <thead>\n",
       "    <tr style=\"text-align: right;\">\n",
       "      <th></th>\n",
       "      <th>County</th>\n",
       "      <th>Cases</th>\n",
       "      <th>Deaths</th>\n",
       "    </tr>\n",
       "  </thead>\n",
       "  <tbody>\n",
       "    <tr>\n",
       "      <th>0</th>\n",
       "      <td>Snohomish</td>\n",
       "      <td>1</td>\n",
       "      <td>0.0</td>\n",
       "    </tr>\n",
       "    <tr>\n",
       "      <th>1</th>\n",
       "      <td>Snohomish</td>\n",
       "      <td>1</td>\n",
       "      <td>0.0</td>\n",
       "    </tr>\n",
       "    <tr>\n",
       "      <th>2</th>\n",
       "      <td>Snohomish</td>\n",
       "      <td>1</td>\n",
       "      <td>0.0</td>\n",
       "    </tr>\n",
       "    <tr>\n",
       "      <th>3</th>\n",
       "      <td>Cook</td>\n",
       "      <td>1</td>\n",
       "      <td>0.0</td>\n",
       "    </tr>\n",
       "    <tr>\n",
       "      <th>4</th>\n",
       "      <td>Snohomish</td>\n",
       "      <td>1</td>\n",
       "      <td>0.0</td>\n",
       "    </tr>\n",
       "  </tbody>\n",
       "</table>\n",
       "</div>"
      ],
      "text/plain": [
       "      County  Cases  Deaths\n",
       "0  Snohomish      1     0.0\n",
       "1  Snohomish      1     0.0\n",
       "2  Snohomish      1     0.0\n",
       "3       Cook      1     0.0\n",
       "4  Snohomish      1     0.0"
      ]
     },
     "execution_count": 293,
     "metadata": {},
     "output_type": "execute_result"
    }
   ],
   "source": [
    "covid_data[['County','Cases','Deaths']].head()"
   ]
  },
  {
   "cell_type": "code",
   "execution_count": 295,
   "id": "d9e4318b-8754-49d1-b043-701147730eb0",
   "metadata": {},
   "outputs": [
    {
     "data": {
      "text/plain": [
       "0           Snohomish\n",
       "1           Snohomish\n",
       "2           Snohomish\n",
       "3                Cook\n",
       "4           Snohomish\n",
       "              ...    \n",
       "2502827    Sweetwater\n",
       "2502828         Teton\n",
       "2502829         Uinta\n",
       "2502830      Washakie\n",
       "2502831        Weston\n",
       "Name: County, Length: 2502832, dtype: object"
      ]
     },
     "execution_count": 295,
     "metadata": {},
     "output_type": "execute_result"
    }
   ],
   "source": [
    "covid_data.County"
   ]
  },
  {
   "cell_type": "code",
   "execution_count": 297,
   "id": "eb6a4401-56ec-4f92-99f3-1d911f74b790",
   "metadata": {},
   "outputs": [],
   "source": [
    "first_10_rows = covid_data.iloc[0:5]   ## Filtering the rows"
   ]
  },
  {
   "cell_type": "code",
   "execution_count": 299,
   "id": "98ae4a6f-07a6-4792-8472-71ea436ba8cf",
   "metadata": {},
   "outputs": [
    {
     "data": {
      "text/html": [
       "<div>\n",
       "<style scoped>\n",
       "    .dataframe tbody tr th:only-of-type {\n",
       "        vertical-align: middle;\n",
       "    }\n",
       "\n",
       "    .dataframe tbody tr th {\n",
       "        vertical-align: top;\n",
       "    }\n",
       "\n",
       "    .dataframe thead th {\n",
       "        text-align: right;\n",
       "    }\n",
       "</style>\n",
       "<table border=\"1\" class=\"dataframe\">\n",
       "  <thead>\n",
       "    <tr style=\"text-align: right;\">\n",
       "      <th></th>\n",
       "      <th>Date</th>\n",
       "      <th>County</th>\n",
       "      <th>State</th>\n",
       "      <th>Cases</th>\n",
       "      <th>Deaths</th>\n",
       "    </tr>\n",
       "  </thead>\n",
       "  <tbody>\n",
       "    <tr>\n",
       "      <th>0</th>\n",
       "      <td>2020-01-21</td>\n",
       "      <td>Snohomish</td>\n",
       "      <td>Washington</td>\n",
       "      <td>1</td>\n",
       "      <td>0.0</td>\n",
       "    </tr>\n",
       "    <tr>\n",
       "      <th>1</th>\n",
       "      <td>2020-01-22</td>\n",
       "      <td>Snohomish</td>\n",
       "      <td>Washington</td>\n",
       "      <td>1</td>\n",
       "      <td>0.0</td>\n",
       "    </tr>\n",
       "    <tr>\n",
       "      <th>2</th>\n",
       "      <td>2020-01-23</td>\n",
       "      <td>Snohomish</td>\n",
       "      <td>Washington</td>\n",
       "      <td>1</td>\n",
       "      <td>0.0</td>\n",
       "    </tr>\n",
       "    <tr>\n",
       "      <th>3</th>\n",
       "      <td>2020-01-24</td>\n",
       "      <td>Cook</td>\n",
       "      <td>Illinois</td>\n",
       "      <td>1</td>\n",
       "      <td>0.0</td>\n",
       "    </tr>\n",
       "    <tr>\n",
       "      <th>4</th>\n",
       "      <td>2020-01-24</td>\n",
       "      <td>Snohomish</td>\n",
       "      <td>Washington</td>\n",
       "      <td>1</td>\n",
       "      <td>0.0</td>\n",
       "    </tr>\n",
       "  </tbody>\n",
       "</table>\n",
       "</div>"
      ],
      "text/plain": [
       "         Date     County       State  Cases  Deaths\n",
       "0  2020-01-21  Snohomish  Washington      1     0.0\n",
       "1  2020-01-22  Snohomish  Washington      1     0.0\n",
       "2  2020-01-23  Snohomish  Washington      1     0.0\n",
       "3  2020-01-24       Cook    Illinois      1     0.0\n",
       "4  2020-01-24  Snohomish  Washington      1     0.0"
      ]
     },
     "execution_count": 299,
     "metadata": {},
     "output_type": "execute_result"
    }
   ],
   "source": [
    "first_10_rows"
   ]
  },
  {
   "cell_type": "code",
   "execution_count": 301,
   "id": "d6970020-8e3c-45f6-a96e-47ca1f3cfb5a",
   "metadata": {},
   "outputs": [
    {
     "data": {
      "text/html": [
       "<div>\n",
       "<style scoped>\n",
       "    .dataframe tbody tr th:only-of-type {\n",
       "        vertical-align: middle;\n",
       "    }\n",
       "\n",
       "    .dataframe tbody tr th {\n",
       "        vertical-align: top;\n",
       "    }\n",
       "\n",
       "    .dataframe thead th {\n",
       "        text-align: right;\n",
       "    }\n",
       "</style>\n",
       "<table border=\"1\" class=\"dataframe\">\n",
       "  <thead>\n",
       "    <tr style=\"text-align: right;\">\n",
       "      <th></th>\n",
       "      <th>Date</th>\n",
       "      <th>County</th>\n",
       "      <th>State</th>\n",
       "      <th>Cases</th>\n",
       "      <th>Deaths</th>\n",
       "    </tr>\n",
       "  </thead>\n",
       "  <tbody>\n",
       "    <tr>\n",
       "      <th>16</th>\n",
       "      <td>2020-01-27</td>\n",
       "      <td>Cook</td>\n",
       "      <td>Illinois</td>\n",
       "      <td>1</td>\n",
       "      <td>0.0</td>\n",
       "    </tr>\n",
       "    <tr>\n",
       "      <th>17</th>\n",
       "      <td>2020-01-27</td>\n",
       "      <td>Snohomish</td>\n",
       "      <td>Washington</td>\n",
       "      <td>1</td>\n",
       "      <td>0.0</td>\n",
       "    </tr>\n",
       "    <tr>\n",
       "      <th>18</th>\n",
       "      <td>2020-01-28</td>\n",
       "      <td>Maricopa</td>\n",
       "      <td>Arizona</td>\n",
       "      <td>1</td>\n",
       "      <td>0.0</td>\n",
       "    </tr>\n",
       "    <tr>\n",
       "      <th>19</th>\n",
       "      <td>2020-01-28</td>\n",
       "      <td>Los Angeles</td>\n",
       "      <td>California</td>\n",
       "      <td>1</td>\n",
       "      <td>0.0</td>\n",
       "    </tr>\n",
       "    <tr>\n",
       "      <th>20</th>\n",
       "      <td>2020-01-28</td>\n",
       "      <td>Orange</td>\n",
       "      <td>California</td>\n",
       "      <td>1</td>\n",
       "      <td>0.0</td>\n",
       "    </tr>\n",
       "    <tr>\n",
       "      <th>...</th>\n",
       "      <td>...</td>\n",
       "      <td>...</td>\n",
       "      <td>...</td>\n",
       "      <td>...</td>\n",
       "      <td>...</td>\n",
       "    </tr>\n",
       "    <tr>\n",
       "      <th>196</th>\n",
       "      <td>2020-02-17</td>\n",
       "      <td>Cook</td>\n",
       "      <td>Illinois</td>\n",
       "      <td>2</td>\n",
       "      <td>0.0</td>\n",
       "    </tr>\n",
       "    <tr>\n",
       "      <th>197</th>\n",
       "      <td>2020-02-17</td>\n",
       "      <td>Suffolk</td>\n",
       "      <td>Massachusetts</td>\n",
       "      <td>1</td>\n",
       "      <td>0.0</td>\n",
       "    </tr>\n",
       "    <tr>\n",
       "      <th>198</th>\n",
       "      <td>2020-02-17</td>\n",
       "      <td>Douglas</td>\n",
       "      <td>Nebraska</td>\n",
       "      <td>10</td>\n",
       "      <td>0.0</td>\n",
       "    </tr>\n",
       "    <tr>\n",
       "      <th>199</th>\n",
       "      <td>2020-02-17</td>\n",
       "      <td>Bexar</td>\n",
       "      <td>Texas</td>\n",
       "      <td>2</td>\n",
       "      <td>0.0</td>\n",
       "    </tr>\n",
       "    <tr>\n",
       "      <th>200</th>\n",
       "      <td>2020-02-17</td>\n",
       "      <td>Snohomish</td>\n",
       "      <td>Washington</td>\n",
       "      <td>1</td>\n",
       "      <td>0.0</td>\n",
       "    </tr>\n",
       "  </tbody>\n",
       "</table>\n",
       "<p>185 rows × 5 columns</p>\n",
       "</div>"
      ],
      "text/plain": [
       "           Date       County          State  Cases  Deaths\n",
       "16   2020-01-27         Cook       Illinois      1     0.0\n",
       "17   2020-01-27    Snohomish     Washington      1     0.0\n",
       "18   2020-01-28     Maricopa        Arizona      1     0.0\n",
       "19   2020-01-28  Los Angeles     California      1     0.0\n",
       "20   2020-01-28       Orange     California      1     0.0\n",
       "..          ...          ...            ...    ...     ...\n",
       "196  2020-02-17         Cook       Illinois      2     0.0\n",
       "197  2020-02-17      Suffolk  Massachusetts      1     0.0\n",
       "198  2020-02-17      Douglas       Nebraska     10     0.0\n",
       "199  2020-02-17        Bexar          Texas      2     0.0\n",
       "200  2020-02-17    Snohomish     Washington      1     0.0\n",
       "\n",
       "[185 rows x 5 columns]"
      ]
     },
     "execution_count": 301,
     "metadata": {},
     "output_type": "execute_result"
    }
   ],
   "source": [
    "covid_data.loc[16:200]"
   ]
  },
  {
   "cell_type": "markdown",
   "id": "3cfb4b7e-6ec4-49dd-ab36-834fc78843a8",
   "metadata": {},
   "source": [
    "#### Conditional Filtering"
   ]
  },
  {
   "cell_type": "code",
   "execution_count": 330,
   "id": "09f9b93d-e617-43ae-a595-a35bbca47c01",
   "metadata": {},
   "outputs": [],
   "source": [
    "Texas_covid_data = covid_data[covid_data['State'] == 'Texas']"
   ]
  },
  {
   "cell_type": "code",
   "execution_count": 306,
   "id": "6de4dcf6-003c-451c-a99e-8c8c2fabe11f",
   "metadata": {},
   "outputs": [],
   "source": [
    "Vital_Days = covid_data[covid_data['Deaths'] > 100]"
   ]
  },
  {
   "cell_type": "code",
   "execution_count": 308,
   "id": "f637ad8e-eefe-4069-b56d-63ebf8e6b6ae",
   "metadata": {},
   "outputs": [
    {
     "data": {
      "text/html": [
       "<div>\n",
       "<style scoped>\n",
       "    .dataframe tbody tr th:only-of-type {\n",
       "        vertical-align: middle;\n",
       "    }\n",
       "\n",
       "    .dataframe tbody tr th {\n",
       "        vertical-align: top;\n",
       "    }\n",
       "\n",
       "    .dataframe thead th {\n",
       "        text-align: right;\n",
       "    }\n",
       "</style>\n",
       "<table border=\"1\" class=\"dataframe\">\n",
       "  <thead>\n",
       "    <tr style=\"text-align: right;\">\n",
       "      <th></th>\n",
       "      <th>Date</th>\n",
       "      <th>County</th>\n",
       "      <th>State</th>\n",
       "      <th>Cases</th>\n",
       "      <th>Deaths</th>\n",
       "    </tr>\n",
       "  </thead>\n",
       "  <tbody>\n",
       "    <tr>\n",
       "      <th>7817</th>\n",
       "      <td>2020-03-22</td>\n",
       "      <td>New York City</td>\n",
       "      <td>New York</td>\n",
       "      <td>9065</td>\n",
       "      <td>119.0</td>\n",
       "    </tr>\n",
       "    <tr>\n",
       "      <th>9015</th>\n",
       "      <td>2020-03-23</td>\n",
       "      <td>New York City</td>\n",
       "      <td>New York</td>\n",
       "      <td>12329</td>\n",
       "      <td>155.0</td>\n",
       "    </tr>\n",
       "  </tbody>\n",
       "</table>\n",
       "</div>"
      ],
      "text/plain": [
       "            Date         County     State  Cases  Deaths\n",
       "7817  2020-03-22  New York City  New York   9065   119.0\n",
       "9015  2020-03-23  New York City  New York  12329   155.0"
      ]
     },
     "execution_count": 308,
     "metadata": {},
     "output_type": "execute_result"
    }
   ],
   "source": [
    "Vital_Days.head(2)"
   ]
  },
  {
   "cell_type": "code",
   "execution_count": 310,
   "id": "2fbc51f8-394a-4a37-bdca-09c2dbee8f03",
   "metadata": {},
   "outputs": [],
   "source": [
    "Above_Avg_Death_Days = covid_data[covid_data['Deaths'] > covid_data['Deaths'].mean()]"
   ]
  },
  {
   "cell_type": "code",
   "execution_count": 312,
   "id": "ce35189d-cf0d-440a-86fa-36216f288d66",
   "metadata": {},
   "outputs": [
    {
     "data": {
      "text/html": [
       "<div>\n",
       "<style scoped>\n",
       "    .dataframe tbody tr th:only-of-type {\n",
       "        vertical-align: middle;\n",
       "    }\n",
       "\n",
       "    .dataframe tbody tr th {\n",
       "        vertical-align: top;\n",
       "    }\n",
       "\n",
       "    .dataframe thead th {\n",
       "        text-align: right;\n",
       "    }\n",
       "</style>\n",
       "<table border=\"1\" class=\"dataframe\">\n",
       "  <thead>\n",
       "    <tr style=\"text-align: right;\">\n",
       "      <th></th>\n",
       "      <th>Date</th>\n",
       "      <th>County</th>\n",
       "      <th>State</th>\n",
       "      <th>Cases</th>\n",
       "      <th>Deaths</th>\n",
       "    </tr>\n",
       "  </thead>\n",
       "  <tbody>\n",
       "    <tr>\n",
       "      <th>10322</th>\n",
       "      <td>2020-03-24</td>\n",
       "      <td>New York City</td>\n",
       "      <td>New York</td>\n",
       "      <td>14943</td>\n",
       "      <td>230.0</td>\n",
       "    </tr>\n",
       "    <tr>\n",
       "      <th>11758</th>\n",
       "      <td>2020-03-25</td>\n",
       "      <td>New York City</td>\n",
       "      <td>New York</td>\n",
       "      <td>20061</td>\n",
       "      <td>330.0</td>\n",
       "    </tr>\n",
       "    <tr>\n",
       "      <th>13361</th>\n",
       "      <td>2020-03-26</td>\n",
       "      <td>New York City</td>\n",
       "      <td>New York</td>\n",
       "      <td>23182</td>\n",
       "      <td>435.0</td>\n",
       "    </tr>\n",
       "  </tbody>\n",
       "</table>\n",
       "</div>"
      ],
      "text/plain": [
       "             Date         County     State  Cases  Deaths\n",
       "10322  2020-03-24  New York City  New York  14943   230.0\n",
       "11758  2020-03-25  New York City  New York  20061   330.0\n",
       "13361  2020-03-26  New York City  New York  23182   435.0"
      ]
     },
     "execution_count": 312,
     "metadata": {},
     "output_type": "execute_result"
    }
   ],
   "source": [
    "Above_Avg_Death_Days.head(3)"
   ]
  },
  {
   "cell_type": "code",
   "execution_count": 314,
   "id": "1f41ff54-2db9-45a4-bb0d-d1d3734f7a95",
   "metadata": {},
   "outputs": [
    {
     "data": {
      "text/html": [
       "<div>\n",
       "<style scoped>\n",
       "    .dataframe tbody tr th:only-of-type {\n",
       "        vertical-align: middle;\n",
       "    }\n",
       "\n",
       "    .dataframe tbody tr th {\n",
       "        vertical-align: top;\n",
       "    }\n",
       "\n",
       "    .dataframe thead th {\n",
       "        text-align: right;\n",
       "    }\n",
       "</style>\n",
       "<table border=\"1\" class=\"dataframe\">\n",
       "  <thead>\n",
       "    <tr style=\"text-align: right;\">\n",
       "      <th></th>\n",
       "      <th>Date</th>\n",
       "      <th>County</th>\n",
       "      <th>State</th>\n",
       "      <th>Cases</th>\n",
       "      <th>Deaths</th>\n",
       "    </tr>\n",
       "  </thead>\n",
       "  <tbody>\n",
       "    <tr>\n",
       "      <th>2499779</th>\n",
       "      <td>2022-05-13</td>\n",
       "      <td>Los Angeles</td>\n",
       "      <td>California</td>\n",
       "      <td>2908425</td>\n",
       "      <td>32022.0</td>\n",
       "    </tr>\n",
       "    <tr>\n",
       "      <th>2496521</th>\n",
       "      <td>2022-05-12</td>\n",
       "      <td>Los Angeles</td>\n",
       "      <td>California</td>\n",
       "      <td>2904483</td>\n",
       "      <td>32016.0</td>\n",
       "    </tr>\n",
       "    <tr>\n",
       "      <th>2493263</th>\n",
       "      <td>2022-05-11</td>\n",
       "      <td>Los Angeles</td>\n",
       "      <td>California</td>\n",
       "      <td>2901153</td>\n",
       "      <td>32007.0</td>\n",
       "    </tr>\n",
       "    <tr>\n",
       "      <th>2490005</th>\n",
       "      <td>2022-05-10</td>\n",
       "      <td>Los Angeles</td>\n",
       "      <td>California</td>\n",
       "      <td>2898217</td>\n",
       "      <td>32000.0</td>\n",
       "    </tr>\n",
       "    <tr>\n",
       "      <th>2486748</th>\n",
       "      <td>2022-05-09</td>\n",
       "      <td>Los Angeles</td>\n",
       "      <td>California</td>\n",
       "      <td>2896104</td>\n",
       "      <td>31996.0</td>\n",
       "    </tr>\n",
       "    <tr>\n",
       "      <th>2480232</th>\n",
       "      <td>2022-05-07</td>\n",
       "      <td>Los Angeles</td>\n",
       "      <td>California</td>\n",
       "      <td>2889112</td>\n",
       "      <td>31991.0</td>\n",
       "    </tr>\n",
       "    <tr>\n",
       "      <th>2483490</th>\n",
       "      <td>2022-05-08</td>\n",
       "      <td>Los Angeles</td>\n",
       "      <td>California</td>\n",
       "      <td>2889112</td>\n",
       "      <td>31991.0</td>\n",
       "    </tr>\n",
       "    <tr>\n",
       "      <th>2476974</th>\n",
       "      <td>2022-05-06</td>\n",
       "      <td>Los Angeles</td>\n",
       "      <td>California</td>\n",
       "      <td>2889112</td>\n",
       "      <td>31991.0</td>\n",
       "    </tr>\n",
       "    <tr>\n",
       "      <th>2473716</th>\n",
       "      <td>2022-05-05</td>\n",
       "      <td>Los Angeles</td>\n",
       "      <td>California</td>\n",
       "      <td>2885879</td>\n",
       "      <td>31986.0</td>\n",
       "    </tr>\n",
       "    <tr>\n",
       "      <th>2470459</th>\n",
       "      <td>2022-05-04</td>\n",
       "      <td>Los Angeles</td>\n",
       "      <td>California</td>\n",
       "      <td>2882983</td>\n",
       "      <td>31982.0</td>\n",
       "    </tr>\n",
       "  </tbody>\n",
       "</table>\n",
       "</div>"
      ],
      "text/plain": [
       "               Date       County       State    Cases   Deaths\n",
       "2499779  2022-05-13  Los Angeles  California  2908425  32022.0\n",
       "2496521  2022-05-12  Los Angeles  California  2904483  32016.0\n",
       "2493263  2022-05-11  Los Angeles  California  2901153  32007.0\n",
       "2490005  2022-05-10  Los Angeles  California  2898217  32000.0\n",
       "2486748  2022-05-09  Los Angeles  California  2896104  31996.0\n",
       "2480232  2022-05-07  Los Angeles  California  2889112  31991.0\n",
       "2483490  2022-05-08  Los Angeles  California  2889112  31991.0\n",
       "2476974  2022-05-06  Los Angeles  California  2889112  31991.0\n",
       "2473716  2022-05-05  Los Angeles  California  2885879  31986.0\n",
       "2470459  2022-05-04  Los Angeles  California  2882983  31982.0"
      ]
     },
     "execution_count": 314,
     "metadata": {},
     "output_type": "execute_result"
    }
   ],
   "source": [
    "covid_data.sort_values(by = 'Cases',ascending = False).head(10)  ## Order the Data by a column"
   ]
  },
  {
   "cell_type": "code",
   "execution_count": 315,
   "id": "457b7be1-d3a5-47e2-b134-1107d318781f",
   "metadata": {
    "scrolled": true
   },
   "outputs": [
    {
     "data": {
      "text/plain": [
       "State                   \n",
       "Texas                       193519\n",
       "Georgia                     124889\n",
       "Virginia                    103128\n",
       "Kentucky                     92572\n",
       "Missouri                     89600\n",
       "Illinois                     79502\n",
       "Kansas                       79294\n",
       "North Carolina               77809\n",
       "Iowa                         77070\n",
       "Tennessee                    74719\n",
       "Indiana                      71921\n",
       "Nebraska                     69255\n",
       "Ohio                         69101\n",
       "Minnesota                    67883\n",
       "Michigan                     65202\n",
       "Mississippi                  64147\n",
       "Oklahoma                     59923\n",
       "Arkansas                     59032\n",
       "Puerto Rico                  58397\n",
       "Wisconsin                    55993\n",
       "Florida                      53362\n",
       "Pennsylvania                 52441\n",
       "Alabama                      52312\n",
       "Louisiana                    50902\n",
       "South Dakota                 49552\n",
       "Colorado                     49527\n",
       "California                   45693\n",
       "New York                     45692\n",
       "West Virginia                42238\n",
       "Montana                      40656\n",
       "North Dakota                 40499\n",
       "South Carolina               36091\n",
       "Idaho                        33184\n",
       "Washington                   30893\n",
       "Oregon                       27784\n",
       "New Mexico                   25445\n",
       "Utah                         22919\n",
       "Alaska                       20568\n",
       "Maryland                     19645\n",
       "Wyoming                      17815\n",
       "New Jersey                   17417\n",
       "Maine                        13097\n",
       "Nevada                       12867\n",
       "Arizona                      11934\n",
       "Massachusetts                11914\n",
       "Vermont                      11758\n",
       "New Hampshire                 8612\n",
       "Connecticut                   7091\n",
       "Rhode Island                  4704\n",
       "Hawaii                        3982\n",
       "Delaware                      3131\n",
       "Virgin Islands                2492\n",
       "Northern Mariana Islands      1832\n",
       "District of Columbia           798\n",
       "Guam                           790\n",
       "American Samoa                 239\n",
       "Name: count, dtype: int64"
      ]
     },
     "execution_count": 315,
     "metadata": {},
     "output_type": "execute_result"
    }
   ],
   "source": [
    "covid_data[['State']].value_counts()"
   ]
  },
  {
   "cell_type": "code",
   "execution_count": 324,
   "id": "c8cc5a83-e53b-434f-a8f6-cb6ce6fc9d02",
   "metadata": {},
   "outputs": [],
   "source": [
    "covid_summary = round(covid_data.describe().T,0)"
   ]
  },
  {
   "cell_type": "code",
   "execution_count": 325,
   "id": "887b00eb-b450-4146-8179-4854b8f41067",
   "metadata": {},
   "outputs": [
    {
     "data": {
      "text/html": [
       "<div>\n",
       "<style scoped>\n",
       "    .dataframe tbody tr th:only-of-type {\n",
       "        vertical-align: middle;\n",
       "    }\n",
       "\n",
       "    .dataframe tbody tr th {\n",
       "        vertical-align: top;\n",
       "    }\n",
       "\n",
       "    .dataframe thead th {\n",
       "        text-align: right;\n",
       "    }\n",
       "</style>\n",
       "<table border=\"1\" class=\"dataframe\">\n",
       "  <thead>\n",
       "    <tr style=\"text-align: right;\">\n",
       "      <th></th>\n",
       "      <th>count</th>\n",
       "      <th>mean</th>\n",
       "      <th>std</th>\n",
       "      <th>min</th>\n",
       "      <th>25%</th>\n",
       "      <th>50%</th>\n",
       "      <th>75%</th>\n",
       "      <th>max</th>\n",
       "    </tr>\n",
       "  </thead>\n",
       "  <tbody>\n",
       "    <tr>\n",
       "      <th>Cases</th>\n",
       "      <td>2502832.0</td>\n",
       "      <td>10034.0</td>\n",
       "      <td>47525.0</td>\n",
       "      <td>0.0</td>\n",
       "      <td>382.0</td>\n",
       "      <td>1773.0</td>\n",
       "      <td>5884.0</td>\n",
       "      <td>2908425.0</td>\n",
       "    </tr>\n",
       "    <tr>\n",
       "      <th>Deaths</th>\n",
       "      <td>2445227.0</td>\n",
       "      <td>162.0</td>\n",
       "      <td>820.0</td>\n",
       "      <td>0.0</td>\n",
       "      <td>6.0</td>\n",
       "      <td>33.0</td>\n",
       "      <td>101.0</td>\n",
       "      <td>40267.0</td>\n",
       "    </tr>\n",
       "  </tbody>\n",
       "</table>\n",
       "</div>"
      ],
      "text/plain": [
       "            count     mean      std  min    25%     50%     75%        max\n",
       "Cases   2502832.0  10034.0  47525.0  0.0  382.0  1773.0  5884.0  2908425.0\n",
       "Deaths  2445227.0    162.0    820.0  0.0    6.0    33.0   101.0    40267.0"
      ]
     },
     "execution_count": 325,
     "metadata": {},
     "output_type": "execute_result"
    }
   ],
   "source": [
    "covid_summary"
   ]
  },
  {
   "cell_type": "code",
   "execution_count": 322,
   "id": "d7bcd3eb-dffb-47be-a823-57e431833666",
   "metadata": {},
   "outputs": [],
   "source": [
    "# Shape\n",
    "# Filtering using Multiple Conditions\n",
    "# Adding a column\n",
    "# to_datetime\n",
    "# Merging/Appending Two or more Dataframes\n",
    "# Grouping the Data (Equivalent to Pivoting in Excel)\n",
    "# Pivoting in Python\n",
    "# Duplicates\n",
    "# EDA\n",
    "# Clustering\n",
    "# Treating Null Values and Outliers\n",
    "# Ml Model Overview"
   ]
  },
  {
   "cell_type": "markdown",
   "id": "849676d1-e612-40a0-9013-f5bb33b45a5a",
   "metadata": {},
   "source": [
    "###### Shape"
   ]
  },
  {
   "cell_type": "code",
   "execution_count": 342,
   "id": "424cc832-aa98-43b1-a117-a1b19fda299e",
   "metadata": {},
   "outputs": [
    {
     "data": {
      "text/plain": [
       "(2502832, 5)"
      ]
     },
     "execution_count": 342,
     "metadata": {},
     "output_type": "execute_result"
    }
   ],
   "source": [
    "covid_data.shape"
   ]
  },
  {
   "cell_type": "code",
   "execution_count": 344,
   "id": "21e9960c-f070-49ef-a083-f3c3250807b7",
   "metadata": {},
   "outputs": [
    {
     "data": {
      "text/plain": [
       "2502832"
      ]
     },
     "execution_count": 344,
     "metadata": {},
     "output_type": "execute_result"
    }
   ],
   "source": [
    "covid_data.shape[0]"
   ]
  },
  {
   "cell_type": "code",
   "execution_count": 346,
   "id": "33d93f07-4444-4f70-92c2-b51fd31670bb",
   "metadata": {},
   "outputs": [
    {
     "data": {
      "text/plain": [
       "5"
      ]
     },
     "execution_count": 346,
     "metadata": {},
     "output_type": "execute_result"
    }
   ],
   "source": [
    "covid_data.shape[1]"
   ]
  },
  {
   "cell_type": "code",
   "execution_count": 348,
   "id": "038e81cf-22b7-46bb-8b66-b8de76d3067f",
   "metadata": {},
   "outputs": [
    {
     "name": "stdout",
     "output_type": "stream",
     "text": [
      "The number of rows are 2502832\n",
      "The number of columns are 5\n"
     ]
    }
   ],
   "source": [
    "print(\"The number of rows are {}\".format(covid_data.shape[0]))\n",
    "print(\"The number of columns are {}\".format(covid_data.shape[1]))"
   ]
  },
  {
   "cell_type": "markdown",
   "id": "603dfde3-a409-44bc-acc7-a312b13a4213",
   "metadata": {},
   "source": [
    "##### Filtering using Multiple Conditions"
   ]
  },
  {
   "cell_type": "code",
   "execution_count": 353,
   "id": "75f29d53-a617-4ae7-afb2-9ef54ec5a121",
   "metadata": {},
   "outputs": [
    {
     "data": {
      "text/html": [
       "<div>\n",
       "<style scoped>\n",
       "    .dataframe tbody tr th:only-of-type {\n",
       "        vertical-align: middle;\n",
       "    }\n",
       "\n",
       "    .dataframe tbody tr th {\n",
       "        vertical-align: top;\n",
       "    }\n",
       "\n",
       "    .dataframe thead th {\n",
       "        text-align: right;\n",
       "    }\n",
       "</style>\n",
       "<table border=\"1\" class=\"dataframe\">\n",
       "  <thead>\n",
       "    <tr style=\"text-align: right;\">\n",
       "      <th></th>\n",
       "      <th>Date</th>\n",
       "      <th>County</th>\n",
       "      <th>State</th>\n",
       "      <th>Cases</th>\n",
       "      <th>Deaths</th>\n",
       "    </tr>\n",
       "  </thead>\n",
       "  <tbody>\n",
       "    <tr>\n",
       "      <th>0</th>\n",
       "      <td>2020-01-21</td>\n",
       "      <td>Snohomish</td>\n",
       "      <td>Washington</td>\n",
       "      <td>1</td>\n",
       "      <td>0.0</td>\n",
       "    </tr>\n",
       "    <tr>\n",
       "      <th>1</th>\n",
       "      <td>2020-01-22</td>\n",
       "      <td>Snohomish</td>\n",
       "      <td>Washington</td>\n",
       "      <td>1</td>\n",
       "      <td>0.0</td>\n",
       "    </tr>\n",
       "    <tr>\n",
       "      <th>2</th>\n",
       "      <td>2020-01-23</td>\n",
       "      <td>Snohomish</td>\n",
       "      <td>Washington</td>\n",
       "      <td>1</td>\n",
       "      <td>0.0</td>\n",
       "    </tr>\n",
       "    <tr>\n",
       "      <th>3</th>\n",
       "      <td>2020-01-24</td>\n",
       "      <td>Cook</td>\n",
       "      <td>Illinois</td>\n",
       "      <td>1</td>\n",
       "      <td>0.0</td>\n",
       "    </tr>\n",
       "    <tr>\n",
       "      <th>4</th>\n",
       "      <td>2020-01-24</td>\n",
       "      <td>Snohomish</td>\n",
       "      <td>Washington</td>\n",
       "      <td>1</td>\n",
       "      <td>0.0</td>\n",
       "    </tr>\n",
       "  </tbody>\n",
       "</table>\n",
       "</div>"
      ],
      "text/plain": [
       "         Date     County       State  Cases  Deaths\n",
       "0  2020-01-21  Snohomish  Washington      1     0.0\n",
       "1  2020-01-22  Snohomish  Washington      1     0.0\n",
       "2  2020-01-23  Snohomish  Washington      1     0.0\n",
       "3  2020-01-24       Cook    Illinois      1     0.0\n",
       "4  2020-01-24  Snohomish  Washington      1     0.0"
      ]
     },
     "execution_count": 353,
     "metadata": {},
     "output_type": "execute_result"
    }
   ],
   "source": [
    "covid_data.head()"
   ]
  },
  {
   "cell_type": "code",
   "execution_count": 366,
   "id": "10435443-e2dd-4a4f-b711-249250eeca9c",
   "metadata": {},
   "outputs": [
    {
     "data": {
      "text/html": [
       "<div>\n",
       "<style scoped>\n",
       "    .dataframe tbody tr th:only-of-type {\n",
       "        vertical-align: middle;\n",
       "    }\n",
       "\n",
       "    .dataframe tbody tr th {\n",
       "        vertical-align: top;\n",
       "    }\n",
       "\n",
       "    .dataframe thead th {\n",
       "        text-align: right;\n",
       "    }\n",
       "</style>\n",
       "<table border=\"1\" class=\"dataframe\">\n",
       "  <thead>\n",
       "    <tr style=\"text-align: right;\">\n",
       "      <th></th>\n",
       "      <th>Date</th>\n",
       "      <th>County</th>\n",
       "      <th>State</th>\n",
       "      <th>Cases</th>\n",
       "      <th>Deaths</th>\n",
       "    </tr>\n",
       "  </thead>\n",
       "  <tbody>\n",
       "    <tr>\n",
       "      <th>12288</th>\n",
       "      <td>2020-03-25</td>\n",
       "      <td>King</td>\n",
       "      <td>Washington</td>\n",
       "      <td>1360</td>\n",
       "      <td>101.0</td>\n",
       "    </tr>\n",
       "    <tr>\n",
       "      <th>13938</th>\n",
       "      <td>2020-03-26</td>\n",
       "      <td>King</td>\n",
       "      <td>Washington</td>\n",
       "      <td>1579</td>\n",
       "      <td>111.0</td>\n",
       "    </tr>\n",
       "    <tr>\n",
       "      <th>15706</th>\n",
       "      <td>2020-03-27</td>\n",
       "      <td>King</td>\n",
       "      <td>Washington</td>\n",
       "      <td>1830</td>\n",
       "      <td>127.0</td>\n",
       "    </tr>\n",
       "    <tr>\n",
       "      <th>17586</th>\n",
       "      <td>2020-03-28</td>\n",
       "      <td>King</td>\n",
       "      <td>Washington</td>\n",
       "      <td>2079</td>\n",
       "      <td>138.0</td>\n",
       "    </tr>\n",
       "    <tr>\n",
       "      <th>19551</th>\n",
       "      <td>2020-03-29</td>\n",
       "      <td>King</td>\n",
       "      <td>Washington</td>\n",
       "      <td>2163</td>\n",
       "      <td>146.0</td>\n",
       "    </tr>\n",
       "  </tbody>\n",
       "</table>\n",
       "</div>"
      ],
      "text/plain": [
       "             Date County       State  Cases  Deaths\n",
       "12288  2020-03-25   King  Washington   1360   101.0\n",
       "13938  2020-03-26   King  Washington   1579   111.0\n",
       "15706  2020-03-27   King  Washington   1830   127.0\n",
       "17586  2020-03-28   King  Washington   2079   138.0\n",
       "19551  2020-03-29   King  Washington   2163   146.0"
      ]
     },
     "execution_count": 366,
     "metadata": {},
     "output_type": "execute_result"
    }
   ],
   "source": [
    "covid_data[(covid_data['State'] == 'Washington') & (covid_data['Deaths'] >= 100)].head()"
   ]
  },
  {
   "cell_type": "markdown",
   "id": "5662ee38-84db-4f3f-9cb3-2f66214167d6",
   "metadata": {},
   "source": [
    "##### Adding a column"
   ]
  },
  {
   "cell_type": "code",
   "execution_count": 372,
   "id": "4f64ba84-0cfc-4f0a-b893-368ed3a1044d",
   "metadata": {},
   "outputs": [],
   "source": [
    "covid_data['Month'] = pd.DatetimeIndex(covid_data['Date']).month"
   ]
  },
  {
   "cell_type": "code",
   "execution_count": 376,
   "id": "76a4244c-82b8-4e8d-9202-977713888206",
   "metadata": {},
   "outputs": [],
   "source": [
    "covid_data['Year'] = pd.DatetimeIndex(covid_data['Date']).year"
   ]
  },
  {
   "cell_type": "code",
   "execution_count": 378,
   "id": "2de8ff58-f857-485d-9b80-824017f4833a",
   "metadata": {},
   "outputs": [
    {
     "data": {
      "text/html": [
       "<div>\n",
       "<style scoped>\n",
       "    .dataframe tbody tr th:only-of-type {\n",
       "        vertical-align: middle;\n",
       "    }\n",
       "\n",
       "    .dataframe tbody tr th {\n",
       "        vertical-align: top;\n",
       "    }\n",
       "\n",
       "    .dataframe thead th {\n",
       "        text-align: right;\n",
       "    }\n",
       "</style>\n",
       "<table border=\"1\" class=\"dataframe\">\n",
       "  <thead>\n",
       "    <tr style=\"text-align: right;\">\n",
       "      <th></th>\n",
       "      <th>Date</th>\n",
       "      <th>County</th>\n",
       "      <th>State</th>\n",
       "      <th>Cases</th>\n",
       "      <th>Deaths</th>\n",
       "      <th>Month</th>\n",
       "      <th>Year</th>\n",
       "    </tr>\n",
       "  </thead>\n",
       "  <tbody>\n",
       "    <tr>\n",
       "      <th>0</th>\n",
       "      <td>2020-01-21</td>\n",
       "      <td>Snohomish</td>\n",
       "      <td>Washington</td>\n",
       "      <td>1</td>\n",
       "      <td>0.0</td>\n",
       "      <td>1</td>\n",
       "      <td>2020</td>\n",
       "    </tr>\n",
       "    <tr>\n",
       "      <th>1</th>\n",
       "      <td>2020-01-22</td>\n",
       "      <td>Snohomish</td>\n",
       "      <td>Washington</td>\n",
       "      <td>1</td>\n",
       "      <td>0.0</td>\n",
       "      <td>1</td>\n",
       "      <td>2020</td>\n",
       "    </tr>\n",
       "    <tr>\n",
       "      <th>2</th>\n",
       "      <td>2020-01-23</td>\n",
       "      <td>Snohomish</td>\n",
       "      <td>Washington</td>\n",
       "      <td>1</td>\n",
       "      <td>0.0</td>\n",
       "      <td>1</td>\n",
       "      <td>2020</td>\n",
       "    </tr>\n",
       "    <tr>\n",
       "      <th>3</th>\n",
       "      <td>2020-01-24</td>\n",
       "      <td>Cook</td>\n",
       "      <td>Illinois</td>\n",
       "      <td>1</td>\n",
       "      <td>0.0</td>\n",
       "      <td>1</td>\n",
       "      <td>2020</td>\n",
       "    </tr>\n",
       "    <tr>\n",
       "      <th>4</th>\n",
       "      <td>2020-01-24</td>\n",
       "      <td>Snohomish</td>\n",
       "      <td>Washington</td>\n",
       "      <td>1</td>\n",
       "      <td>0.0</td>\n",
       "      <td>1</td>\n",
       "      <td>2020</td>\n",
       "    </tr>\n",
       "  </tbody>\n",
       "</table>\n",
       "</div>"
      ],
      "text/plain": [
       "         Date     County       State  Cases  Deaths  Month  Year\n",
       "0  2020-01-21  Snohomish  Washington      1     0.0      1  2020\n",
       "1  2020-01-22  Snohomish  Washington      1     0.0      1  2020\n",
       "2  2020-01-23  Snohomish  Washington      1     0.0      1  2020\n",
       "3  2020-01-24       Cook    Illinois      1     0.0      1  2020\n",
       "4  2020-01-24  Snohomish  Washington      1     0.0      1  2020"
      ]
     },
     "execution_count": 378,
     "metadata": {},
     "output_type": "execute_result"
    }
   ],
   "source": [
    "covid_data.head()"
   ]
  },
  {
   "cell_type": "code",
   "execution_count": 410,
   "id": "f7a92262-89f8-4e46-b35b-a59ab7196ed3",
   "metadata": {},
   "outputs": [],
   "source": [
    "covid_data['D/C Ratio'] = round(covid_data['Deaths'] * 100/covid_data['Cases'],3)"
   ]
  },
  {
   "cell_type": "code",
   "execution_count": 412,
   "id": "1d04bcdd-af92-43cb-834f-2f11dbe09463",
   "metadata": {},
   "outputs": [
    {
     "data": {
      "text/html": [
       "<div>\n",
       "<style scoped>\n",
       "    .dataframe tbody tr th:only-of-type {\n",
       "        vertical-align: middle;\n",
       "    }\n",
       "\n",
       "    .dataframe tbody tr th {\n",
       "        vertical-align: top;\n",
       "    }\n",
       "\n",
       "    .dataframe thead th {\n",
       "        text-align: right;\n",
       "    }\n",
       "</style>\n",
       "<table border=\"1\" class=\"dataframe\">\n",
       "  <thead>\n",
       "    <tr style=\"text-align: right;\">\n",
       "      <th></th>\n",
       "      <th>Date</th>\n",
       "      <th>County</th>\n",
       "      <th>State</th>\n",
       "      <th>Cases</th>\n",
       "      <th>Deaths</th>\n",
       "      <th>Month</th>\n",
       "      <th>Year</th>\n",
       "      <th>D/C Ratio</th>\n",
       "    </tr>\n",
       "  </thead>\n",
       "  <tbody>\n",
       "    <tr>\n",
       "      <th>0</th>\n",
       "      <td>2020-01-21</td>\n",
       "      <td>Snohomish</td>\n",
       "      <td>Washington</td>\n",
       "      <td>1</td>\n",
       "      <td>0.0</td>\n",
       "      <td>1</td>\n",
       "      <td>2020</td>\n",
       "      <td>0.000</td>\n",
       "    </tr>\n",
       "    <tr>\n",
       "      <th>1</th>\n",
       "      <td>2020-01-22</td>\n",
       "      <td>Snohomish</td>\n",
       "      <td>Washington</td>\n",
       "      <td>1</td>\n",
       "      <td>0.0</td>\n",
       "      <td>1</td>\n",
       "      <td>2020</td>\n",
       "      <td>0.000</td>\n",
       "    </tr>\n",
       "    <tr>\n",
       "      <th>2</th>\n",
       "      <td>2020-01-23</td>\n",
       "      <td>Snohomish</td>\n",
       "      <td>Washington</td>\n",
       "      <td>1</td>\n",
       "      <td>0.0</td>\n",
       "      <td>1</td>\n",
       "      <td>2020</td>\n",
       "      <td>0.000</td>\n",
       "    </tr>\n",
       "    <tr>\n",
       "      <th>3</th>\n",
       "      <td>2020-01-24</td>\n",
       "      <td>Cook</td>\n",
       "      <td>Illinois</td>\n",
       "      <td>1</td>\n",
       "      <td>0.0</td>\n",
       "      <td>1</td>\n",
       "      <td>2020</td>\n",
       "      <td>0.000</td>\n",
       "    </tr>\n",
       "    <tr>\n",
       "      <th>4</th>\n",
       "      <td>2020-01-24</td>\n",
       "      <td>Snohomish</td>\n",
       "      <td>Washington</td>\n",
       "      <td>1</td>\n",
       "      <td>0.0</td>\n",
       "      <td>1</td>\n",
       "      <td>2020</td>\n",
       "      <td>0.000</td>\n",
       "    </tr>\n",
       "    <tr>\n",
       "      <th>...</th>\n",
       "      <td>...</td>\n",
       "      <td>...</td>\n",
       "      <td>...</td>\n",
       "      <td>...</td>\n",
       "      <td>...</td>\n",
       "      <td>...</td>\n",
       "      <td>...</td>\n",
       "      <td>...</td>\n",
       "    </tr>\n",
       "    <tr>\n",
       "      <th>2502827</th>\n",
       "      <td>2022-05-13</td>\n",
       "      <td>Sweetwater</td>\n",
       "      <td>Wyoming</td>\n",
       "      <td>11088</td>\n",
       "      <td>126.0</td>\n",
       "      <td>5</td>\n",
       "      <td>2022</td>\n",
       "      <td>1.136</td>\n",
       "    </tr>\n",
       "    <tr>\n",
       "      <th>2502828</th>\n",
       "      <td>2022-05-13</td>\n",
       "      <td>Teton</td>\n",
       "      <td>Wyoming</td>\n",
       "      <td>10074</td>\n",
       "      <td>16.0</td>\n",
       "      <td>5</td>\n",
       "      <td>2022</td>\n",
       "      <td>0.159</td>\n",
       "    </tr>\n",
       "    <tr>\n",
       "      <th>2502829</th>\n",
       "      <td>2022-05-13</td>\n",
       "      <td>Uinta</td>\n",
       "      <td>Wyoming</td>\n",
       "      <td>5643</td>\n",
       "      <td>39.0</td>\n",
       "      <td>5</td>\n",
       "      <td>2022</td>\n",
       "      <td>0.691</td>\n",
       "    </tr>\n",
       "    <tr>\n",
       "      <th>2502830</th>\n",
       "      <td>2022-05-13</td>\n",
       "      <td>Washakie</td>\n",
       "      <td>Wyoming</td>\n",
       "      <td>2358</td>\n",
       "      <td>44.0</td>\n",
       "      <td>5</td>\n",
       "      <td>2022</td>\n",
       "      <td>1.866</td>\n",
       "    </tr>\n",
       "    <tr>\n",
       "      <th>2502831</th>\n",
       "      <td>2022-05-13</td>\n",
       "      <td>Weston</td>\n",
       "      <td>Wyoming</td>\n",
       "      <td>1588</td>\n",
       "      <td>18.0</td>\n",
       "      <td>5</td>\n",
       "      <td>2022</td>\n",
       "      <td>1.134</td>\n",
       "    </tr>\n",
       "  </tbody>\n",
       "</table>\n",
       "<p>2502832 rows × 8 columns</p>\n",
       "</div>"
      ],
      "text/plain": [
       "               Date      County       State  Cases  Deaths  Month  Year  \\\n",
       "0        2020-01-21   Snohomish  Washington      1     0.0      1  2020   \n",
       "1        2020-01-22   Snohomish  Washington      1     0.0      1  2020   \n",
       "2        2020-01-23   Snohomish  Washington      1     0.0      1  2020   \n",
       "3        2020-01-24        Cook    Illinois      1     0.0      1  2020   \n",
       "4        2020-01-24   Snohomish  Washington      1     0.0      1  2020   \n",
       "...             ...         ...         ...    ...     ...    ...   ...   \n",
       "2502827  2022-05-13  Sweetwater     Wyoming  11088   126.0      5  2022   \n",
       "2502828  2022-05-13       Teton     Wyoming  10074    16.0      5  2022   \n",
       "2502829  2022-05-13       Uinta     Wyoming   5643    39.0      5  2022   \n",
       "2502830  2022-05-13    Washakie     Wyoming   2358    44.0      5  2022   \n",
       "2502831  2022-05-13      Weston     Wyoming   1588    18.0      5  2022   \n",
       "\n",
       "         D/C Ratio  \n",
       "0            0.000  \n",
       "1            0.000  \n",
       "2            0.000  \n",
       "3            0.000  \n",
       "4            0.000  \n",
       "...            ...  \n",
       "2502827      1.136  \n",
       "2502828      0.159  \n",
       "2502829      0.691  \n",
       "2502830      1.866  \n",
       "2502831      1.134  \n",
       "\n",
       "[2502832 rows x 8 columns]"
      ]
     },
     "execution_count": 412,
     "metadata": {},
     "output_type": "execute_result"
    }
   ],
   "source": [
    "covid_data"
   ]
  },
  {
   "cell_type": "code",
   "execution_count": 416,
   "id": "5d244ba3-8f83-4b2f-876d-c25fb1b3046c",
   "metadata": {},
   "outputs": [
    {
     "data": {
      "text/html": [
       "<div>\n",
       "<style scoped>\n",
       "    .dataframe tbody tr th:only-of-type {\n",
       "        vertical-align: middle;\n",
       "    }\n",
       "\n",
       "    .dataframe tbody tr th {\n",
       "        vertical-align: top;\n",
       "    }\n",
       "\n",
       "    .dataframe thead th {\n",
       "        text-align: right;\n",
       "    }\n",
       "</style>\n",
       "<table border=\"1\" class=\"dataframe\">\n",
       "  <thead>\n",
       "    <tr style=\"text-align: right;\">\n",
       "      <th></th>\n",
       "      <th>Date</th>\n",
       "      <th>County</th>\n",
       "      <th>State</th>\n",
       "      <th>Cases</th>\n",
       "      <th>Deaths</th>\n",
       "      <th>Month</th>\n",
       "      <th>Year</th>\n",
       "      <th>D/C Ratio</th>\n",
       "    </tr>\n",
       "  </thead>\n",
       "  <tbody>\n",
       "    <tr>\n",
       "      <th>3148</th>\n",
       "      <td>2020-03-16</td>\n",
       "      <td>Matagorda</td>\n",
       "      <td>Texas</td>\n",
       "      <td>2</td>\n",
       "      <td>1.0</td>\n",
       "      <td>3</td>\n",
       "      <td>2020</td>\n",
       "      <td>50.000</td>\n",
       "    </tr>\n",
       "    <tr>\n",
       "      <th>3684</th>\n",
       "      <td>2020-03-17</td>\n",
       "      <td>Matagorda</td>\n",
       "      <td>Texas</td>\n",
       "      <td>2</td>\n",
       "      <td>1.0</td>\n",
       "      <td>3</td>\n",
       "      <td>2020</td>\n",
       "      <td>50.000</td>\n",
       "    </tr>\n",
       "    <tr>\n",
       "      <th>4308</th>\n",
       "      <td>2020-03-18</td>\n",
       "      <td>Matagorda</td>\n",
       "      <td>Texas</td>\n",
       "      <td>2</td>\n",
       "      <td>1.0</td>\n",
       "      <td>3</td>\n",
       "      <td>2020</td>\n",
       "      <td>50.000</td>\n",
       "    </tr>\n",
       "    <tr>\n",
       "      <th>5063</th>\n",
       "      <td>2020-03-19</td>\n",
       "      <td>Matagorda</td>\n",
       "      <td>Texas</td>\n",
       "      <td>3</td>\n",
       "      <td>1.0</td>\n",
       "      <td>3</td>\n",
       "      <td>2020</td>\n",
       "      <td>33.333</td>\n",
       "    </tr>\n",
       "    <tr>\n",
       "      <th>5956</th>\n",
       "      <td>2020-03-20</td>\n",
       "      <td>Matagorda</td>\n",
       "      <td>Texas</td>\n",
       "      <td>3</td>\n",
       "      <td>1.0</td>\n",
       "      <td>3</td>\n",
       "      <td>2020</td>\n",
       "      <td>33.333</td>\n",
       "    </tr>\n",
       "    <tr>\n",
       "      <th>...</th>\n",
       "      <td>...</td>\n",
       "      <td>...</td>\n",
       "      <td>...</td>\n",
       "      <td>...</td>\n",
       "      <td>...</td>\n",
       "      <td>...</td>\n",
       "      <td>...</td>\n",
       "      <td>...</td>\n",
       "    </tr>\n",
       "    <tr>\n",
       "      <th>1000967</th>\n",
       "      <td>2021-02-05</td>\n",
       "      <td>Borden</td>\n",
       "      <td>Texas</td>\n",
       "      <td>17</td>\n",
       "      <td>2.0</td>\n",
       "      <td>2</td>\n",
       "      <td>2021</td>\n",
       "      <td>11.765</td>\n",
       "    </tr>\n",
       "    <tr>\n",
       "      <th>1004213</th>\n",
       "      <td>2021-02-06</td>\n",
       "      <td>Borden</td>\n",
       "      <td>Texas</td>\n",
       "      <td>17</td>\n",
       "      <td>2.0</td>\n",
       "      <td>2</td>\n",
       "      <td>2021</td>\n",
       "      <td>11.765</td>\n",
       "    </tr>\n",
       "    <tr>\n",
       "      <th>1007459</th>\n",
       "      <td>2021-02-07</td>\n",
       "      <td>Borden</td>\n",
       "      <td>Texas</td>\n",
       "      <td>17</td>\n",
       "      <td>2.0</td>\n",
       "      <td>2</td>\n",
       "      <td>2021</td>\n",
       "      <td>11.765</td>\n",
       "    </tr>\n",
       "    <tr>\n",
       "      <th>1010705</th>\n",
       "      <td>2021-02-08</td>\n",
       "      <td>Borden</td>\n",
       "      <td>Texas</td>\n",
       "      <td>17</td>\n",
       "      <td>2.0</td>\n",
       "      <td>2</td>\n",
       "      <td>2021</td>\n",
       "      <td>11.765</td>\n",
       "    </tr>\n",
       "    <tr>\n",
       "      <th>1013950</th>\n",
       "      <td>2021-02-09</td>\n",
       "      <td>Borden</td>\n",
       "      <td>Texas</td>\n",
       "      <td>19</td>\n",
       "      <td>2.0</td>\n",
       "      <td>2</td>\n",
       "      <td>2021</td>\n",
       "      <td>10.526</td>\n",
       "    </tr>\n",
       "  </tbody>\n",
       "</table>\n",
       "<p>2392 rows × 8 columns</p>\n",
       "</div>"
      ],
      "text/plain": [
       "               Date     County  State  Cases  Deaths  Month  Year  D/C Ratio\n",
       "3148     2020-03-16  Matagorda  Texas      2     1.0      3  2020     50.000\n",
       "3684     2020-03-17  Matagorda  Texas      2     1.0      3  2020     50.000\n",
       "4308     2020-03-18  Matagorda  Texas      2     1.0      3  2020     50.000\n",
       "5063     2020-03-19  Matagorda  Texas      3     1.0      3  2020     33.333\n",
       "5956     2020-03-20  Matagorda  Texas      3     1.0      3  2020     33.333\n",
       "...             ...        ...    ...    ...     ...    ...   ...        ...\n",
       "1000967  2021-02-05     Borden  Texas     17     2.0      2  2021     11.765\n",
       "1004213  2021-02-06     Borden  Texas     17     2.0      2  2021     11.765\n",
       "1007459  2021-02-07     Borden  Texas     17     2.0      2  2021     11.765\n",
       "1010705  2021-02-08     Borden  Texas     17     2.0      2  2021     11.765\n",
       "1013950  2021-02-09     Borden  Texas     19     2.0      2  2021     10.526\n",
       "\n",
       "[2392 rows x 8 columns]"
      ]
     },
     "execution_count": 416,
     "metadata": {},
     "output_type": "execute_result"
    }
   ],
   "source": [
    "covid_data[(covid_data['State'] == 'Texas') & (covid_data['D/C Ratio'] >= 10)]"
   ]
  },
  {
   "cell_type": "code",
   "execution_count": 418,
   "id": "8d26361d-8045-464f-b691-2de53c451369",
   "metadata": {},
   "outputs": [
    {
     "data": {
      "text/html": [
       "<div>\n",
       "<style scoped>\n",
       "    .dataframe tbody tr th:only-of-type {\n",
       "        vertical-align: middle;\n",
       "    }\n",
       "\n",
       "    .dataframe tbody tr th {\n",
       "        vertical-align: top;\n",
       "    }\n",
       "\n",
       "    .dataframe thead th {\n",
       "        text-align: right;\n",
       "    }\n",
       "</style>\n",
       "<table border=\"1\" class=\"dataframe\">\n",
       "  <thead>\n",
       "    <tr style=\"text-align: right;\">\n",
       "      <th></th>\n",
       "      <th>Date</th>\n",
       "      <th>County</th>\n",
       "      <th>State</th>\n",
       "      <th>Cases</th>\n",
       "      <th>Deaths</th>\n",
       "      <th>Month</th>\n",
       "      <th>Year</th>\n",
       "      <th>D/C Ratio</th>\n",
       "    </tr>\n",
       "  </thead>\n",
       "  <tbody>\n",
       "    <tr>\n",
       "      <th>11758</th>\n",
       "      <td>2020-03-25</td>\n",
       "      <td>New York City</td>\n",
       "      <td>New York</td>\n",
       "      <td>20061</td>\n",
       "      <td>330.0</td>\n",
       "      <td>3</td>\n",
       "      <td>2020</td>\n",
       "      <td>1.645</td>\n",
       "    </tr>\n",
       "    <tr>\n",
       "      <th>13361</th>\n",
       "      <td>2020-03-26</td>\n",
       "      <td>New York City</td>\n",
       "      <td>New York</td>\n",
       "      <td>23182</td>\n",
       "      <td>435.0</td>\n",
       "      <td>3</td>\n",
       "      <td>2020</td>\n",
       "      <td>1.876</td>\n",
       "    </tr>\n",
       "    <tr>\n",
       "      <th>15095</th>\n",
       "      <td>2020-03-27</td>\n",
       "      <td>New York City</td>\n",
       "      <td>New York</td>\n",
       "      <td>25509</td>\n",
       "      <td>560.0</td>\n",
       "      <td>3</td>\n",
       "      <td>2020</td>\n",
       "      <td>2.195</td>\n",
       "    </tr>\n",
       "    <tr>\n",
       "      <th>16925</th>\n",
       "      <td>2020-03-28</td>\n",
       "      <td>New York City</td>\n",
       "      <td>New York</td>\n",
       "      <td>30919</td>\n",
       "      <td>825.0</td>\n",
       "      <td>3</td>\n",
       "      <td>2020</td>\n",
       "      <td>2.668</td>\n",
       "    </tr>\n",
       "    <tr>\n",
       "      <th>18850</th>\n",
       "      <td>2020-03-29</td>\n",
       "      <td>New York City</td>\n",
       "      <td>New York</td>\n",
       "      <td>33983</td>\n",
       "      <td>991.0</td>\n",
       "      <td>3</td>\n",
       "      <td>2020</td>\n",
       "      <td>2.916</td>\n",
       "    </tr>\n",
       "    <tr>\n",
       "      <th>...</th>\n",
       "      <td>...</td>\n",
       "      <td>...</td>\n",
       "      <td>...</td>\n",
       "      <td>...</td>\n",
       "      <td>...</td>\n",
       "      <td>...</td>\n",
       "      <td>...</td>\n",
       "      <td>...</td>\n",
       "    </tr>\n",
       "    <tr>\n",
       "      <th>2502804</th>\n",
       "      <td>2022-05-13</td>\n",
       "      <td>Waukesha</td>\n",
       "      <td>Wisconsin</td>\n",
       "      <td>115887</td>\n",
       "      <td>1093.0</td>\n",
       "      <td>5</td>\n",
       "      <td>2022</td>\n",
       "      <td>0.943</td>\n",
       "    </tr>\n",
       "    <tr>\n",
       "      <th>2502807</th>\n",
       "      <td>2022-05-13</td>\n",
       "      <td>Winnebago</td>\n",
       "      <td>Wisconsin</td>\n",
       "      <td>53045</td>\n",
       "      <td>382.0</td>\n",
       "      <td>5</td>\n",
       "      <td>2022</td>\n",
       "      <td>0.720</td>\n",
       "    </tr>\n",
       "    <tr>\n",
       "      <th>2502808</th>\n",
       "      <td>2022-05-13</td>\n",
       "      <td>Wood</td>\n",
       "      <td>Wisconsin</td>\n",
       "      <td>21477</td>\n",
       "      <td>233.0</td>\n",
       "      <td>5</td>\n",
       "      <td>2022</td>\n",
       "      <td>1.085</td>\n",
       "    </tr>\n",
       "    <tr>\n",
       "      <th>2502819</th>\n",
       "      <td>2022-05-13</td>\n",
       "      <td>Laramie</td>\n",
       "      <td>Wyoming</td>\n",
       "      <td>26292</td>\n",
       "      <td>290.0</td>\n",
       "      <td>5</td>\n",
       "      <td>2022</td>\n",
       "      <td>1.103</td>\n",
       "    </tr>\n",
       "    <tr>\n",
       "      <th>2502821</th>\n",
       "      <td>2022-05-13</td>\n",
       "      <td>Natrona</td>\n",
       "      <td>Wyoming</td>\n",
       "      <td>22380</td>\n",
       "      <td>273.0</td>\n",
       "      <td>5</td>\n",
       "      <td>2022</td>\n",
       "      <td>1.220</td>\n",
       "    </tr>\n",
       "  </tbody>\n",
       "</table>\n",
       "<p>244732 rows × 8 columns</p>\n",
       "</div>"
      ],
      "text/plain": [
       "               Date         County      State   Cases  Deaths  Month  Year  \\\n",
       "11758    2020-03-25  New York City   New York   20061   330.0      3  2020   \n",
       "13361    2020-03-26  New York City   New York   23182   435.0      3  2020   \n",
       "15095    2020-03-27  New York City   New York   25509   560.0      3  2020   \n",
       "16925    2020-03-28  New York City   New York   30919   825.0      3  2020   \n",
       "18850    2020-03-29  New York City   New York   33983   991.0      3  2020   \n",
       "...             ...            ...        ...     ...     ...    ...   ...   \n",
       "2502804  2022-05-13       Waukesha  Wisconsin  115887  1093.0      5  2022   \n",
       "2502807  2022-05-13      Winnebago  Wisconsin   53045   382.0      5  2022   \n",
       "2502808  2022-05-13           Wood  Wisconsin   21477   233.0      5  2022   \n",
       "2502819  2022-05-13        Laramie    Wyoming   26292   290.0      5  2022   \n",
       "2502821  2022-05-13        Natrona    Wyoming   22380   273.0      5  2022   \n",
       "\n",
       "         D/C Ratio  \n",
       "11758        1.645  \n",
       "13361        1.876  \n",
       "15095        2.195  \n",
       "16925        2.668  \n",
       "18850        2.916  \n",
       "...            ...  \n",
       "2502804      0.943  \n",
       "2502807      0.720  \n",
       "2502808      1.085  \n",
       "2502819      1.103  \n",
       "2502821      1.220  \n",
       "\n",
       "[244732 rows x 8 columns]"
      ]
     },
     "execution_count": 418,
     "metadata": {},
     "output_type": "execute_result"
    }
   ],
   "source": [
    "covid_data[(covid_data['Cases'] >= 20000) | (covid_data['Deaths'] >= 500)]"
   ]
  },
  {
   "cell_type": "code",
   "execution_count": 427,
   "id": "904efe10-a703-426e-bcd9-fc0ef7855eb6",
   "metadata": {},
   "outputs": [
    {
     "data": {
      "text/html": [
       "<div>\n",
       "<style scoped>\n",
       "    .dataframe tbody tr th:only-of-type {\n",
       "        vertical-align: middle;\n",
       "    }\n",
       "\n",
       "    .dataframe tbody tr th {\n",
       "        vertical-align: top;\n",
       "    }\n",
       "\n",
       "    .dataframe thead th {\n",
       "        text-align: right;\n",
       "    }\n",
       "</style>\n",
       "<table border=\"1\" class=\"dataframe\">\n",
       "  <thead>\n",
       "    <tr style=\"text-align: right;\">\n",
       "      <th></th>\n",
       "      <th>Date</th>\n",
       "      <th>County</th>\n",
       "      <th>State</th>\n",
       "      <th>Cases</th>\n",
       "      <th>Deaths</th>\n",
       "      <th>Month</th>\n",
       "      <th>Year</th>\n",
       "      <th>D/C Ratio</th>\n",
       "    </tr>\n",
       "  </thead>\n",
       "  <tbody>\n",
       "    <tr>\n",
       "      <th>2501455</th>\n",
       "      <td>2022-05-13</td>\n",
       "      <td>New York City</td>\n",
       "      <td>New York</td>\n",
       "      <td>2422658</td>\n",
       "      <td>40267.0</td>\n",
       "      <td>5</td>\n",
       "      <td>2022</td>\n",
       "      <td>1.662</td>\n",
       "    </tr>\n",
       "  </tbody>\n",
       "</table>\n",
       "</div>"
      ],
      "text/plain": [
       "               Date         County     State    Cases   Deaths  Month  Year  \\\n",
       "2501455  2022-05-13  New York City  New York  2422658  40267.0      5  2022   \n",
       "\n",
       "         D/C Ratio  \n",
       "2501455      1.662  "
      ]
     },
     "execution_count": 427,
     "metadata": {},
     "output_type": "execute_result"
    }
   ],
   "source": [
    "covid_data[covid_data['Deaths'] == covid_data['Deaths'].max()]"
   ]
  },
  {
   "cell_type": "code",
   "execution_count": 438,
   "id": "0cff1401-1cb1-4a51-aa5d-14fe4d378524",
   "metadata": {},
   "outputs": [
    {
     "data": {
      "text/html": [
       "<div>\n",
       "<style scoped>\n",
       "    .dataframe tbody tr th:only-of-type {\n",
       "        vertical-align: middle;\n",
       "    }\n",
       "\n",
       "    .dataframe tbody tr th {\n",
       "        vertical-align: top;\n",
       "    }\n",
       "\n",
       "    .dataframe thead th {\n",
       "        text-align: right;\n",
       "    }\n",
       "</style>\n",
       "<table border=\"1\" class=\"dataframe\">\n",
       "  <thead>\n",
       "    <tr style=\"text-align: right;\">\n",
       "      <th></th>\n",
       "      <th>Date</th>\n",
       "      <th>County</th>\n",
       "      <th>State</th>\n",
       "      <th>Cases</th>\n",
       "      <th>Deaths</th>\n",
       "      <th>Month</th>\n",
       "      <th>Year</th>\n",
       "      <th>D/C Ratio</th>\n",
       "    </tr>\n",
       "  </thead>\n",
       "  <tbody>\n",
       "    <tr>\n",
       "      <th>2501455</th>\n",
       "      <td>2022-05-13</td>\n",
       "      <td>New York City</td>\n",
       "      <td>New York</td>\n",
       "      <td>2422658</td>\n",
       "      <td>40267.0</td>\n",
       "      <td>5</td>\n",
       "      <td>2022</td>\n",
       "      <td>1.662</td>\n",
       "    </tr>\n",
       "  </tbody>\n",
       "</table>\n",
       "</div>"
      ],
      "text/plain": [
       "              Date         County     State    Cases   Deaths  Month  Year  \\\n",
       "2501455 2022-05-13  New York City  New York  2422658  40267.0      5  2022   \n",
       "\n",
       "         D/C Ratio  \n",
       "2501455      1.662  "
      ]
     },
     "execution_count": 438,
     "metadata": {},
     "output_type": "execute_result"
    }
   ],
   "source": [
    "covid_data.sort_values(by = ['Deaths'],ascending= False).head(1)"
   ]
  },
  {
   "cell_type": "markdown",
   "id": "8fadb198-b447-41d4-888c-e82bf30aa8b2",
   "metadata": {},
   "source": [
    "##### Coversion from string to datetime"
   ]
  },
  {
   "cell_type": "code",
   "execution_count": 430,
   "id": "59550f86-d7c4-43db-8d21-51f801a83b99",
   "metadata": {},
   "outputs": [
    {
     "name": "stdout",
     "output_type": "stream",
     "text": [
      "<class 'pandas.core.frame.DataFrame'>\n",
      "RangeIndex: 2502832 entries, 0 to 2502831\n",
      "Data columns (total 8 columns):\n",
      " #   Column     Dtype  \n",
      "---  ------     -----  \n",
      " 0   Date       object \n",
      " 1   County     object \n",
      " 2   State      object \n",
      " 3   Cases      int64  \n",
      " 4   Deaths     float64\n",
      " 5   Month      int32  \n",
      " 6   Year       int32  \n",
      " 7   D/C Ratio  float64\n",
      "dtypes: float64(2), int32(2), int64(1), object(3)\n",
      "memory usage: 133.7+ MB\n"
     ]
    }
   ],
   "source": [
    "covid_data.info()"
   ]
  },
  {
   "cell_type": "code",
   "execution_count": 432,
   "id": "a6479c75-2fd7-4f41-8d84-99705a7e87ac",
   "metadata": {},
   "outputs": [],
   "source": [
    "covid_data['Date'] = pd.to_datetime(covid_data['Date'])"
   ]
  },
  {
   "cell_type": "code",
   "execution_count": 434,
   "id": "63141bac-4e08-4836-84ed-ecee6915a89e",
   "metadata": {},
   "outputs": [
    {
     "name": "stdout",
     "output_type": "stream",
     "text": [
      "<class 'pandas.core.frame.DataFrame'>\n",
      "RangeIndex: 2502832 entries, 0 to 2502831\n",
      "Data columns (total 8 columns):\n",
      " #   Column     Dtype         \n",
      "---  ------     -----         \n",
      " 0   Date       datetime64[ns]\n",
      " 1   County     object        \n",
      " 2   State      object        \n",
      " 3   Cases      int64         \n",
      " 4   Deaths     float64       \n",
      " 5   Month      int32         \n",
      " 6   Year       int32         \n",
      " 7   D/C Ratio  float64       \n",
      "dtypes: datetime64[ns](1), float64(2), int32(2), int64(1), object(2)\n",
      "memory usage: 133.7+ MB\n"
     ]
    }
   ],
   "source": [
    "covid_data.info()"
   ]
  },
  {
   "cell_type": "markdown",
   "id": "3a06cd38-d448-4e20-854d-18c256e3e8c9",
   "metadata": {},
   "source": [
    "##### Appending"
   ]
  },
  {
   "cell_type": "code",
   "execution_count": 446,
   "id": "7cac423c-f004-4331-ada4-2a43c1c1f796",
   "metadata": {},
   "outputs": [
    {
     "data": {
      "text/html": [
       "<div>\n",
       "<style scoped>\n",
       "    .dataframe tbody tr th:only-of-type {\n",
       "        vertical-align: middle;\n",
       "    }\n",
       "\n",
       "    .dataframe tbody tr th {\n",
       "        vertical-align: top;\n",
       "    }\n",
       "\n",
       "    .dataframe thead th {\n",
       "        text-align: right;\n",
       "    }\n",
       "</style>\n",
       "<table border=\"1\" class=\"dataframe\">\n",
       "  <thead>\n",
       "    <tr style=\"text-align: right;\">\n",
       "      <th></th>\n",
       "      <th>Date</th>\n",
       "      <th>County</th>\n",
       "      <th>State</th>\n",
       "      <th>Cases</th>\n",
       "      <th>Deaths</th>\n",
       "    </tr>\n",
       "  </thead>\n",
       "  <tbody>\n",
       "    <tr>\n",
       "      <th>143</th>\n",
       "      <td>2020-02-12</td>\n",
       "      <td>Bexar</td>\n",
       "      <td>Texas</td>\n",
       "      <td>1</td>\n",
       "      <td>0.0</td>\n",
       "    </tr>\n",
       "    <tr>\n",
       "      <th>154</th>\n",
       "      <td>2020-02-13</td>\n",
       "      <td>Bexar</td>\n",
       "      <td>Texas</td>\n",
       "      <td>2</td>\n",
       "      <td>0.0</td>\n",
       "    </tr>\n",
       "    <tr>\n",
       "      <th>165</th>\n",
       "      <td>2020-02-14</td>\n",
       "      <td>Bexar</td>\n",
       "      <td>Texas</td>\n",
       "      <td>2</td>\n",
       "      <td>0.0</td>\n",
       "    </tr>\n",
       "  </tbody>\n",
       "</table>\n",
       "</div>"
      ],
      "text/plain": [
       "           Date County  State  Cases  Deaths\n",
       "143  2020-02-12  Bexar  Texas      1     0.0\n",
       "154  2020-02-13  Bexar  Texas      2     0.0\n",
       "165  2020-02-14  Bexar  Texas      2     0.0"
      ]
     },
     "execution_count": 446,
     "metadata": {},
     "output_type": "execute_result"
    }
   ],
   "source": [
    "Texas_covid_data.head(3)"
   ]
  },
  {
   "cell_type": "code",
   "execution_count": 442,
   "id": "e517d440-375b-4ec6-809b-6a88f4fcaaae",
   "metadata": {},
   "outputs": [],
   "source": [
    "Was_covid_data = covid_data[covid_data['State'] == 'Washington']"
   ]
  },
  {
   "cell_type": "code",
   "execution_count": 448,
   "id": "baa164d9-0f93-4751-b632-ce9fff5f6d60",
   "metadata": {},
   "outputs": [
    {
     "data": {
      "text/html": [
       "<div>\n",
       "<style scoped>\n",
       "    .dataframe tbody tr th:only-of-type {\n",
       "        vertical-align: middle;\n",
       "    }\n",
       "\n",
       "    .dataframe tbody tr th {\n",
       "        vertical-align: top;\n",
       "    }\n",
       "\n",
       "    .dataframe thead th {\n",
       "        text-align: right;\n",
       "    }\n",
       "</style>\n",
       "<table border=\"1\" class=\"dataframe\">\n",
       "  <thead>\n",
       "    <tr style=\"text-align: right;\">\n",
       "      <th></th>\n",
       "      <th>Date</th>\n",
       "      <th>County</th>\n",
       "      <th>State</th>\n",
       "      <th>Cases</th>\n",
       "      <th>Deaths</th>\n",
       "      <th>Month</th>\n",
       "      <th>Year</th>\n",
       "      <th>D/C Ratio</th>\n",
       "    </tr>\n",
       "  </thead>\n",
       "  <tbody>\n",
       "    <tr>\n",
       "      <th>0</th>\n",
       "      <td>2020-01-21</td>\n",
       "      <td>Snohomish</td>\n",
       "      <td>Washington</td>\n",
       "      <td>1</td>\n",
       "      <td>0.0</td>\n",
       "      <td>1</td>\n",
       "      <td>2020</td>\n",
       "      <td>0.0</td>\n",
       "    </tr>\n",
       "    <tr>\n",
       "      <th>1</th>\n",
       "      <td>2020-01-22</td>\n",
       "      <td>Snohomish</td>\n",
       "      <td>Washington</td>\n",
       "      <td>1</td>\n",
       "      <td>0.0</td>\n",
       "      <td>1</td>\n",
       "      <td>2020</td>\n",
       "      <td>0.0</td>\n",
       "    </tr>\n",
       "    <tr>\n",
       "      <th>2</th>\n",
       "      <td>2020-01-23</td>\n",
       "      <td>Snohomish</td>\n",
       "      <td>Washington</td>\n",
       "      <td>1</td>\n",
       "      <td>0.0</td>\n",
       "      <td>1</td>\n",
       "      <td>2020</td>\n",
       "      <td>0.0</td>\n",
       "    </tr>\n",
       "  </tbody>\n",
       "</table>\n",
       "</div>"
      ],
      "text/plain": [
       "        Date     County       State  Cases  Deaths  Month  Year  D/C Ratio\n",
       "0 2020-01-21  Snohomish  Washington      1     0.0      1  2020        0.0\n",
       "1 2020-01-22  Snohomish  Washington      1     0.0      1  2020        0.0\n",
       "2 2020-01-23  Snohomish  Washington      1     0.0      1  2020        0.0"
      ]
     },
     "execution_count": 448,
     "metadata": {},
     "output_type": "execute_result"
    }
   ],
   "source": [
    "Was_covid_data.head(3)"
   ]
  },
  {
   "cell_type": "code",
   "execution_count": 464,
   "id": "cceeb00d-bb63-45c0-b1b4-0d0589e26e84",
   "metadata": {},
   "outputs": [],
   "source": [
    "Appended_df = pd.concat([Texas_covid_data,Was_covid_data],ignore_index=True)"
   ]
  },
  {
   "cell_type": "code",
   "execution_count": 462,
   "id": "126d95b2-f594-4e92-802f-3f07bbef1365",
   "metadata": {},
   "outputs": [
    {
     "data": {
      "text/html": [
       "<div>\n",
       "<style scoped>\n",
       "    .dataframe tbody tr th:only-of-type {\n",
       "        vertical-align: middle;\n",
       "    }\n",
       "\n",
       "    .dataframe tbody tr th {\n",
       "        vertical-align: top;\n",
       "    }\n",
       "\n",
       "    .dataframe thead th {\n",
       "        text-align: right;\n",
       "    }\n",
       "</style>\n",
       "<table border=\"1\" class=\"dataframe\">\n",
       "  <thead>\n",
       "    <tr style=\"text-align: right;\">\n",
       "      <th></th>\n",
       "      <th>Date</th>\n",
       "      <th>County</th>\n",
       "      <th>State</th>\n",
       "      <th>Cases</th>\n",
       "      <th>Deaths</th>\n",
       "      <th>Month</th>\n",
       "      <th>Year</th>\n",
       "      <th>D/C Ratio</th>\n",
       "    </tr>\n",
       "  </thead>\n",
       "  <tbody>\n",
       "    <tr>\n",
       "      <th>0</th>\n",
       "      <td>2020-02-12</td>\n",
       "      <td>Bexar</td>\n",
       "      <td>Texas</td>\n",
       "      <td>1</td>\n",
       "      <td>0.0</td>\n",
       "      <td>NaN</td>\n",
       "      <td>NaN</td>\n",
       "      <td>NaN</td>\n",
       "    </tr>\n",
       "    <tr>\n",
       "      <th>1</th>\n",
       "      <td>2020-02-13</td>\n",
       "      <td>Bexar</td>\n",
       "      <td>Texas</td>\n",
       "      <td>2</td>\n",
       "      <td>0.0</td>\n",
       "      <td>NaN</td>\n",
       "      <td>NaN</td>\n",
       "      <td>NaN</td>\n",
       "    </tr>\n",
       "    <tr>\n",
       "      <th>2</th>\n",
       "      <td>2020-02-14</td>\n",
       "      <td>Bexar</td>\n",
       "      <td>Texas</td>\n",
       "      <td>2</td>\n",
       "      <td>0.0</td>\n",
       "      <td>NaN</td>\n",
       "      <td>NaN</td>\n",
       "      <td>NaN</td>\n",
       "    </tr>\n",
       "    <tr>\n",
       "      <th>3</th>\n",
       "      <td>2020-02-15</td>\n",
       "      <td>Bexar</td>\n",
       "      <td>Texas</td>\n",
       "      <td>2</td>\n",
       "      <td>0.0</td>\n",
       "      <td>NaN</td>\n",
       "      <td>NaN</td>\n",
       "      <td>NaN</td>\n",
       "    </tr>\n",
       "    <tr>\n",
       "      <th>4</th>\n",
       "      <td>2020-02-16</td>\n",
       "      <td>Bexar</td>\n",
       "      <td>Texas</td>\n",
       "      <td>2</td>\n",
       "      <td>0.0</td>\n",
       "      <td>NaN</td>\n",
       "      <td>NaN</td>\n",
       "      <td>NaN</td>\n",
       "    </tr>\n",
       "    <tr>\n",
       "      <th>...</th>\n",
       "      <td>...</td>\n",
       "      <td>...</td>\n",
       "      <td>...</td>\n",
       "      <td>...</td>\n",
       "      <td>...</td>\n",
       "      <td>...</td>\n",
       "      <td>...</td>\n",
       "      <td>...</td>\n",
       "    </tr>\n",
       "    <tr>\n",
       "      <th>224407</th>\n",
       "      <td>2022-05-13 00:00:00</td>\n",
       "      <td>Wahkiakum</td>\n",
       "      <td>Washington</td>\n",
       "      <td>537</td>\n",
       "      <td>7.0</td>\n",
       "      <td>5.0</td>\n",
       "      <td>2022.0</td>\n",
       "      <td>1.304</td>\n",
       "    </tr>\n",
       "    <tr>\n",
       "      <th>224408</th>\n",
       "      <td>2022-05-13 00:00:00</td>\n",
       "      <td>Walla Walla</td>\n",
       "      <td>Washington</td>\n",
       "      <td>16305</td>\n",
       "      <td>142.0</td>\n",
       "      <td>5.0</td>\n",
       "      <td>2022.0</td>\n",
       "      <td>0.871</td>\n",
       "    </tr>\n",
       "    <tr>\n",
       "      <th>224409</th>\n",
       "      <td>2022-05-13 00:00:00</td>\n",
       "      <td>Whatcom</td>\n",
       "      <td>Washington</td>\n",
       "      <td>39343</td>\n",
       "      <td>301.0</td>\n",
       "      <td>5.0</td>\n",
       "      <td>2022.0</td>\n",
       "      <td>0.765</td>\n",
       "    </tr>\n",
       "    <tr>\n",
       "      <th>224410</th>\n",
       "      <td>2022-05-13 00:00:00</td>\n",
       "      <td>Whitman</td>\n",
       "      <td>Washington</td>\n",
       "      <td>8806</td>\n",
       "      <td>90.0</td>\n",
       "      <td>5.0</td>\n",
       "      <td>2022.0</td>\n",
       "      <td>1.022</td>\n",
       "    </tr>\n",
       "    <tr>\n",
       "      <th>224411</th>\n",
       "      <td>2022-05-13 00:00:00</td>\n",
       "      <td>Yakima</td>\n",
       "      <td>Washington</td>\n",
       "      <td>73887</td>\n",
       "      <td>790.0</td>\n",
       "      <td>5.0</td>\n",
       "      <td>2022.0</td>\n",
       "      <td>1.069</td>\n",
       "    </tr>\n",
       "  </tbody>\n",
       "</table>\n",
       "<p>224412 rows × 8 columns</p>\n",
       "</div>"
      ],
      "text/plain": [
       "                       Date       County       State  Cases  Deaths  Month  \\\n",
       "0                2020-02-12        Bexar       Texas      1     0.0    NaN   \n",
       "1                2020-02-13        Bexar       Texas      2     0.0    NaN   \n",
       "2                2020-02-14        Bexar       Texas      2     0.0    NaN   \n",
       "3                2020-02-15        Bexar       Texas      2     0.0    NaN   \n",
       "4                2020-02-16        Bexar       Texas      2     0.0    NaN   \n",
       "...                     ...          ...         ...    ...     ...    ...   \n",
       "224407  2022-05-13 00:00:00    Wahkiakum  Washington    537     7.0    5.0   \n",
       "224408  2022-05-13 00:00:00  Walla Walla  Washington  16305   142.0    5.0   \n",
       "224409  2022-05-13 00:00:00      Whatcom  Washington  39343   301.0    5.0   \n",
       "224410  2022-05-13 00:00:00      Whitman  Washington   8806    90.0    5.0   \n",
       "224411  2022-05-13 00:00:00       Yakima  Washington  73887   790.0    5.0   \n",
       "\n",
       "          Year  D/C Ratio  \n",
       "0          NaN        NaN  \n",
       "1          NaN        NaN  \n",
       "2          NaN        NaN  \n",
       "3          NaN        NaN  \n",
       "4          NaN        NaN  \n",
       "...        ...        ...  \n",
       "224407  2022.0      1.304  \n",
       "224408  2022.0      0.871  \n",
       "224409  2022.0      0.765  \n",
       "224410  2022.0      1.022  \n",
       "224411  2022.0      1.069  \n",
       "\n",
       "[224412 rows x 8 columns]"
      ]
     },
     "execution_count": 462,
     "metadata": {},
     "output_type": "execute_result"
    }
   ],
   "source": [
    "Appended_df"
   ]
  },
  {
   "cell_type": "code",
   "execution_count": 468,
   "id": "7fa1c9b4-a849-4089-8a12-1b07b5ac9257",
   "metadata": {},
   "outputs": [
    {
     "data": {
      "text/html": [
       "<div>\n",
       "<style scoped>\n",
       "    .dataframe tbody tr th:only-of-type {\n",
       "        vertical-align: middle;\n",
       "    }\n",
       "\n",
       "    .dataframe tbody tr th {\n",
       "        vertical-align: top;\n",
       "    }\n",
       "\n",
       "    .dataframe thead th {\n",
       "        text-align: right;\n",
       "    }\n",
       "</style>\n",
       "<table border=\"1\" class=\"dataframe\">\n",
       "  <thead>\n",
       "    <tr style=\"text-align: right;\">\n",
       "      <th></th>\n",
       "      <th>Date</th>\n",
       "      <th>County</th>\n",
       "      <th>State</th>\n",
       "      <th>Cases</th>\n",
       "      <th>Deaths</th>\n",
       "      <th>Month</th>\n",
       "      <th>Year</th>\n",
       "      <th>D/C Ratio</th>\n",
       "    </tr>\n",
       "  </thead>\n",
       "  <tbody>\n",
       "    <tr>\n",
       "      <th>0</th>\n",
       "      <td>2020-01-21</td>\n",
       "      <td>Snohomish</td>\n",
       "      <td>Washington</td>\n",
       "      <td>1</td>\n",
       "      <td>0.0</td>\n",
       "      <td>1</td>\n",
       "      <td>2020</td>\n",
       "      <td>0.000</td>\n",
       "    </tr>\n",
       "    <tr>\n",
       "      <th>1</th>\n",
       "      <td>2020-01-22</td>\n",
       "      <td>Snohomish</td>\n",
       "      <td>Washington</td>\n",
       "      <td>1</td>\n",
       "      <td>0.0</td>\n",
       "      <td>1</td>\n",
       "      <td>2020</td>\n",
       "      <td>0.000</td>\n",
       "    </tr>\n",
       "    <tr>\n",
       "      <th>2</th>\n",
       "      <td>2020-01-23</td>\n",
       "      <td>Snohomish</td>\n",
       "      <td>Washington</td>\n",
       "      <td>1</td>\n",
       "      <td>0.0</td>\n",
       "      <td>1</td>\n",
       "      <td>2020</td>\n",
       "      <td>0.000</td>\n",
       "    </tr>\n",
       "    <tr>\n",
       "      <th>3</th>\n",
       "      <td>2020-01-24</td>\n",
       "      <td>Cook</td>\n",
       "      <td>Illinois</td>\n",
       "      <td>1</td>\n",
       "      <td>0.0</td>\n",
       "      <td>1</td>\n",
       "      <td>2020</td>\n",
       "      <td>0.000</td>\n",
       "    </tr>\n",
       "    <tr>\n",
       "      <th>4</th>\n",
       "      <td>2020-01-24</td>\n",
       "      <td>Snohomish</td>\n",
       "      <td>Washington</td>\n",
       "      <td>1</td>\n",
       "      <td>0.0</td>\n",
       "      <td>1</td>\n",
       "      <td>2020</td>\n",
       "      <td>0.000</td>\n",
       "    </tr>\n",
       "    <tr>\n",
       "      <th>...</th>\n",
       "      <td>...</td>\n",
       "      <td>...</td>\n",
       "      <td>...</td>\n",
       "      <td>...</td>\n",
       "      <td>...</td>\n",
       "      <td>...</td>\n",
       "      <td>...</td>\n",
       "      <td>...</td>\n",
       "    </tr>\n",
       "    <tr>\n",
       "      <th>2502827</th>\n",
       "      <td>2022-05-13</td>\n",
       "      <td>Sweetwater</td>\n",
       "      <td>Wyoming</td>\n",
       "      <td>11088</td>\n",
       "      <td>126.0</td>\n",
       "      <td>5</td>\n",
       "      <td>2022</td>\n",
       "      <td>1.136</td>\n",
       "    </tr>\n",
       "    <tr>\n",
       "      <th>2502828</th>\n",
       "      <td>2022-05-13</td>\n",
       "      <td>Teton</td>\n",
       "      <td>Wyoming</td>\n",
       "      <td>10074</td>\n",
       "      <td>16.0</td>\n",
       "      <td>5</td>\n",
       "      <td>2022</td>\n",
       "      <td>0.159</td>\n",
       "    </tr>\n",
       "    <tr>\n",
       "      <th>2502829</th>\n",
       "      <td>2022-05-13</td>\n",
       "      <td>Uinta</td>\n",
       "      <td>Wyoming</td>\n",
       "      <td>5643</td>\n",
       "      <td>39.0</td>\n",
       "      <td>5</td>\n",
       "      <td>2022</td>\n",
       "      <td>0.691</td>\n",
       "    </tr>\n",
       "    <tr>\n",
       "      <th>2502830</th>\n",
       "      <td>2022-05-13</td>\n",
       "      <td>Washakie</td>\n",
       "      <td>Wyoming</td>\n",
       "      <td>2358</td>\n",
       "      <td>44.0</td>\n",
       "      <td>5</td>\n",
       "      <td>2022</td>\n",
       "      <td>1.866</td>\n",
       "    </tr>\n",
       "    <tr>\n",
       "      <th>2502831</th>\n",
       "      <td>2022-05-13</td>\n",
       "      <td>Weston</td>\n",
       "      <td>Wyoming</td>\n",
       "      <td>1588</td>\n",
       "      <td>18.0</td>\n",
       "      <td>5</td>\n",
       "      <td>2022</td>\n",
       "      <td>1.134</td>\n",
       "    </tr>\n",
       "  </tbody>\n",
       "</table>\n",
       "<p>2502832 rows × 8 columns</p>\n",
       "</div>"
      ],
      "text/plain": [
       "              Date      County       State  Cases  Deaths  Month  Year  \\\n",
       "0       2020-01-21   Snohomish  Washington      1     0.0      1  2020   \n",
       "1       2020-01-22   Snohomish  Washington      1     0.0      1  2020   \n",
       "2       2020-01-23   Snohomish  Washington      1     0.0      1  2020   \n",
       "3       2020-01-24        Cook    Illinois      1     0.0      1  2020   \n",
       "4       2020-01-24   Snohomish  Washington      1     0.0      1  2020   \n",
       "...            ...         ...         ...    ...     ...    ...   ...   \n",
       "2502827 2022-05-13  Sweetwater     Wyoming  11088   126.0      5  2022   \n",
       "2502828 2022-05-13       Teton     Wyoming  10074    16.0      5  2022   \n",
       "2502829 2022-05-13       Uinta     Wyoming   5643    39.0      5  2022   \n",
       "2502830 2022-05-13    Washakie     Wyoming   2358    44.0      5  2022   \n",
       "2502831 2022-05-13      Weston     Wyoming   1588    18.0      5  2022   \n",
       "\n",
       "         D/C Ratio  \n",
       "0            0.000  \n",
       "1            0.000  \n",
       "2            0.000  \n",
       "3            0.000  \n",
       "4            0.000  \n",
       "...            ...  \n",
       "2502827      1.136  \n",
       "2502828      0.159  \n",
       "2502829      0.691  \n",
       "2502830      1.866  \n",
       "2502831      1.134  \n",
       "\n",
       "[2502832 rows x 8 columns]"
      ]
     },
     "execution_count": 468,
     "metadata": {},
     "output_type": "execute_result"
    }
   ],
   "source": [
    "covid_data"
   ]
  },
  {
   "cell_type": "code",
   "execution_count": 474,
   "id": "373aa8c6-3e1b-4577-8591-9e4af87d2a98",
   "metadata": {},
   "outputs": [],
   "source": [
    "Date_wise = covid_data.groupby(['Date']).sum().drop(['County','State','Month','Year','D/C Ratio'],axis=1)"
   ]
  },
  {
   "cell_type": "code",
   "execution_count": 476,
   "id": "5d45f1b7-3daf-48d8-8948-8be4f9cdd272",
   "metadata": {},
   "outputs": [
    {
     "data": {
      "text/html": [
       "<div>\n",
       "<style scoped>\n",
       "    .dataframe tbody tr th:only-of-type {\n",
       "        vertical-align: middle;\n",
       "    }\n",
       "\n",
       "    .dataframe tbody tr th {\n",
       "        vertical-align: top;\n",
       "    }\n",
       "\n",
       "    .dataframe thead th {\n",
       "        text-align: right;\n",
       "    }\n",
       "</style>\n",
       "<table border=\"1\" class=\"dataframe\">\n",
       "  <thead>\n",
       "    <tr style=\"text-align: right;\">\n",
       "      <th></th>\n",
       "      <th>Cases</th>\n",
       "      <th>Deaths</th>\n",
       "    </tr>\n",
       "    <tr>\n",
       "      <th>Date</th>\n",
       "      <th></th>\n",
       "      <th></th>\n",
       "    </tr>\n",
       "  </thead>\n",
       "  <tbody>\n",
       "    <tr>\n",
       "      <th>2020-01-21</th>\n",
       "      <td>1</td>\n",
       "      <td>0.0</td>\n",
       "    </tr>\n",
       "    <tr>\n",
       "      <th>2020-01-22</th>\n",
       "      <td>1</td>\n",
       "      <td>0.0</td>\n",
       "    </tr>\n",
       "    <tr>\n",
       "      <th>2020-01-23</th>\n",
       "      <td>1</td>\n",
       "      <td>0.0</td>\n",
       "    </tr>\n",
       "    <tr>\n",
       "      <th>2020-01-24</th>\n",
       "      <td>2</td>\n",
       "      <td>0.0</td>\n",
       "    </tr>\n",
       "    <tr>\n",
       "      <th>2020-01-25</th>\n",
       "      <td>3</td>\n",
       "      <td>0.0</td>\n",
       "    </tr>\n",
       "    <tr>\n",
       "      <th>...</th>\n",
       "      <td>...</td>\n",
       "      <td>...</td>\n",
       "    </tr>\n",
       "    <tr>\n",
       "      <th>2022-05-09</th>\n",
       "      <td>81890512</td>\n",
       "      <td>996612.0</td>\n",
       "    </tr>\n",
       "    <tr>\n",
       "      <th>2022-05-10</th>\n",
       "      <td>81983925</td>\n",
       "      <td>996916.0</td>\n",
       "    </tr>\n",
       "    <tr>\n",
       "      <th>2022-05-11</th>\n",
       "      <td>82145460</td>\n",
       "      <td>997481.0</td>\n",
       "    </tr>\n",
       "    <tr>\n",
       "      <th>2022-05-12</th>\n",
       "      <td>82260817</td>\n",
       "      <td>997853.0</td>\n",
       "    </tr>\n",
       "    <tr>\n",
       "      <th>2022-05-13</th>\n",
       "      <td>82367095</td>\n",
       "      <td>998279.0</td>\n",
       "    </tr>\n",
       "  </tbody>\n",
       "</table>\n",
       "<p>844 rows × 2 columns</p>\n",
       "</div>"
      ],
      "text/plain": [
       "               Cases    Deaths\n",
       "Date                          \n",
       "2020-01-21         1       0.0\n",
       "2020-01-22         1       0.0\n",
       "2020-01-23         1       0.0\n",
       "2020-01-24         2       0.0\n",
       "2020-01-25         3       0.0\n",
       "...              ...       ...\n",
       "2022-05-09  81890512  996612.0\n",
       "2022-05-10  81983925  996916.0\n",
       "2022-05-11  82145460  997481.0\n",
       "2022-05-12  82260817  997853.0\n",
       "2022-05-13  82367095  998279.0\n",
       "\n",
       "[844 rows x 2 columns]"
      ]
     },
     "execution_count": 476,
     "metadata": {},
     "output_type": "execute_result"
    }
   ],
   "source": [
    "Date_wise"
   ]
  },
  {
   "cell_type": "code",
   "execution_count": 480,
   "id": "3f7f9557-926f-4f3d-a7d5-d3f7508e0fe9",
   "metadata": {},
   "outputs": [],
   "source": [
    "County_wise = covid_data.drop(['Date','State','Month','Year','D/C Ratio'],axis=1).groupby(['County']).sum()"
   ]
  },
  {
   "cell_type": "code",
   "execution_count": 482,
   "id": "551942df-1fb2-4483-890c-84b1614e9a81",
   "metadata": {},
   "outputs": [
    {
     "data": {
      "text/html": [
       "<div>\n",
       "<style scoped>\n",
       "    .dataframe tbody tr th:only-of-type {\n",
       "        vertical-align: middle;\n",
       "    }\n",
       "\n",
       "    .dataframe tbody tr th {\n",
       "        vertical-align: top;\n",
       "    }\n",
       "\n",
       "    .dataframe thead th {\n",
       "        text-align: right;\n",
       "    }\n",
       "</style>\n",
       "<table border=\"1\" class=\"dataframe\">\n",
       "  <thead>\n",
       "    <tr style=\"text-align: right;\">\n",
       "      <th></th>\n",
       "      <th>Cases</th>\n",
       "      <th>Deaths</th>\n",
       "    </tr>\n",
       "    <tr>\n",
       "      <th>County</th>\n",
       "      <th></th>\n",
       "      <th></th>\n",
       "    </tr>\n",
       "  </thead>\n",
       "  <tbody>\n",
       "    <tr>\n",
       "      <th>Abbeville</th>\n",
       "      <td>1990471</td>\n",
       "      <td>26081.0</td>\n",
       "    </tr>\n",
       "    <tr>\n",
       "      <th>Acadia</th>\n",
       "      <td>5484277</td>\n",
       "      <td>132996.0</td>\n",
       "    </tr>\n",
       "    <tr>\n",
       "      <th>Accomack</th>\n",
       "      <td>2306179</td>\n",
       "      <td>36094.0</td>\n",
       "    </tr>\n",
       "    <tr>\n",
       "      <th>Ada</th>\n",
       "      <td>40965355</td>\n",
       "      <td>360167.0</td>\n",
       "    </tr>\n",
       "    <tr>\n",
       "      <th>Adair</th>\n",
       "      <td>6643484</td>\n",
       "      <td>104198.0</td>\n",
       "    </tr>\n",
       "    <tr>\n",
       "      <th>...</th>\n",
       "      <td>...</td>\n",
       "      <td>...</td>\n",
       "    </tr>\n",
       "    <tr>\n",
       "      <th>Yukon-Koyukuk Census Area</th>\n",
       "      <td>353575</td>\n",
       "      <td>3210.0</td>\n",
       "    </tr>\n",
       "    <tr>\n",
       "      <th>Yuma</th>\n",
       "      <td>25244087</td>\n",
       "      <td>525248.0</td>\n",
       "    </tr>\n",
       "    <tr>\n",
       "      <th>Zapata</th>\n",
       "      <td>1199444</td>\n",
       "      <td>20732.0</td>\n",
       "    </tr>\n",
       "    <tr>\n",
       "      <th>Zavala</th>\n",
       "      <td>1331119</td>\n",
       "      <td>27227.0</td>\n",
       "    </tr>\n",
       "    <tr>\n",
       "      <th>Ziebach</th>\n",
       "      <td>233062</td>\n",
       "      <td>5173.0</td>\n",
       "    </tr>\n",
       "  </tbody>\n",
       "</table>\n",
       "<p>1932 rows × 2 columns</p>\n",
       "</div>"
      ],
      "text/plain": [
       "                              Cases    Deaths\n",
       "County                                       \n",
       "Abbeville                   1990471   26081.0\n",
       "Acadia                      5484277  132996.0\n",
       "Accomack                    2306179   36094.0\n",
       "Ada                        40965355  360167.0\n",
       "Adair                       6643484  104198.0\n",
       "...                             ...       ...\n",
       "Yukon-Koyukuk Census Area    353575    3210.0\n",
       "Yuma                       25244087  525248.0\n",
       "Zapata                      1199444   20732.0\n",
       "Zavala                      1331119   27227.0\n",
       "Ziebach                      233062    5173.0\n",
       "\n",
       "[1932 rows x 2 columns]"
      ]
     },
     "execution_count": 482,
     "metadata": {},
     "output_type": "execute_result"
    }
   ],
   "source": [
    "County_wise"
   ]
  },
  {
   "cell_type": "code",
   "execution_count": 484,
   "id": "1cb0ef63-bd65-4cf9-9fea-bf753b6bf4e8",
   "metadata": {},
   "outputs": [],
   "source": [
    "State_wise = covid_data.drop(['Date','County','Month','Year','D/C Ratio'],axis=1).groupby(['State']).sum()"
   ]
  },
  {
   "cell_type": "code",
   "execution_count": 492,
   "id": "d7426256-65da-4123-8fa0-e428e03f8a0c",
   "metadata": {},
   "outputs": [
    {
     "data": {
      "text/html": [
       "<div>\n",
       "<style scoped>\n",
       "    .dataframe tbody tr th:only-of-type {\n",
       "        vertical-align: middle;\n",
       "    }\n",
       "\n",
       "    .dataframe tbody tr th {\n",
       "        vertical-align: top;\n",
       "    }\n",
       "\n",
       "    .dataframe thead th {\n",
       "        text-align: right;\n",
       "    }\n",
       "</style>\n",
       "<table border=\"1\" class=\"dataframe\">\n",
       "  <thead>\n",
       "    <tr style=\"text-align: right;\">\n",
       "      <th></th>\n",
       "      <th>Cases</th>\n",
       "      <th>Deaths</th>\n",
       "    </tr>\n",
       "    <tr>\n",
       "      <th>State</th>\n",
       "      <th></th>\n",
       "      <th></th>\n",
       "    </tr>\n",
       "  </thead>\n",
       "  <tbody>\n",
       "    <tr>\n",
       "      <th>Alabama</th>\n",
       "      <td>423771271</td>\n",
       "      <td>7294870.0</td>\n",
       "    </tr>\n",
       "    <tr>\n",
       "      <th>Alaska</th>\n",
       "      <td>65140447</td>\n",
       "      <td>325853.0</td>\n",
       "    </tr>\n",
       "    <tr>\n",
       "      <th>American Samoa</th>\n",
       "      <td>268683</td>\n",
       "      <td>624.0</td>\n",
       "    </tr>\n",
       "    <tr>\n",
       "      <th>Arizona</th>\n",
       "      <td>650613676</td>\n",
       "      <td>11347967.0</td>\n",
       "    </tr>\n",
       "    <tr>\n",
       "      <th>Arkansas</th>\n",
       "      <td>268300581</td>\n",
       "      <td>4056767.0</td>\n",
       "    </tr>\n",
       "    <tr>\n",
       "      <th>California</th>\n",
       "      <td>2810120533</td>\n",
       "      <td>36935467.0</td>\n",
       "    </tr>\n",
       "  </tbody>\n",
       "</table>\n",
       "</div>"
      ],
      "text/plain": [
       "                     Cases      Deaths\n",
       "State                                 \n",
       "Alabama          423771271   7294870.0\n",
       "Alaska            65140447    325853.0\n",
       "American Samoa      268683       624.0\n",
       "Arizona          650613676  11347967.0\n",
       "Arkansas         268300581   4056767.0\n",
       "California      2810120533  36935467.0"
      ]
     },
     "execution_count": 492,
     "metadata": {},
     "output_type": "execute_result"
    }
   ],
   "source": [
    "State_wise.head(6)"
   ]
  },
  {
   "cell_type": "code",
   "execution_count": 494,
   "id": "8a3886d7-2a1e-4c13-ad7f-1ee0d972088a",
   "metadata": {},
   "outputs": [],
   "source": [
    "Year_wise = covid_data.drop(['Date','County','Month','State','D/C Ratio'],axis=1).groupby(['Year']).sum()"
   ]
  },
  {
   "cell_type": "code",
   "execution_count": 496,
   "id": "80a11c9a-f68c-4436-8cfa-0612e4797908",
   "metadata": {},
   "outputs": [
    {
     "data": {
      "text/html": [
       "<div>\n",
       "<style scoped>\n",
       "    .dataframe tbody tr th:only-of-type {\n",
       "        vertical-align: middle;\n",
       "    }\n",
       "\n",
       "    .dataframe tbody tr th {\n",
       "        vertical-align: top;\n",
       "    }\n",
       "\n",
       "    .dataframe thead th {\n",
       "        text-align: right;\n",
       "    }\n",
       "</style>\n",
       "<table border=\"1\" class=\"dataframe\">\n",
       "  <thead>\n",
       "    <tr style=\"text-align: right;\">\n",
       "      <th></th>\n",
       "      <th>Cases</th>\n",
       "      <th>Deaths</th>\n",
       "    </tr>\n",
       "    <tr>\n",
       "      <th>Year</th>\n",
       "      <th></th>\n",
       "      <th></th>\n",
       "    </tr>\n",
       "  </thead>\n",
       "  <tbody>\n",
       "    <tr>\n",
       "      <th>2020</th>\n",
       "      <td>1727289223</td>\n",
       "      <td>46413785.0</td>\n",
       "    </tr>\n",
       "    <tr>\n",
       "      <th>2021</th>\n",
       "      <td>13229129861</td>\n",
       "      <td>223987036.0</td>\n",
       "    </tr>\n",
       "    <tr>\n",
       "      <th>2022</th>\n",
       "      <td>10156509144</td>\n",
       "      <td>124772370.0</td>\n",
       "    </tr>\n",
       "  </tbody>\n",
       "</table>\n",
       "</div>"
      ],
      "text/plain": [
       "            Cases       Deaths\n",
       "Year                          \n",
       "2020   1727289223   46413785.0\n",
       "2021  13229129861  223987036.0\n",
       "2022  10156509144  124772370.0"
      ]
     },
     "execution_count": 496,
     "metadata": {},
     "output_type": "execute_result"
    }
   ],
   "source": [
    "Year_wise"
   ]
  },
  {
   "cell_type": "markdown",
   "id": "eafc96f0-5a9c-427c-b476-a47623020857",
   "metadata": {},
   "source": [
    "##### Pivot_Table"
   ]
  },
  {
   "cell_type": "code",
   "execution_count": 519,
   "id": "5371b258-ef75-4b05-9946-3fa8b3fd40a2",
   "metadata": {
    "scrolled": true
   },
   "outputs": [],
   "source": [
    "State_Year_Wise = covid_data.pivot_table(values= ['Cases','Deaths'],index=['State','Year'],aggfunc='sum')"
   ]
  },
  {
   "cell_type": "code",
   "execution_count": 517,
   "id": "3cdcd3f7-8325-49d0-894d-02ef9058e26e",
   "metadata": {},
   "outputs": [
    {
     "data": {
      "text/html": [
       "<div>\n",
       "<style scoped>\n",
       "    .dataframe tbody tr th:only-of-type {\n",
       "        vertical-align: middle;\n",
       "    }\n",
       "\n",
       "    .dataframe tbody tr th {\n",
       "        vertical-align: top;\n",
       "    }\n",
       "\n",
       "    .dataframe thead th {\n",
       "        text-align: right;\n",
       "    }\n",
       "</style>\n",
       "<table border=\"1\" class=\"dataframe\">\n",
       "  <thead>\n",
       "    <tr style=\"text-align: right;\">\n",
       "      <th></th>\n",
       "      <th></th>\n",
       "      <th>Cases</th>\n",
       "      <th>Deaths</th>\n",
       "    </tr>\n",
       "    <tr>\n",
       "      <th>Year</th>\n",
       "      <th>State</th>\n",
       "      <th></th>\n",
       "      <th></th>\n",
       "    </tr>\n",
       "  </thead>\n",
       "  <tbody>\n",
       "    <tr>\n",
       "      <th rowspan=\"5\" valign=\"top\">2020</th>\n",
       "      <th>Alabama</th>\n",
       "      <td>32236000</td>\n",
       "      <td>526388.0</td>\n",
       "    </tr>\n",
       "    <tr>\n",
       "      <th>Alaska</th>\n",
       "      <td>2854127</td>\n",
       "      <td>13147.0</td>\n",
       "    </tr>\n",
       "    <tr>\n",
       "      <th>Arizona</th>\n",
       "      <td>47147078</td>\n",
       "      <td>1048821.0</td>\n",
       "    </tr>\n",
       "    <tr>\n",
       "      <th>Arkansas</th>\n",
       "      <td>18406368</td>\n",
       "      <td>285868.0</td>\n",
       "    </tr>\n",
       "    <tr>\n",
       "      <th>California</th>\n",
       "      <td>174969176</td>\n",
       "      <td>3065113.0</td>\n",
       "    </tr>\n",
       "    <tr>\n",
       "      <th>...</th>\n",
       "      <th>...</th>\n",
       "      <td>...</td>\n",
       "      <td>...</td>\n",
       "    </tr>\n",
       "    <tr>\n",
       "      <th rowspan=\"5\" valign=\"top\">2022</th>\n",
       "      <th>Virginia</th>\n",
       "      <td>211184381</td>\n",
       "      <td>2446583.0</td>\n",
       "    </tr>\n",
       "    <tr>\n",
       "      <th>Washington</th>\n",
       "      <td>181149508</td>\n",
       "      <td>1568129.0</td>\n",
       "    </tr>\n",
       "    <tr>\n",
       "      <th>West Virginia</th>\n",
       "      <td>62165333</td>\n",
       "      <td>839208.0</td>\n",
       "    </tr>\n",
       "    <tr>\n",
       "      <th>Wisconsin</th>\n",
       "      <td>202684699</td>\n",
       "      <td>1773939.0</td>\n",
       "    </tr>\n",
       "    <tr>\n",
       "      <th>Wyoming</th>\n",
       "      <td>19834308</td>\n",
       "      <td>228657.0</td>\n",
       "    </tr>\n",
       "  </tbody>\n",
       "</table>\n",
       "<p>167 rows × 2 columns</p>\n",
       "</div>"
      ],
      "text/plain": [
       "                        Cases     Deaths\n",
       "Year State                              \n",
       "2020 Alabama         32236000   526388.0\n",
       "     Alaska           2854127    13147.0\n",
       "     Arizona         47147078  1048821.0\n",
       "     Arkansas        18406368   285868.0\n",
       "     California     174969176  3065113.0\n",
       "...                       ...        ...\n",
       "2022 Virginia       211184381  2446583.0\n",
       "     Washington     181149508  1568129.0\n",
       "     West Virginia   62165333   839208.0\n",
       "     Wisconsin      202684699  1773939.0\n",
       "     Wyoming         19834308   228657.0\n",
       "\n",
       "[167 rows x 2 columns]"
      ]
     },
     "execution_count": 517,
     "metadata": {},
     "output_type": "execute_result"
    }
   ],
   "source": [
    "covid_data.pivot_table(values= ['Cases','Deaths'],index=['Year','State'],aggfunc='sum')"
   ]
  },
  {
   "cell_type": "code",
   "execution_count": 530,
   "id": "8a7753e8-2f59-4456-97ee-d89a09932522",
   "metadata": {},
   "outputs": [],
   "source": [
    "Year_month_wise = covid_data.pivot_table(values=['Cases','Deaths'],index=['Year','Month'],aggfunc='sum')"
   ]
  },
  {
   "cell_type": "code",
   "execution_count": 532,
   "id": "76fac36e-4ae0-4efb-8beb-a78438c8e1ef",
   "metadata": {},
   "outputs": [
    {
     "data": {
      "text/html": [
       "<div>\n",
       "<style scoped>\n",
       "    .dataframe tbody tr th:only-of-type {\n",
       "        vertical-align: middle;\n",
       "    }\n",
       "\n",
       "    .dataframe tbody tr th {\n",
       "        vertical-align: top;\n",
       "    }\n",
       "\n",
       "    .dataframe thead th {\n",
       "        text-align: right;\n",
       "    }\n",
       "</style>\n",
       "<table border=\"1\" class=\"dataframe\">\n",
       "  <thead>\n",
       "    <tr style=\"text-align: right;\">\n",
       "      <th></th>\n",
       "      <th></th>\n",
       "      <th>Cases</th>\n",
       "      <th>Deaths</th>\n",
       "    </tr>\n",
       "    <tr>\n",
       "      <th>Year</th>\n",
       "      <th>Month</th>\n",
       "      <th></th>\n",
       "      <th></th>\n",
       "    </tr>\n",
       "  </thead>\n",
       "  <tbody>\n",
       "    <tr>\n",
       "      <th rowspan=\"12\" valign=\"top\">2020</th>\n",
       "      <th>1</th>\n",
       "      <td>41</td>\n",
       "      <td>0.0</td>\n",
       "    </tr>\n",
       "    <tr>\n",
       "      <th>2</th>\n",
       "      <td>736</td>\n",
       "      <td>1.0</td>\n",
       "    </tr>\n",
       "    <tr>\n",
       "      <th>3</th>\n",
       "      <td>1095533</td>\n",
       "      <td>20269.0</td>\n",
       "    </tr>\n",
       "    <tr>\n",
       "      <th>4</th>\n",
       "      <td>19611708</td>\n",
       "      <td>990492.0</td>\n",
       "    </tr>\n",
       "    <tr>\n",
       "      <th>5</th>\n",
       "      <td>45452114</td>\n",
       "      <td>2695246.0</td>\n",
       "    </tr>\n",
       "    <tr>\n",
       "      <th>6</th>\n",
       "      <td>65288844</td>\n",
       "      <td>3498937.0</td>\n",
       "    </tr>\n",
       "    <tr>\n",
       "      <th>7</th>\n",
       "      <td>111626136</td>\n",
       "      <td>4307836.0</td>\n",
       "    </tr>\n",
       "    <tr>\n",
       "      <th>8</th>\n",
       "      <td>166758528</td>\n",
       "      <td>5259820.0</td>\n",
       "    </tr>\n",
       "    <tr>\n",
       "      <th>9</th>\n",
       "      <td>199758786</td>\n",
       "      <td>5879775.0</td>\n",
       "    </tr>\n",
       "    <tr>\n",
       "      <th>10</th>\n",
       "      <td>252794114</td>\n",
       "      <td>6774225.0</td>\n",
       "    </tr>\n",
       "    <tr>\n",
       "      <th>11</th>\n",
       "      <td>338932078</td>\n",
       "      <td>7449571.0</td>\n",
       "    </tr>\n",
       "    <tr>\n",
       "      <th>12</th>\n",
       "      <td>525970605</td>\n",
       "      <td>9537613.0</td>\n",
       "    </tr>\n",
       "    <tr>\n",
       "      <th rowspan=\"12\" valign=\"top\">2021</th>\n",
       "      <th>1</th>\n",
       "      <td>729984096</td>\n",
       "      <td>12216246.0</td>\n",
       "    </tr>\n",
       "    <tr>\n",
       "      <th>2</th>\n",
       "      <td>773617710</td>\n",
       "      <td>13511297.0</td>\n",
       "    </tr>\n",
       "    <tr>\n",
       "      <th>3</th>\n",
       "      <td>916857453</td>\n",
       "      <td>16598944.0</td>\n",
       "    </tr>\n",
       "    <tr>\n",
       "      <th>4</th>\n",
       "      <td>944997168</td>\n",
       "      <td>16938795.0</td>\n",
       "    </tr>\n",
       "    <tr>\n",
       "      <th>5</th>\n",
       "      <td>1020501942</td>\n",
       "      <td>18153720.0</td>\n",
       "    </tr>\n",
       "    <tr>\n",
       "      <th>6</th>\n",
       "      <td>1003878600</td>\n",
       "      <td>18001792.0</td>\n",
       "    </tr>\n",
       "    <tr>\n",
       "      <th>7</th>\n",
       "      <td>1059339596</td>\n",
       "      <td>18857887.0</td>\n",
       "    </tr>\n",
       "    <tr>\n",
       "      <th>8</th>\n",
       "      <td>1148978762</td>\n",
       "      <td>19355736.0</td>\n",
       "    </tr>\n",
       "    <tr>\n",
       "      <th>9</th>\n",
       "      <td>1247666211</td>\n",
       "      <td>20063233.0</td>\n",
       "    </tr>\n",
       "    <tr>\n",
       "      <th>10</th>\n",
       "      <td>1390097002</td>\n",
       "      <td>22446279.0</td>\n",
       "    </tr>\n",
       "    <tr>\n",
       "      <th>11</th>\n",
       "      <td>1417533896</td>\n",
       "      <td>22952318.0</td>\n",
       "    </tr>\n",
       "    <tr>\n",
       "      <th>12</th>\n",
       "      <td>1575677425</td>\n",
       "      <td>24890789.0</td>\n",
       "    </tr>\n",
       "    <tr>\n",
       "      <th rowspan=\"5\" valign=\"top\">2022</th>\n",
       "      <th>1</th>\n",
       "      <td>2037666117</td>\n",
       "      <td>26440378.0</td>\n",
       "    </tr>\n",
       "    <tr>\n",
       "      <th>2</th>\n",
       "      <td>2173725838</td>\n",
       "      <td>25818487.0</td>\n",
       "    </tr>\n",
       "    <tr>\n",
       "      <th>3</th>\n",
       "      <td>2465286532</td>\n",
       "      <td>29979138.0</td>\n",
       "    </tr>\n",
       "    <tr>\n",
       "      <th>4</th>\n",
       "      <td>2416628654</td>\n",
       "      <td>29590230.0</td>\n",
       "    </tr>\n",
       "    <tr>\n",
       "      <th>5</th>\n",
       "      <td>1063202003</td>\n",
       "      <td>12944137.0</td>\n",
       "    </tr>\n",
       "  </tbody>\n",
       "</table>\n",
       "</div>"
      ],
      "text/plain": [
       "                 Cases      Deaths\n",
       "Year Month                        \n",
       "2020 1              41         0.0\n",
       "     2             736         1.0\n",
       "     3         1095533     20269.0\n",
       "     4        19611708    990492.0\n",
       "     5        45452114   2695246.0\n",
       "     6        65288844   3498937.0\n",
       "     7       111626136   4307836.0\n",
       "     8       166758528   5259820.0\n",
       "     9       199758786   5879775.0\n",
       "     10      252794114   6774225.0\n",
       "     11      338932078   7449571.0\n",
       "     12      525970605   9537613.0\n",
       "2021 1       729984096  12216246.0\n",
       "     2       773617710  13511297.0\n",
       "     3       916857453  16598944.0\n",
       "     4       944997168  16938795.0\n",
       "     5      1020501942  18153720.0\n",
       "     6      1003878600  18001792.0\n",
       "     7      1059339596  18857887.0\n",
       "     8      1148978762  19355736.0\n",
       "     9      1247666211  20063233.0\n",
       "     10     1390097002  22446279.0\n",
       "     11     1417533896  22952318.0\n",
       "     12     1575677425  24890789.0\n",
       "2022 1      2037666117  26440378.0\n",
       "     2      2173725838  25818487.0\n",
       "     3      2465286532  29979138.0\n",
       "     4      2416628654  29590230.0\n",
       "     5      1063202003  12944137.0"
      ]
     },
     "execution_count": 532,
     "metadata": {},
     "output_type": "execute_result"
    }
   ],
   "source": [
    "Year_month_wise"
   ]
  },
  {
   "cell_type": "code",
   "execution_count": 534,
   "id": "d8c50e0d-8588-49fa-b57e-f5cc7616621f",
   "metadata": {},
   "outputs": [
    {
     "data": {
      "text/html": [
       "<div>\n",
       "<style scoped>\n",
       "    .dataframe tbody tr th:only-of-type {\n",
       "        vertical-align: middle;\n",
       "    }\n",
       "\n",
       "    .dataframe tbody tr th {\n",
       "        vertical-align: top;\n",
       "    }\n",
       "\n",
       "    .dataframe thead tr th {\n",
       "        text-align: left;\n",
       "    }\n",
       "\n",
       "    .dataframe thead tr:last-of-type th {\n",
       "        text-align: right;\n",
       "    }\n",
       "</style>\n",
       "<table border=\"1\" class=\"dataframe\">\n",
       "  <thead>\n",
       "    <tr>\n",
       "      <th></th>\n",
       "      <th></th>\n",
       "      <th colspan=\"2\" halign=\"left\">sum</th>\n",
       "      <th colspan=\"2\" halign=\"left\">mean</th>\n",
       "    </tr>\n",
       "    <tr>\n",
       "      <th></th>\n",
       "      <th></th>\n",
       "      <th>Cases</th>\n",
       "      <th>Deaths</th>\n",
       "      <th>Cases</th>\n",
       "      <th>Deaths</th>\n",
       "    </tr>\n",
       "    <tr>\n",
       "      <th>Year</th>\n",
       "      <th>Month</th>\n",
       "      <th></th>\n",
       "      <th></th>\n",
       "      <th></th>\n",
       "      <th></th>\n",
       "    </tr>\n",
       "  </thead>\n",
       "  <tbody>\n",
       "    <tr>\n",
       "      <th rowspan=\"12\" valign=\"top\">2020</th>\n",
       "      <th>1</th>\n",
       "      <td>41</td>\n",
       "      <td>0.0</td>\n",
       "      <td>1.051282</td>\n",
       "      <td>0.000000</td>\n",
       "    </tr>\n",
       "    <tr>\n",
       "      <th>2</th>\n",
       "      <td>736</td>\n",
       "      <td>1.0</td>\n",
       "      <td>2.050139</td>\n",
       "      <td>0.002786</td>\n",
       "    </tr>\n",
       "    <tr>\n",
       "      <th>3</th>\n",
       "      <td>1095533</td>\n",
       "      <td>20269.0</td>\n",
       "      <td>46.654161</td>\n",
       "      <td>0.863172</td>\n",
       "    </tr>\n",
       "    <tr>\n",
       "      <th>4</th>\n",
       "      <td>19611708</td>\n",
       "      <td>990492.0</td>\n",
       "      <td>245.176997</td>\n",
       "      <td>12.382698</td>\n",
       "    </tr>\n",
       "    <tr>\n",
       "      <th>5</th>\n",
       "      <td>45452114</td>\n",
       "      <td>2695246.0</td>\n",
       "      <td>488.837535</td>\n",
       "      <td>29.647083</td>\n",
       "    </tr>\n",
       "    <tr>\n",
       "      <th>6</th>\n",
       "      <td>65288844</td>\n",
       "      <td>3498937.0</td>\n",
       "      <td>699.181229</td>\n",
       "      <td>38.433386</td>\n",
       "    </tr>\n",
       "    <tr>\n",
       "      <th>7</th>\n",
       "      <td>111626136</td>\n",
       "      <td>4307836.0</td>\n",
       "      <td>1128.368757</td>\n",
       "      <td>44.636625</td>\n",
       "    </tr>\n",
       "    <tr>\n",
       "      <th>8</th>\n",
       "      <td>166758528</td>\n",
       "      <td>5259820.0</td>\n",
       "      <td>1667.835455</td>\n",
       "      <td>53.909826</td>\n",
       "    </tr>\n",
       "    <tr>\n",
       "      <th>9</th>\n",
       "      <td>199758786</td>\n",
       "      <td>5879775.0</td>\n",
       "      <td>2057.120940</td>\n",
       "      <td>62.045196</td>\n",
       "    </tr>\n",
       "    <tr>\n",
       "      <th>10</th>\n",
       "      <td>252794114</td>\n",
       "      <td>6774225.0</td>\n",
       "      <td>2514.188529</td>\n",
       "      <td>69.033874</td>\n",
       "    </tr>\n",
       "    <tr>\n",
       "      <th>11</th>\n",
       "      <td>338932078</td>\n",
       "      <td>7449571.0</td>\n",
       "      <td>3481.940394</td>\n",
       "      <td>78.416537</td>\n",
       "    </tr>\n",
       "    <tr>\n",
       "      <th>12</th>\n",
       "      <td>525970605</td>\n",
       "      <td>9537613.0</td>\n",
       "      <td>5228.180124</td>\n",
       "      <td>97.139207</td>\n",
       "    </tr>\n",
       "    <tr>\n",
       "      <th rowspan=\"12\" valign=\"top\">2021</th>\n",
       "      <th>1</th>\n",
       "      <td>729984096</td>\n",
       "      <td>12216246.0</td>\n",
       "      <td>7255.798265</td>\n",
       "      <td>124.415627</td>\n",
       "    </tr>\n",
       "    <tr>\n",
       "      <th>2</th>\n",
       "      <td>773617710</td>\n",
       "      <td>13511297.0</td>\n",
       "      <td>8512.518816</td>\n",
       "      <td>152.332653</td>\n",
       "    </tr>\n",
       "    <tr>\n",
       "      <th>3</th>\n",
       "      <td>916857453</td>\n",
       "      <td>16598944.0</td>\n",
       "      <td>9109.725702</td>\n",
       "      <td>168.983834</td>\n",
       "    </tr>\n",
       "    <tr>\n",
       "      <th>4</th>\n",
       "      <td>944997168</td>\n",
       "      <td>16938795.0</td>\n",
       "      <td>9699.640425</td>\n",
       "      <td>178.141840</td>\n",
       "    </tr>\n",
       "    <tr>\n",
       "      <th>5</th>\n",
       "      <td>1020501942</td>\n",
       "      <td>18153720.0</td>\n",
       "      <td>10139.921126</td>\n",
       "      <td>184.819596</td>\n",
       "    </tr>\n",
       "    <tr>\n",
       "      <th>6</th>\n",
       "      <td>1003878600</td>\n",
       "      <td>18001792.0</td>\n",
       "      <td>10310.466800</td>\n",
       "      <td>189.442694</td>\n",
       "    </tr>\n",
       "    <tr>\n",
       "      <th>7</th>\n",
       "      <td>1059339596</td>\n",
       "      <td>18857887.0</td>\n",
       "      <td>10524.147072</td>\n",
       "      <td>191.957319</td>\n",
       "    </tr>\n",
       "    <tr>\n",
       "      <th>8</th>\n",
       "      <td>1148978762</td>\n",
       "      <td>19355736.0</td>\n",
       "      <td>11409.804888</td>\n",
       "      <td>196.938799</td>\n",
       "    </tr>\n",
       "    <tr>\n",
       "      <th>9</th>\n",
       "      <td>1247666211</td>\n",
       "      <td>20063233.0</td>\n",
       "      <td>12801.565851</td>\n",
       "      <td>210.921059</td>\n",
       "    </tr>\n",
       "    <tr>\n",
       "      <th>10</th>\n",
       "      <td>1390097002</td>\n",
       "      <td>22446279.0</td>\n",
       "      <td>13800.913398</td>\n",
       "      <td>228.328390</td>\n",
       "    </tr>\n",
       "    <tr>\n",
       "      <th>11</th>\n",
       "      <td>1417533896</td>\n",
       "      <td>22952318.0</td>\n",
       "      <td>14538.361856</td>\n",
       "      <td>241.189517</td>\n",
       "    </tr>\n",
       "    <tr>\n",
       "      <th>12</th>\n",
       "      <td>1575677425</td>\n",
       "      <td>24890789.0</td>\n",
       "      <td>15638.236418</td>\n",
       "      <td>253.109508</td>\n",
       "    </tr>\n",
       "    <tr>\n",
       "      <th rowspan=\"5\" valign=\"top\">2022</th>\n",
       "      <th>1</th>\n",
       "      <td>2037666117</td>\n",
       "      <td>26440378.0</td>\n",
       "      <td>20208.726652</td>\n",
       "      <td>268.667534</td>\n",
       "    </tr>\n",
       "    <tr>\n",
       "      <th>2</th>\n",
       "      <td>2173725838</td>\n",
       "      <td>25818487.0</td>\n",
       "      <td>23873.192954</td>\n",
       "      <td>290.522983</td>\n",
       "    </tr>\n",
       "    <tr>\n",
       "      <th>3</th>\n",
       "      <td>2465286532</td>\n",
       "      <td>29979138.0</td>\n",
       "      <td>24448.960985</td>\n",
       "      <td>304.616505</td>\n",
       "    </tr>\n",
       "    <tr>\n",
       "      <th>4</th>\n",
       "      <td>2416628654</td>\n",
       "      <td>29590230.0</td>\n",
       "      <td>24745.580581</td>\n",
       "      <td>310.433702</td>\n",
       "    </tr>\n",
       "    <tr>\n",
       "      <th>5</th>\n",
       "      <td>1063202003</td>\n",
       "      <td>12944137.0</td>\n",
       "      <td>25108.088393</td>\n",
       "      <td>313.182284</td>\n",
       "    </tr>\n",
       "  </tbody>\n",
       "</table>\n",
       "</div>"
      ],
      "text/plain": [
       "                   sum                      mean            \n",
       "                 Cases      Deaths         Cases      Deaths\n",
       "Year Month                                                  \n",
       "2020 1              41         0.0      1.051282    0.000000\n",
       "     2             736         1.0      2.050139    0.002786\n",
       "     3         1095533     20269.0     46.654161    0.863172\n",
       "     4        19611708    990492.0    245.176997   12.382698\n",
       "     5        45452114   2695246.0    488.837535   29.647083\n",
       "     6        65288844   3498937.0    699.181229   38.433386\n",
       "     7       111626136   4307836.0   1128.368757   44.636625\n",
       "     8       166758528   5259820.0   1667.835455   53.909826\n",
       "     9       199758786   5879775.0   2057.120940   62.045196\n",
       "     10      252794114   6774225.0   2514.188529   69.033874\n",
       "     11      338932078   7449571.0   3481.940394   78.416537\n",
       "     12      525970605   9537613.0   5228.180124   97.139207\n",
       "2021 1       729984096  12216246.0   7255.798265  124.415627\n",
       "     2       773617710  13511297.0   8512.518816  152.332653\n",
       "     3       916857453  16598944.0   9109.725702  168.983834\n",
       "     4       944997168  16938795.0   9699.640425  178.141840\n",
       "     5      1020501942  18153720.0  10139.921126  184.819596\n",
       "     6      1003878600  18001792.0  10310.466800  189.442694\n",
       "     7      1059339596  18857887.0  10524.147072  191.957319\n",
       "     8      1148978762  19355736.0  11409.804888  196.938799\n",
       "     9      1247666211  20063233.0  12801.565851  210.921059\n",
       "     10     1390097002  22446279.0  13800.913398  228.328390\n",
       "     11     1417533896  22952318.0  14538.361856  241.189517\n",
       "     12     1575677425  24890789.0  15638.236418  253.109508\n",
       "2022 1      2037666117  26440378.0  20208.726652  268.667534\n",
       "     2      2173725838  25818487.0  23873.192954  290.522983\n",
       "     3      2465286532  29979138.0  24448.960985  304.616505\n",
       "     4      2416628654  29590230.0  24745.580581  310.433702\n",
       "     5      1063202003  12944137.0  25108.088393  313.182284"
      ]
     },
     "execution_count": 534,
     "metadata": {},
     "output_type": "execute_result"
    }
   ],
   "source": [
    "covid_data.pivot_table(values=['Cases','Deaths'],index=['Year','Month'],aggfunc=['sum','mean'])"
   ]
  },
  {
   "cell_type": "markdown",
   "id": "1513ea80-9cfe-4e0f-8c67-050bd6b0ce71",
   "metadata": {},
   "source": [
    "##### Duplicates"
   ]
  },
  {
   "cell_type": "code",
   "execution_count": 555,
   "id": "0443d406-d869-4562-a43c-8357695b86c0",
   "metadata": {},
   "outputs": [
    {
     "data": {
      "text/plain": [
       "0          False\n",
       "1          False\n",
       "2          False\n",
       "3          False\n",
       "4          False\n",
       "           ...  \n",
       "2502827    False\n",
       "2502828    False\n",
       "2502829    False\n",
       "2502830    False\n",
       "2502831    False\n",
       "Length: 2502832, dtype: bool"
      ]
     },
     "execution_count": 555,
     "metadata": {},
     "output_type": "execute_result"
    }
   ],
   "source": [
    "covid_data.duplicated()"
   ]
  },
  {
   "cell_type": "code",
   "execution_count": 557,
   "id": "9a852326-a3b5-435a-bce7-4a44f13b2abf",
   "metadata": {},
   "outputs": [
    {
     "data": {
      "text/plain": [
       "0"
      ]
     },
     "execution_count": 557,
     "metadata": {},
     "output_type": "execute_result"
    }
   ],
   "source": [
    "covid_data.duplicated().sum()"
   ]
  },
  {
   "cell_type": "code",
   "execution_count": 559,
   "id": "5dc5ce7c-7c05-4878-8005-ac539a1aef6f",
   "metadata": {},
   "outputs": [],
   "source": [
    "covid_data.drop_duplicates(inplace= True)"
   ]
  },
  {
   "cell_type": "code",
   "execution_count": 561,
   "id": "c983a91d-d007-428b-9974-7c0a1c3b22b2",
   "metadata": {},
   "outputs": [
    {
     "data": {
      "text/html": [
       "<div>\n",
       "<style scoped>\n",
       "    .dataframe tbody tr th:only-of-type {\n",
       "        vertical-align: middle;\n",
       "    }\n",
       "\n",
       "    .dataframe tbody tr th {\n",
       "        vertical-align: top;\n",
       "    }\n",
       "\n",
       "    .dataframe thead th {\n",
       "        text-align: right;\n",
       "    }\n",
       "</style>\n",
       "<table border=\"1\" class=\"dataframe\">\n",
       "  <thead>\n",
       "    <tr style=\"text-align: right;\">\n",
       "      <th></th>\n",
       "      <th>Date</th>\n",
       "      <th>County</th>\n",
       "      <th>State</th>\n",
       "      <th>Cases</th>\n",
       "      <th>Deaths</th>\n",
       "      <th>Month</th>\n",
       "      <th>Year</th>\n",
       "      <th>D/C Ratio</th>\n",
       "    </tr>\n",
       "  </thead>\n",
       "  <tbody>\n",
       "    <tr>\n",
       "      <th>0</th>\n",
       "      <td>2020-01-21</td>\n",
       "      <td>Snohomish</td>\n",
       "      <td>Washington</td>\n",
       "      <td>1</td>\n",
       "      <td>0.0</td>\n",
       "      <td>1</td>\n",
       "      <td>2020</td>\n",
       "      <td>0.000</td>\n",
       "    </tr>\n",
       "    <tr>\n",
       "      <th>1</th>\n",
       "      <td>2020-01-22</td>\n",
       "      <td>Snohomish</td>\n",
       "      <td>Washington</td>\n",
       "      <td>1</td>\n",
       "      <td>0.0</td>\n",
       "      <td>1</td>\n",
       "      <td>2020</td>\n",
       "      <td>0.000</td>\n",
       "    </tr>\n",
       "    <tr>\n",
       "      <th>2</th>\n",
       "      <td>2020-01-23</td>\n",
       "      <td>Snohomish</td>\n",
       "      <td>Washington</td>\n",
       "      <td>1</td>\n",
       "      <td>0.0</td>\n",
       "      <td>1</td>\n",
       "      <td>2020</td>\n",
       "      <td>0.000</td>\n",
       "    </tr>\n",
       "    <tr>\n",
       "      <th>3</th>\n",
       "      <td>2020-01-24</td>\n",
       "      <td>Cook</td>\n",
       "      <td>Illinois</td>\n",
       "      <td>1</td>\n",
       "      <td>0.0</td>\n",
       "      <td>1</td>\n",
       "      <td>2020</td>\n",
       "      <td>0.000</td>\n",
       "    </tr>\n",
       "    <tr>\n",
       "      <th>4</th>\n",
       "      <td>2020-01-24</td>\n",
       "      <td>Snohomish</td>\n",
       "      <td>Washington</td>\n",
       "      <td>1</td>\n",
       "      <td>0.0</td>\n",
       "      <td>1</td>\n",
       "      <td>2020</td>\n",
       "      <td>0.000</td>\n",
       "    </tr>\n",
       "    <tr>\n",
       "      <th>...</th>\n",
       "      <td>...</td>\n",
       "      <td>...</td>\n",
       "      <td>...</td>\n",
       "      <td>...</td>\n",
       "      <td>...</td>\n",
       "      <td>...</td>\n",
       "      <td>...</td>\n",
       "      <td>...</td>\n",
       "    </tr>\n",
       "    <tr>\n",
       "      <th>2502827</th>\n",
       "      <td>2022-05-13</td>\n",
       "      <td>Sweetwater</td>\n",
       "      <td>Wyoming</td>\n",
       "      <td>11088</td>\n",
       "      <td>126.0</td>\n",
       "      <td>5</td>\n",
       "      <td>2022</td>\n",
       "      <td>1.136</td>\n",
       "    </tr>\n",
       "    <tr>\n",
       "      <th>2502828</th>\n",
       "      <td>2022-05-13</td>\n",
       "      <td>Teton</td>\n",
       "      <td>Wyoming</td>\n",
       "      <td>10074</td>\n",
       "      <td>16.0</td>\n",
       "      <td>5</td>\n",
       "      <td>2022</td>\n",
       "      <td>0.159</td>\n",
       "    </tr>\n",
       "    <tr>\n",
       "      <th>2502829</th>\n",
       "      <td>2022-05-13</td>\n",
       "      <td>Uinta</td>\n",
       "      <td>Wyoming</td>\n",
       "      <td>5643</td>\n",
       "      <td>39.0</td>\n",
       "      <td>5</td>\n",
       "      <td>2022</td>\n",
       "      <td>0.691</td>\n",
       "    </tr>\n",
       "    <tr>\n",
       "      <th>2502830</th>\n",
       "      <td>2022-05-13</td>\n",
       "      <td>Washakie</td>\n",
       "      <td>Wyoming</td>\n",
       "      <td>2358</td>\n",
       "      <td>44.0</td>\n",
       "      <td>5</td>\n",
       "      <td>2022</td>\n",
       "      <td>1.866</td>\n",
       "    </tr>\n",
       "    <tr>\n",
       "      <th>2502831</th>\n",
       "      <td>2022-05-13</td>\n",
       "      <td>Weston</td>\n",
       "      <td>Wyoming</td>\n",
       "      <td>1588</td>\n",
       "      <td>18.0</td>\n",
       "      <td>5</td>\n",
       "      <td>2022</td>\n",
       "      <td>1.134</td>\n",
       "    </tr>\n",
       "  </tbody>\n",
       "</table>\n",
       "<p>2502832 rows × 8 columns</p>\n",
       "</div>"
      ],
      "text/plain": [
       "              Date      County       State  Cases  Deaths  Month  Year  \\\n",
       "0       2020-01-21   Snohomish  Washington      1     0.0      1  2020   \n",
       "1       2020-01-22   Snohomish  Washington      1     0.0      1  2020   \n",
       "2       2020-01-23   Snohomish  Washington      1     0.0      1  2020   \n",
       "3       2020-01-24        Cook    Illinois      1     0.0      1  2020   \n",
       "4       2020-01-24   Snohomish  Washington      1     0.0      1  2020   \n",
       "...            ...         ...         ...    ...     ...    ...   ...   \n",
       "2502827 2022-05-13  Sweetwater     Wyoming  11088   126.0      5  2022   \n",
       "2502828 2022-05-13       Teton     Wyoming  10074    16.0      5  2022   \n",
       "2502829 2022-05-13       Uinta     Wyoming   5643    39.0      5  2022   \n",
       "2502830 2022-05-13    Washakie     Wyoming   2358    44.0      5  2022   \n",
       "2502831 2022-05-13      Weston     Wyoming   1588    18.0      5  2022   \n",
       "\n",
       "         D/C Ratio  \n",
       "0            0.000  \n",
       "1            0.000  \n",
       "2            0.000  \n",
       "3            0.000  \n",
       "4            0.000  \n",
       "...            ...  \n",
       "2502827      1.136  \n",
       "2502828      0.159  \n",
       "2502829      0.691  \n",
       "2502830      1.866  \n",
       "2502831      1.134  \n",
       "\n",
       "[2502832 rows x 8 columns]"
      ]
     },
     "execution_count": 561,
     "metadata": {},
     "output_type": "execute_result"
    }
   ],
   "source": [
    "covid_data"
   ]
  },
  {
   "cell_type": "code",
   "execution_count": null,
   "id": "11cdd593-3fe6-4375-a55c-493104e64ccb",
   "metadata": {},
   "outputs": [],
   "source": [
    "# EDA\n",
    "# Clustering\n",
    "# Treating Null Values and Outliers\n",
    "# Ml Model Overview"
   ]
  }
 ],
 "metadata": {
  "kernelspec": {
   "display_name": "Python 3 (ipykernel)",
   "language": "python",
   "name": "python3"
  },
  "language_info": {
   "codemirror_mode": {
    "name": "ipython",
    "version": 3
   },
   "file_extension": ".py",
   "mimetype": "text/x-python",
   "name": "python",
   "nbconvert_exporter": "python",
   "pygments_lexer": "ipython3",
   "version": "3.11.7"
  }
 },
 "nbformat": 4,
 "nbformat_minor": 5
}
